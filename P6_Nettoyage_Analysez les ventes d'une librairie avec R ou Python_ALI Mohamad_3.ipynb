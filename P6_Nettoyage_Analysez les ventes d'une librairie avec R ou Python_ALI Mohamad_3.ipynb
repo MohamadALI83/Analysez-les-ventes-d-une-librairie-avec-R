{
 "cells": [
  {
   "cell_type": "markdown",
   "id": "3e6af5be-551a-47dc-8a37-05c1e9cacec2",
   "metadata": {},
   "source": [
    "![image](Logo_P6.JPG)"
   ]
  },
  {
   "cell_type": "markdown",
   "id": "3e4afdd5-781c-4052-b382-0682cae78846",
   "metadata": {},
   "source": [
    "<h1 style = \"text-align:center; color:blue;border: solid blue 3px;padding-top:15px;padding-bottom:15px;\"> 1-Nettoyage_Projet 6 : Analysez les ventes d'une librairie avec R  </h1>"
   ]
  },
  {
   "cell_type": "markdown",
   "id": "579eb579-bf43-48f3-973f-ad944ba00124",
   "metadata": {},
   "source": [
    "Lapage était originellement une librairie physique avec plusieurs points de vente. Mais devant le succès de certains de ses produits et l’engouement de ses clients, elle a décidé depuis 2 ans d’ouvrir un site de vente en ligne et il souhaite faire le point, et pouvoir analyser ses points forts, ses points faibles, les comportements clients, etc. par exemple décider s'il doit créer certaines offres, adapter certains prix, etc.\n",
    "\n",
    "**Cette analyse va être découpée en deux parties** :\n",
    "\n",
    "***Demande d'Antoine***, chargé de produit marketing, Une analyse des différents indicateurs de vente :\n",
    "\n",
    "1- Les différents indicateurs et graphiques autour du chiffre d'affaires.\n",
    "\n",
    "2- L’évolution dans le temps et mettre en place une décomposition en moyenne mobile pour évaluer la tendance globale.\n",
    "\n",
    "3- Un zoom sur les références, pour voir un peu les tops et les flops, la répartition par catégorie, etc.\n",
    "\n",
    "4- Informations sur les profils de nos clients, et également la répartition du chiffre d'affaires entre eux, via par exemple une courbe de Lorenz.\n",
    "\n",
    "5- Toutes les informations et tous graphiques qui apporteraient de l’information pertinente sont les bienvenus !\n",
    "\n",
    "***Demandes de Julie***, chargée d’études en marketing : Une analyse plus ciblée sur les clients afin de comprendre le comportement de nos clients en ligne, pour pouvoir ensuite comparer avec la connaissance acquise via nos librairies physiques :\n",
    "\n",
    "1- Le lien entre le genre d’un client et les catégories des livres achetés.\n",
    "\n",
    "2- Le lien entre l’âge des clients et \n",
    "\n",
    "A- Le montant total des achats, \n",
    "\n",
    "B- La fréquence d’achat, \n",
    "\n",
    "C- La taille du panier moyen et \n",
    "\n",
    "D- Les catégories des livres achetés."
   ]
  },
  {
   "cell_type": "code",
   "execution_count": 1,
   "id": "df0fddde-7b98-4b26-907c-2b4bd0dffceb",
   "metadata": {},
   "outputs": [],
   "source": [
    "rm(list=ls()) # On efface le cache (Pour ne pas saturer la mémoire vive Ram)"
   ]
  },
  {
   "cell_type": "markdown",
   "id": "ac7b8570-381c-4ca2-8e43-23483d770e85",
   "metadata": {},
   "source": [
    "<a id=\"sec:librairies\"></a>\n",
    "\n",
    "---\n",
    "#### *Les librairies utiles pour le projet*\n",
    "---"
   ]
  },
  {
   "cell_type": "code",
   "execution_count": 4,
   "id": "ad3a28a9-83aa-4b8b-9b5b-ee24a72b7ac0",
   "metadata": {},
   "outputs": [],
   "source": [
    "library(\"readxl\")\n",
    "library(data.table)\n",
    "library(dplyr)\n",
    "library(stringr)\n",
    "library(\"ggplot2\")\n",
    "library(tidyverse)\n",
    "library(\"lubridate\")"
   ]
  },
  {
   "cell_type": "markdown",
   "id": "0840311e-b842-4f00-a065-d4e520d811fc",
   "metadata": {},
   "source": [
    "<a id=\"sec:xlsx\"></a>\n",
    "\n",
    "#### *Importation des données (csv)*\n",
    "---"
   ]
  },
  {
   "cell_type": "markdown",
   "id": "5538ece3-cd7f-405f-9cdd-aad4e9d51223",
   "metadata": {},
   "source": [
    "Il y a 3 fichiers csv à disposition : Clients, Produits et Transactions"
   ]
  },
  {
   "cell_type": "markdown",
   "id": "a5bdfc96-bc6d-4bad-be92-c168b4210f7a",
   "metadata": {},
   "source": [
    "- ##### Clients"
   ]
  },
  {
   "cell_type": "code",
   "execution_count": 5,
   "id": "0e7e0ff2-9816-4831-8fc2-191178a9005c",
   "metadata": {
    "tags": []
   },
   "outputs": [
    {
     "data": {
      "text/html": [
       "<style>\n",
       ".list-inline {list-style: none; margin:0; padding: 0}\n",
       ".list-inline>li {display: inline-block}\n",
       ".list-inline>li:not(:last-child)::after {content: \"\\00b7\"; padding: 0 .5ex}\n",
       "</style>\n",
       "<ol class=list-inline><li>8623</li><li>3</li></ol>\n"
      ],
      "text/latex": [
       "\\begin{enumerate*}\n",
       "\\item 8623\n",
       "\\item 3\n",
       "\\end{enumerate*}\n"
      ],
      "text/markdown": [
       "1. 8623\n",
       "2. 3\n",
       "\n",
       "\n"
      ],
      "text/plain": [
       "[1] 8623    3"
      ]
     },
     "metadata": {},
     "output_type": "display_data"
    },
    {
     "data": {
      "text/html": [
       "<table class=\"dataframe\">\n",
       "<caption>A data.table: 3 × 3</caption>\n",
       "<thead>\n",
       "\t<tr><th scope=col>client_id</th><th scope=col>sex</th><th scope=col>birth</th></tr>\n",
       "\t<tr><th scope=col>&lt;chr&gt;</th><th scope=col>&lt;chr&gt;</th><th scope=col>&lt;int&gt;</th></tr>\n",
       "</thead>\n",
       "<tbody>\n",
       "\t<tr><td>c_4410</td><td>f</td><td>1967</td></tr>\n",
       "\t<tr><td>c_7839</td><td>f</td><td>1975</td></tr>\n",
       "\t<tr><td>c_1699</td><td>f</td><td>1984</td></tr>\n",
       "</tbody>\n",
       "</table>\n"
      ],
      "text/latex": [
       "A data.table: 3 × 3\n",
       "\\begin{tabular}{lll}\n",
       " client\\_id & sex & birth\\\\\n",
       " <chr> & <chr> & <int>\\\\\n",
       "\\hline\n",
       "\t c\\_4410 & f & 1967\\\\\n",
       "\t c\\_7839 & f & 1975\\\\\n",
       "\t c\\_1699 & f & 1984\\\\\n",
       "\\end{tabular}\n"
      ],
      "text/markdown": [
       "\n",
       "A data.table: 3 × 3\n",
       "\n",
       "| client_id &lt;chr&gt; | sex &lt;chr&gt; | birth &lt;int&gt; |\n",
       "|---|---|---|\n",
       "| c_4410 | f | 1967 |\n",
       "| c_7839 | f | 1975 |\n",
       "| c_1699 | f | 1984 |\n",
       "\n"
      ],
      "text/plain": [
       "  client_id sex birth\n",
       "1 c_4410    f   1967 \n",
       "2 c_7839    f   1975 \n",
       "3 c_1699    f   1984 "
      ]
     },
     "metadata": {},
     "output_type": "display_data"
    }
   ],
   "source": [
    "Clients <- fread(\"RESSOURCES/customers.csv\", encoding = \"UTF-8\")\n",
    "Clients <- setDT(Clients) # on transforme les données d'entrée en data table pour faciliter le traitement\n",
    "dim(Clients) #8621   3    8623    3\n",
    "head(Clients,3)"
   ]
  },
  {
   "cell_type": "markdown",
   "id": "fd8239db-72d8-4a1b-baea-045ab781b43c",
   "metadata": {},
   "source": [
    "- ##### Produits"
   ]
  },
  {
   "cell_type": "code",
   "execution_count": 6,
   "id": "fe625145-732e-4bae-aae7-8a78837af977",
   "metadata": {
    "tags": []
   },
   "outputs": [
    {
     "data": {
      "text/html": [
       "<style>\n",
       ".list-inline {list-style: none; margin:0; padding: 0}\n",
       ".list-inline>li {display: inline-block}\n",
       ".list-inline>li:not(:last-child)::after {content: \"\\00b7\"; padding: 0 .5ex}\n",
       "</style>\n",
       "<ol class=list-inline><li>3287</li><li>3</li></ol>\n"
      ],
      "text/latex": [
       "\\begin{enumerate*}\n",
       "\\item 3287\n",
       "\\item 3\n",
       "\\end{enumerate*}\n"
      ],
      "text/markdown": [
       "1. 3287\n",
       "2. 3\n",
       "\n",
       "\n"
      ],
      "text/plain": [
       "[1] 3287    3"
      ]
     },
     "metadata": {},
     "output_type": "display_data"
    },
    {
     "data": {
      "text/html": [
       "<table class=\"dataframe\">\n",
       "<caption>A data.table: 3 × 3</caption>\n",
       "<thead>\n",
       "\t<tr><th scope=col>id_prod</th><th scope=col>price</th><th scope=col>categ</th></tr>\n",
       "\t<tr><th scope=col>&lt;chr&gt;</th><th scope=col>&lt;dbl&gt;</th><th scope=col>&lt;int&gt;</th></tr>\n",
       "</thead>\n",
       "<tbody>\n",
       "\t<tr><td>0_1421</td><td>19.99</td><td>0</td></tr>\n",
       "\t<tr><td>0_1368</td><td> 5.13</td><td>0</td></tr>\n",
       "\t<tr><td>0_731 </td><td>17.99</td><td>0</td></tr>\n",
       "</tbody>\n",
       "</table>\n"
      ],
      "text/latex": [
       "A data.table: 3 × 3\n",
       "\\begin{tabular}{lll}\n",
       " id\\_prod & price & categ\\\\\n",
       " <chr> & <dbl> & <int>\\\\\n",
       "\\hline\n",
       "\t 0\\_1421 & 19.99 & 0\\\\\n",
       "\t 0\\_1368 &  5.13 & 0\\\\\n",
       "\t 0\\_731  & 17.99 & 0\\\\\n",
       "\\end{tabular}\n"
      ],
      "text/markdown": [
       "\n",
       "A data.table: 3 × 3\n",
       "\n",
       "| id_prod &lt;chr&gt; | price &lt;dbl&gt; | categ &lt;int&gt; |\n",
       "|---|---|---|\n",
       "| 0_1421 | 19.99 | 0 |\n",
       "| 0_1368 |  5.13 | 0 |\n",
       "| 0_731  | 17.99 | 0 |\n",
       "\n"
      ],
      "text/plain": [
       "  id_prod price categ\n",
       "1 0_1421  19.99 0    \n",
       "2 0_1368   5.13 0    \n",
       "3 0_731   17.99 0    "
      ]
     },
     "metadata": {},
     "output_type": "display_data"
    }
   ],
   "source": [
    "Produits <- fread(\"RESSOURCES/products.csv\", encoding = \"UTF-8\")\n",
    "Produits <- setDT(Produits) # on transforme les données d'entrée en data table pour faciliter le traitement\n",
    "dim(Produits) # 3287 X 3\n",
    "head(Produits,3)"
   ]
  },
  {
   "cell_type": "markdown",
   "id": "dd7cd96f-71d3-43c7-a3e2-0275a9da8b8f",
   "metadata": {},
   "source": [
    "- ##### Transactions"
   ]
  },
  {
   "cell_type": "code",
   "execution_count": 7,
   "id": "7517e973-f331-4ead-9f35-fa40ef30b464",
   "metadata": {
    "tags": []
   },
   "outputs": [
    {
     "data": {
      "text/html": [
       "<style>\n",
       ".list-inline {list-style: none; margin:0; padding: 0}\n",
       ".list-inline>li {display: inline-block}\n",
       ".list-inline>li:not(:last-child)::after {content: \"\\00b7\"; padding: 0 .5ex}\n",
       "</style>\n",
       "<ol class=list-inline><li>679532</li><li>4</li></ol>\n"
      ],
      "text/latex": [
       "\\begin{enumerate*}\n",
       "\\item 679532\n",
       "\\item 4\n",
       "\\end{enumerate*}\n"
      ],
      "text/markdown": [
       "1. 679532\n",
       "2. 4\n",
       "\n",
       "\n"
      ],
      "text/plain": [
       "[1] 679532      4"
      ]
     },
     "metadata": {},
     "output_type": "display_data"
    },
    {
     "data": {
      "text/html": [
       "<table class=\"dataframe\">\n",
       "<caption>A data.table: 3 × 4</caption>\n",
       "<thead>\n",
       "\t<tr><th scope=col>id_prod</th><th scope=col>date</th><th scope=col>session_id</th><th scope=col>client_id</th></tr>\n",
       "\t<tr><th scope=col>&lt;chr&gt;</th><th scope=col>&lt;chr&gt;</th><th scope=col>&lt;chr&gt;</th><th scope=col>&lt;chr&gt;</th></tr>\n",
       "</thead>\n",
       "<tbody>\n",
       "\t<tr><td>0_1518</td><td>2022-05-20 13:21:29.043970</td><td>s_211425</td><td>c_103 </td></tr>\n",
       "\t<tr><td>1_251 </td><td>2022-02-02 07:55:19.149409</td><td>s_158752</td><td>c_8534</td></tr>\n",
       "\t<tr><td>0_1277</td><td>2022-06-18 15:44:33.155329</td><td>s_225667</td><td>c_6714</td></tr>\n",
       "</tbody>\n",
       "</table>\n"
      ],
      "text/latex": [
       "A data.table: 3 × 4\n",
       "\\begin{tabular}{llll}\n",
       " id\\_prod & date & session\\_id & client\\_id\\\\\n",
       " <chr> & <chr> & <chr> & <chr>\\\\\n",
       "\\hline\n",
       "\t 0\\_1518 & 2022-05-20 13:21:29.043970 & s\\_211425 & c\\_103 \\\\\n",
       "\t 1\\_251  & 2022-02-02 07:55:19.149409 & s\\_158752 & c\\_8534\\\\\n",
       "\t 0\\_1277 & 2022-06-18 15:44:33.155329 & s\\_225667 & c\\_6714\\\\\n",
       "\\end{tabular}\n"
      ],
      "text/markdown": [
       "\n",
       "A data.table: 3 × 4\n",
       "\n",
       "| id_prod &lt;chr&gt; | date &lt;chr&gt; | session_id &lt;chr&gt; | client_id &lt;chr&gt; |\n",
       "|---|---|---|---|\n",
       "| 0_1518 | 2022-05-20 13:21:29.043970 | s_211425 | c_103  |\n",
       "| 1_251  | 2022-02-02 07:55:19.149409 | s_158752 | c_8534 |\n",
       "| 0_1277 | 2022-06-18 15:44:33.155329 | s_225667 | c_6714 |\n",
       "\n"
      ],
      "text/plain": [
       "  id_prod date                       session_id client_id\n",
       "1 0_1518  2022-05-20 13:21:29.043970 s_211425   c_103    \n",
       "2 1_251   2022-02-02 07:55:19.149409 s_158752   c_8534   \n",
       "3 0_1277  2022-06-18 15:44:33.155329 s_225667   c_6714   "
      ]
     },
     "metadata": {},
     "output_type": "display_data"
    }
   ],
   "source": [
    "Transactions <- fread(\"RESSOURCES/transactions.csv\", encoding = \"UTF-8\")\n",
    "Transactions <- setDT(Transactions) # on transforme les données d'entrée en data table pour faciliter le traitement\n",
    "dim(Transactions) # 679532 X 4\n",
    "head(Transactions,3)"
   ]
  },
  {
   "cell_type": "markdown",
   "id": "e96285f2-2a40-4a54-aebb-804699eed8a4",
   "metadata": {},
   "source": [
    "<a id=\"sec:Détecter\"></a>\n",
    "\n",
    "### 1. Détecter les erreurs\n",
    "---"
   ]
  },
  {
   "cell_type": "markdown",
   "id": "f49f400b-1854-4ba0-b199-f9d2a9151329",
   "metadata": {},
   "source": [
    "<a id=\"sec:type\"></a>\n",
    "\n",
    "#### *Erreurs de type*\n",
    "---"
   ]
  },
  {
   "cell_type": "markdown",
   "id": "bf9462b3-5a4c-4f8c-a341-e2ddab3d271e",
   "metadata": {},
   "source": [
    "Le premier reflexe devrait être de vérifier que les variables ont bien été importées dans le bon type :"
   ]
  },
  {
   "cell_type": "markdown",
   "id": "43a22aed-e5c8-4767-b830-01d925cb1b4a",
   "metadata": {},
   "source": [
    "- ##### Clients"
   ]
  },
  {
   "cell_type": "code",
   "execution_count": 7,
   "id": "79d3ba17-f660-4dc2-ae17-dc740f1a5d18",
   "metadata": {},
   "outputs": [
    {
     "name": "stdout",
     "output_type": "stream",
     "text": [
      "Classes ‘data.table’ and 'data.frame':\t8623 obs. of  3 variables:\n",
      " $ client_id: chr  \"c_4410\" \"c_7839\" \"c_1699\" \"c_5961\" ...\n",
      " $ sex      : chr  \"f\" \"f\" \"f\" \"f\" ...\n",
      " $ birth    : int  1967 1975 1984 1962 1943 1993 1967 1978 1971 1993 ...\n",
      " - attr(*, \".internal.selfref\")=<externalptr> \n"
     ]
    }
   ],
   "source": [
    "str(Clients)"
   ]
  },
  {
   "cell_type": "markdown",
   "id": "32b1ea17-168c-4251-882d-dfe36e19c1ed",
   "metadata": {},
   "source": [
    "- ##### Produits"
   ]
  },
  {
   "cell_type": "code",
   "execution_count": 8,
   "id": "069d993f-a94d-473d-8f94-c1e8c287550c",
   "metadata": {},
   "outputs": [
    {
     "name": "stdout",
     "output_type": "stream",
     "text": [
      "Classes ‘data.table’ and 'data.frame':\t3287 obs. of  3 variables:\n",
      " $ id_prod: chr  \"0_1421\" \"0_1368\" \"0_731\" \"1_587\" ...\n",
      " $ price  : num  19.99 5.13 17.99 4.99 3.99 ...\n",
      " $ categ  : int  0 0 0 1 0 0 1 0 0 0 ...\n",
      " - attr(*, \".internal.selfref\")=<externalptr> \n"
     ]
    }
   ],
   "source": [
    "str(Produits)"
   ]
  },
  {
   "cell_type": "code",
   "execution_count": 9,
   "id": "2ff0329b-02f4-480e-b399-25afc7e98c59",
   "metadata": {},
   "outputs": [],
   "source": [
    "Produits <- Produits[, categ:=as.character(categ)]"
   ]
  },
  {
   "cell_type": "code",
   "execution_count": 10,
   "id": "bbbe9ca0-4fb1-4928-9dee-27c4553df516",
   "metadata": {},
   "outputs": [
    {
     "name": "stdout",
     "output_type": "stream",
     "text": [
      "Classes ‘data.table’ and 'data.frame':\t3287 obs. of  3 variables:\n",
      " $ id_prod: chr  \"0_1421\" \"0_1368\" \"0_731\" \"1_587\" ...\n",
      " $ price  : num  19.99 5.13 17.99 4.99 3.99 ...\n",
      " $ categ  : chr  \"0\" \"0\" \"0\" \"1\" ...\n",
      " - attr(*, \".internal.selfref\")=<externalptr> \n"
     ]
    }
   ],
   "source": [
    "str(Produits)"
   ]
  },
  {
   "cell_type": "markdown",
   "id": "d4c92640-afd2-4060-aa77-331836dda4b8",
   "metadata": {},
   "source": [
    "- ##### Transactions"
   ]
  },
  {
   "cell_type": "code",
   "execution_count": 11,
   "id": "eb159f12-d8d6-4f24-b17b-d472952f0727",
   "metadata": {},
   "outputs": [
    {
     "name": "stdout",
     "output_type": "stream",
     "text": [
      "Classes ‘data.table’ and 'data.frame':\t679532 obs. of  4 variables:\n",
      " $ id_prod   : chr  \"0_1518\" \"1_251\" \"0_1277\" \"2_209\" ...\n",
      " $ date      : chr  \"2022-05-20 13:21:29.043970\" \"2022-02-02 07:55:19.149409\" \"2022-06-18 15:44:33.155329\" \"2021-06-24 04:19:29.835891\" ...\n",
      " $ session_id: chr  \"s_211425\" \"s_158752\" \"s_225667\" \"s_52962\" ...\n",
      " $ client_id : chr  \"c_103\" \"c_8534\" \"c_6714\" \"c_6941\" ...\n",
      " - attr(*, \".internal.selfref\")=<externalptr> \n"
     ]
    }
   ],
   "source": [
    "str(Transactions)"
   ]
  },
  {
   "cell_type": "markdown",
   "id": "262bcbe3-e30d-4ecd-af35-a671c2e0cb49",
   "metadata": {},
   "source": [
    "<a id=\"sec:NA\"></a>\n",
    "\n",
    "---\n",
    "#### *Valeurs manquantes*\n",
    "---"
   ]
  },
  {
   "cell_type": "markdown",
   "id": "b3b639e2-00f2-47f9-8883-6723601400a7",
   "metadata": {},
   "source": [
    "- ##### Clients"
   ]
  },
  {
   "cell_type": "code",
   "execution_count": 12,
   "id": "8c225a9a-ce7c-4a77-8dcb-081ad209c0a7",
   "metadata": {},
   "outputs": [],
   "source": [
    "valeurs_manquantes <- function(arg_float) {\n",
    "    sapply(arg_float, function(y) sum(is.na(y)))          \n",
    "}\n",
    "\n",
    "valeurs_manquantes_real <- function(arg_float, arg_string) { \n",
    "    nb_na = sapply(arg_float, function(y) sum(is.na(y)))#Valeurs manquantes\n",
    "    nb_na = nb_na[nb_na>0]\n",
    "    View(nb_na)\n",
    "    sprintf(\"Le nombre total de valeurs manques dans %s est : %d.\", arg_string, sum(nb_na))\n",
    "} "
   ]
  },
  {
   "cell_type": "code",
   "execution_count": 13,
   "id": "13f01c87-b053-4873-81a0-06fa9dc51f80",
   "metadata": {},
   "outputs": [
    {
     "data": {
      "text/html": [
       "<style>\n",
       ".dl-inline {width: auto; margin:0; padding: 0}\n",
       ".dl-inline>dt, .dl-inline>dd {float: none; width: auto; display: inline-block}\n",
       ".dl-inline>dt::after {content: \":\\0020\"; padding-right: .5ex}\n",
       ".dl-inline>dt:not(:first-of-type) {padding-left: .5ex}\n",
       "</style><dl class=dl-inline><dt>client_id</dt><dd>0</dd><dt>sex</dt><dd>0</dd><dt>birth</dt><dd>0</dd></dl>\n"
      ],
      "text/latex": [
       "\\begin{description*}\n",
       "\\item[client\\textbackslash{}\\_id] 0\n",
       "\\item[sex] 0\n",
       "\\item[birth] 0\n",
       "\\end{description*}\n"
      ],
      "text/markdown": [
       "client_id\n",
       ":   0sex\n",
       ":   0birth\n",
       ":   0\n",
       "\n"
      ],
      "text/plain": [
       "client_id       sex     birth \n",
       "        0         0         0 "
      ]
     },
     "metadata": {},
     "output_type": "display_data"
    },
    {
     "data": {
      "text/html": [],
      "text/latex": [],
      "text/markdown": [],
      "text/plain": [
       "named integer(0)"
      ]
     },
     "metadata": {},
     "output_type": "display_data"
    },
    {
     "data": {
      "text/html": [
       "'Le nombre total de valeurs manques dans Clients est : 0.'"
      ],
      "text/latex": [
       "'Le nombre total de valeurs manques dans Clients est : 0.'"
      ],
      "text/markdown": [
       "'Le nombre total de valeurs manques dans Clients est : 0.'"
      ],
      "text/plain": [
       "[1] \"Le nombre total de valeurs manques dans Clients est : 0.\""
      ]
     },
     "metadata": {},
     "output_type": "display_data"
    }
   ],
   "source": [
    "valeurs_manquantes(Clients)\n",
    "valeurs_manquantes_real(Clients,\"Clients\")"
   ]
  },
  {
   "cell_type": "markdown",
   "id": "a64e6ca4-960f-4219-8686-377ae324cf35",
   "metadata": {},
   "source": [
    "- ##### Produits"
   ]
  },
  {
   "cell_type": "code",
   "execution_count": 14,
   "id": "e8658d32-8890-480f-9ba7-447935784543",
   "metadata": {},
   "outputs": [
    {
     "data": {
      "text/html": [
       "<style>\n",
       ".dl-inline {width: auto; margin:0; padding: 0}\n",
       ".dl-inline>dt, .dl-inline>dd {float: none; width: auto; display: inline-block}\n",
       ".dl-inline>dt::after {content: \":\\0020\"; padding-right: .5ex}\n",
       ".dl-inline>dt:not(:first-of-type) {padding-left: .5ex}\n",
       "</style><dl class=dl-inline><dt>id_prod</dt><dd>0</dd><dt>price</dt><dd>0</dd><dt>categ</dt><dd>0</dd></dl>\n"
      ],
      "text/latex": [
       "\\begin{description*}\n",
       "\\item[id\\textbackslash{}\\_prod] 0\n",
       "\\item[price] 0\n",
       "\\item[categ] 0\n",
       "\\end{description*}\n"
      ],
      "text/markdown": [
       "id_prod\n",
       ":   0price\n",
       ":   0categ\n",
       ":   0\n",
       "\n"
      ],
      "text/plain": [
       "id_prod   price   categ \n",
       "      0       0       0 "
      ]
     },
     "metadata": {},
     "output_type": "display_data"
    },
    {
     "data": {
      "text/html": [],
      "text/latex": [],
      "text/markdown": [],
      "text/plain": [
       "named integer(0)"
      ]
     },
     "metadata": {},
     "output_type": "display_data"
    },
    {
     "data": {
      "text/html": [
       "'Le nombre total de valeurs manques dans Produits est : 0.'"
      ],
      "text/latex": [
       "'Le nombre total de valeurs manques dans Produits est : 0.'"
      ],
      "text/markdown": [
       "'Le nombre total de valeurs manques dans Produits est : 0.'"
      ],
      "text/plain": [
       "[1] \"Le nombre total de valeurs manques dans Produits est : 0.\""
      ]
     },
     "metadata": {},
     "output_type": "display_data"
    }
   ],
   "source": [
    "valeurs_manquantes(Produits)\n",
    "valeurs_manquantes_real(Produits,\"Produits\") #Produits"
   ]
  },
  {
   "cell_type": "markdown",
   "id": "60b539e9-0629-40db-bce1-780381117d59",
   "metadata": {},
   "source": [
    "- ##### Transactions"
   ]
  },
  {
   "cell_type": "code",
   "execution_count": 15,
   "id": "95a90942-c737-401b-9ce3-6d3fa5002d25",
   "metadata": {},
   "outputs": [
    {
     "data": {
      "text/html": [
       "<style>\n",
       ".dl-inline {width: auto; margin:0; padding: 0}\n",
       ".dl-inline>dt, .dl-inline>dd {float: none; width: auto; display: inline-block}\n",
       ".dl-inline>dt::after {content: \":\\0020\"; padding-right: .5ex}\n",
       ".dl-inline>dt:not(:first-of-type) {padding-left: .5ex}\n",
       "</style><dl class=dl-inline><dt>id_prod</dt><dd>0</dd><dt>date</dt><dd>0</dd><dt>session_id</dt><dd>0</dd><dt>client_id</dt><dd>0</dd></dl>\n"
      ],
      "text/latex": [
       "\\begin{description*}\n",
       "\\item[id\\textbackslash{}\\_prod] 0\n",
       "\\item[date] 0\n",
       "\\item[session\\textbackslash{}\\_id] 0\n",
       "\\item[client\\textbackslash{}\\_id] 0\n",
       "\\end{description*}\n"
      ],
      "text/markdown": [
       "id_prod\n",
       ":   0date\n",
       ":   0session_id\n",
       ":   0client_id\n",
       ":   0\n",
       "\n"
      ],
      "text/plain": [
       "   id_prod       date session_id  client_id \n",
       "         0          0          0          0 "
      ]
     },
     "metadata": {},
     "output_type": "display_data"
    },
    {
     "data": {
      "text/html": [],
      "text/latex": [],
      "text/markdown": [],
      "text/plain": [
       "named integer(0)"
      ]
     },
     "metadata": {},
     "output_type": "display_data"
    },
    {
     "data": {
      "text/html": [
       "'Le nombre total de valeurs manques dans Transactions est : 0.'"
      ],
      "text/latex": [
       "'Le nombre total de valeurs manques dans Transactions est : 0.'"
      ],
      "text/markdown": [
       "'Le nombre total de valeurs manques dans Transactions est : 0.'"
      ],
      "text/plain": [
       "[1] \"Le nombre total de valeurs manques dans Transactions est : 0.\""
      ]
     },
     "metadata": {},
     "output_type": "display_data"
    }
   ],
   "source": [
    "valeurs_manquantes(Transactions)\n",
    "valeurs_manquantes_real(Transactions,\"Transactions\") #Transactions"
   ]
  },
  {
   "cell_type": "markdown",
   "id": "24392942-1b6d-4950-a2ab-c9212d69a6b9",
   "metadata": {},
   "source": [
    "<a id=\"sec:Doublons\"></a>\n",
    "\n",
    "---\n",
    "#### *Doublons*\n",
    "---\n",
    "\n",
    "- ##### Clients"
   ]
  },
  {
   "cell_type": "code",
   "execution_count": 16,
   "id": "55885148-c208-47e0-b956-19c10409fda1",
   "metadata": {},
   "outputs": [
    {
     "name": "stdout",
     "output_type": "stream",
     "text": [
      "[1] \"Le nombre total de valeurs doublons dans la variable client_id de Clients est : 0 .\"\n"
     ]
    }
   ],
   "source": [
    "print(paste(\"Le nombre total de valeurs doublons dans la variable client_id de Clients est :\", \n",
    "            sum(duplicated(Clients$client_id)),\".\")) #Valeurs Doublons"
   ]
  },
  {
   "cell_type": "markdown",
   "id": "573ec25b-659a-4570-aa30-9e18f6592f1f",
   "metadata": {},
   "source": [
    "- ##### Produits"
   ]
  },
  {
   "cell_type": "code",
   "execution_count": 17,
   "id": "86800df9-84e5-45cb-a9fd-d62d67416fe4",
   "metadata": {},
   "outputs": [
    {
     "name": "stdout",
     "output_type": "stream",
     "text": [
      "[1] \"Le nombre total de valeurs doublons dans la variable id_prod de Produits est : 0 .\"\n"
     ]
    }
   ],
   "source": [
    "print(paste(\"Le nombre total de valeurs doublons dans la variable id_prod de Produits est :\", \n",
    "            sum(duplicated(Produits$id_prod)),\".\")) #Valeurs Doublons"
   ]
  },
  {
   "cell_type": "markdown",
   "id": "83e0e3f5-9330-4f63-b741-f758ac06fa3b",
   "metadata": {},
   "source": [
    "<a id=\"sec:Fusionner\"></a>\n",
    "\n",
    "---\n",
    "### 2. Fusionner les données\n",
    "---"
   ]
  },
  {
   "cell_type": "markdown",
   "id": "cad6787b-8ad4-4586-bbeb-9ceb5a04cde4",
   "metadata": {},
   "source": [
    "\n",
    "\n",
    "#### 1er : Fusionner les deux tableaux Clients et Transactions par variable : client_id"
   ]
  },
  {
   "cell_type": "code",
   "execution_count": 18,
   "id": "4fc2f717-27aa-4f29-9c8b-69de86fd2f3e",
   "metadata": {},
   "outputs": [
    {
     "data": {
      "text/html": [
       "<style>\n",
       ".list-inline {list-style: none; margin:0; padding: 0}\n",
       ".list-inline>li {display: inline-block}\n",
       ".list-inline>li:not(:last-child)::after {content: \"\\00b7\"; padding: 0 .5ex}\n",
       "</style>\n",
       "<ol class=list-inline><li>679553</li><li>6</li></ol>\n"
      ],
      "text/latex": [
       "\\begin{enumerate*}\n",
       "\\item 679553\n",
       "\\item 6\n",
       "\\end{enumerate*}\n"
      ],
      "text/markdown": [
       "1. 679553\n",
       "2. 6\n",
       "\n",
       "\n"
      ],
      "text/plain": [
       "[1] 679553      6"
      ]
     },
     "metadata": {},
     "output_type": "display_data"
    },
    {
     "data": {
      "text/html": [
       "<table class=\"dataframe\">\n",
       "<caption>A data.table: 3 × 6</caption>\n",
       "<thead>\n",
       "\t<tr><th scope=col>client_id</th><th scope=col>sex</th><th scope=col>birth</th><th scope=col>id_prod</th><th scope=col>date</th><th scope=col>session_id</th></tr>\n",
       "\t<tr><th scope=col>&lt;chr&gt;</th><th scope=col>&lt;chr&gt;</th><th scope=col>&lt;int&gt;</th><th scope=col>&lt;chr&gt;</th><th scope=col>&lt;chr&gt;</th><th scope=col>&lt;chr&gt;</th></tr>\n",
       "</thead>\n",
       "<tbody>\n",
       "\t<tr><td>c_1</td><td>m</td><td>1955</td><td>0_1470</td><td>2021-06-11 21:02:39.382765</td><td>s_47346 </td></tr>\n",
       "\t<tr><td>c_1</td><td>m</td><td>1955</td><td>0_1429</td><td>2021-10-15 11:28:24.523566</td><td>s_105105</td></tr>\n",
       "\t<tr><td>c_1</td><td>m</td><td>1955</td><td>1_364 </td><td>2021-12-15 23:32:41.632729</td><td>s_134971</td></tr>\n",
       "</tbody>\n",
       "</table>\n"
      ],
      "text/latex": [
       "A data.table: 3 × 6\n",
       "\\begin{tabular}{llllll}\n",
       " client\\_id & sex & birth & id\\_prod & date & session\\_id\\\\\n",
       " <chr> & <chr> & <int> & <chr> & <chr> & <chr>\\\\\n",
       "\\hline\n",
       "\t c\\_1 & m & 1955 & 0\\_1470 & 2021-06-11 21:02:39.382765 & s\\_47346 \\\\\n",
       "\t c\\_1 & m & 1955 & 0\\_1429 & 2021-10-15 11:28:24.523566 & s\\_105105\\\\\n",
       "\t c\\_1 & m & 1955 & 1\\_364  & 2021-12-15 23:32:41.632729 & s\\_134971\\\\\n",
       "\\end{tabular}\n"
      ],
      "text/markdown": [
       "\n",
       "A data.table: 3 × 6\n",
       "\n",
       "| client_id &lt;chr&gt; | sex &lt;chr&gt; | birth &lt;int&gt; | id_prod &lt;chr&gt; | date &lt;chr&gt; | session_id &lt;chr&gt; |\n",
       "|---|---|---|---|---|---|\n",
       "| c_1 | m | 1955 | 0_1470 | 2021-06-11 21:02:39.382765 | s_47346  |\n",
       "| c_1 | m | 1955 | 0_1429 | 2021-10-15 11:28:24.523566 | s_105105 |\n",
       "| c_1 | m | 1955 | 1_364  | 2021-12-15 23:32:41.632729 | s_134971 |\n",
       "\n"
      ],
      "text/plain": [
       "  client_id sex birth id_prod date                       session_id\n",
       "1 c_1       m   1955  0_1470  2021-06-11 21:02:39.382765 s_47346   \n",
       "2 c_1       m   1955  0_1429  2021-10-15 11:28:24.523566 s_105105  \n",
       "3 c_1       m   1955  1_364   2021-12-15 23:32:41.632729 s_134971  "
      ]
     },
     "metadata": {},
     "output_type": "display_data"
    }
   ],
   "source": [
    "Transactions_Clients <- merge(Clients,Transactions,by=\"client_id\",all = T)\n",
    "dim(Transactions_Clients) #679553 X  6\n",
    "head(Transactions_Clients,3)"
   ]
  },
  {
   "cell_type": "markdown",
   "id": "35b3bd1e-937b-4f11-8e6e-d8dfc950476e",
   "metadata": {},
   "source": [
    "- #### 2eme : Fusionner (Transactions_Clients & web)\n",
    "\n",
    "2eme: Fusionner les deux tableaux Transactions_Clients et Produits par variable : id_prod"
   ]
  },
  {
   "cell_type": "code",
   "execution_count": 19,
   "id": "b575fe5b-8b17-4392-87ea-2b618d6c3505",
   "metadata": {},
   "outputs": [
    {
     "data": {
      "text/html": [
       "<style>\n",
       ".list-inline {list-style: none; margin:0; padding: 0}\n",
       ".list-inline>li {display: inline-block}\n",
       ".list-inline>li:not(:last-child)::after {content: \"\\00b7\"; padding: 0 .5ex}\n",
       "</style>\n",
       "<ol class=list-inline><li>679574</li><li>8</li></ol>\n"
      ],
      "text/latex": [
       "\\begin{enumerate*}\n",
       "\\item 679574\n",
       "\\item 8\n",
       "\\end{enumerate*}\n"
      ],
      "text/markdown": [
       "1. 679574\n",
       "2. 8\n",
       "\n",
       "\n"
      ],
      "text/plain": [
       "[1] 679574      8"
      ]
     },
     "metadata": {},
     "output_type": "display_data"
    },
    {
     "data": {
      "text/html": [
       "<table class=\"dataframe\">\n",
       "<caption>A data.table: 3 × 8</caption>\n",
       "<thead>\n",
       "\t<tr><th scope=col>id_prod</th><th scope=col>price</th><th scope=col>categ</th><th scope=col>client_id</th><th scope=col>sex</th><th scope=col>birth</th><th scope=col>date</th><th scope=col>session_id</th></tr>\n",
       "\t<tr><th scope=col>&lt;chr&gt;</th><th scope=col>&lt;dbl&gt;</th><th scope=col>&lt;chr&gt;</th><th scope=col>&lt;chr&gt;</th><th scope=col>&lt;chr&gt;</th><th scope=col>&lt;int&gt;</th><th scope=col>&lt;chr&gt;</th><th scope=col>&lt;chr&gt;</th></tr>\n",
       "</thead>\n",
       "<tbody>\n",
       "\t<tr><td>NA</td><td>NA</td><td>NA</td><td>c_1223</td><td>m</td><td>1963</td><td>NA</td><td>NA</td></tr>\n",
       "\t<tr><td>NA</td><td>NA</td><td>NA</td><td>c_2706</td><td>f</td><td>1967</td><td>NA</td><td>NA</td></tr>\n",
       "\t<tr><td>NA</td><td>NA</td><td>NA</td><td>c_3017</td><td>f</td><td>1992</td><td>NA</td><td>NA</td></tr>\n",
       "</tbody>\n",
       "</table>\n"
      ],
      "text/latex": [
       "A data.table: 3 × 8\n",
       "\\begin{tabular}{llllllll}\n",
       " id\\_prod & price & categ & client\\_id & sex & birth & date & session\\_id\\\\\n",
       " <chr> & <dbl> & <chr> & <chr> & <chr> & <int> & <chr> & <chr>\\\\\n",
       "\\hline\n",
       "\t NA & NA & NA & c\\_1223 & m & 1963 & NA & NA\\\\\n",
       "\t NA & NA & NA & c\\_2706 & f & 1967 & NA & NA\\\\\n",
       "\t NA & NA & NA & c\\_3017 & f & 1992 & NA & NA\\\\\n",
       "\\end{tabular}\n"
      ],
      "text/markdown": [
       "\n",
       "A data.table: 3 × 8\n",
       "\n",
       "| id_prod &lt;chr&gt; | price &lt;dbl&gt; | categ &lt;chr&gt; | client_id &lt;chr&gt; | sex &lt;chr&gt; | birth &lt;int&gt; | date &lt;chr&gt; | session_id &lt;chr&gt; |\n",
       "|---|---|---|---|---|---|---|---|\n",
       "| NA | NA | NA | c_1223 | m | 1963 | NA | NA |\n",
       "| NA | NA | NA | c_2706 | f | 1967 | NA | NA |\n",
       "| NA | NA | NA | c_3017 | f | 1992 | NA | NA |\n",
       "\n"
      ],
      "text/plain": [
       "  id_prod price categ client_id sex birth date session_id\n",
       "1 NA      NA    NA    c_1223    m   1963  NA   NA        \n",
       "2 NA      NA    NA    c_2706    f   1967  NA   NA        \n",
       "3 NA      NA    NA    c_3017    f   1992  NA   NA        "
      ]
     },
     "metadata": {},
     "output_type": "display_data"
    }
   ],
   "source": [
    "Transactions_Produits_Clients <- merge(Produits,Transactions_Clients, by=\"id_prod\",all = T)\n",
    "dim(Transactions_Produits_Clients) #679553  X  8\n",
    "head(Transactions_Produits_Clients,3)"
   ]
  },
  {
   "cell_type": "markdown",
   "id": "4eca8f87-9f0d-4856-8ab2-7be58c7ae40b",
   "metadata": {},
   "source": [
    "### 1. Détecter les erreurs\n",
    "---\n",
    "\n",
    "#### *Valeurs manquantes*\n",
    "---"
   ]
  },
  {
   "cell_type": "code",
   "execution_count": 20,
   "id": "4fc86dab-db10-4f71-a115-a8633e050979",
   "metadata": {},
   "outputs": [
    {
     "data": {
      "text/html": [
       "<style>\n",
       ".dl-inline {width: auto; margin:0; padding: 0}\n",
       ".dl-inline>dt, .dl-inline>dd {float: none; width: auto; display: inline-block}\n",
       ".dl-inline>dt::after {content: \":\\0020\"; padding-right: .5ex}\n",
       ".dl-inline>dt:not(:first-of-type) {padding-left: .5ex}\n",
       "</style><dl class=dl-inline><dt>id_prod</dt><dd>21</dd><dt>price</dt><dd>242</dd><dt>categ</dt><dd>242</dd><dt>client_id</dt><dd>21</dd><dt>sex</dt><dd>21</dd><dt>birth</dt><dd>21</dd><dt>date</dt><dd>42</dd><dt>session_id</dt><dd>42</dd></dl>\n"
      ],
      "text/latex": [
       "\\begin{description*}\n",
       "\\item[id\\textbackslash{}\\_prod] 21\n",
       "\\item[price] 242\n",
       "\\item[categ] 242\n",
       "\\item[client\\textbackslash{}\\_id] 21\n",
       "\\item[sex] 21\n",
       "\\item[birth] 21\n",
       "\\item[date] 42\n",
       "\\item[session\\textbackslash{}\\_id] 42\n",
       "\\end{description*}\n"
      ],
      "text/markdown": [
       "id_prod\n",
       ":   21price\n",
       ":   242categ\n",
       ":   242client_id\n",
       ":   21sex\n",
       ":   21birth\n",
       ":   21date\n",
       ":   42session_id\n",
       ":   42\n",
       "\n"
      ],
      "text/plain": [
       "   id_prod      price      categ  client_id        sex      birth       date \n",
       "        21        242        242         21         21         21         42 \n",
       "session_id \n",
       "        42 "
      ]
     },
     "metadata": {},
     "output_type": "display_data"
    },
    {
     "data": {
      "text/html": [
       "<style>\n",
       ".dl-inline {width: auto; margin:0; padding: 0}\n",
       ".dl-inline>dt, .dl-inline>dd {float: none; width: auto; display: inline-block}\n",
       ".dl-inline>dt::after {content: \":\\0020\"; padding-right: .5ex}\n",
       ".dl-inline>dt:not(:first-of-type) {padding-left: .5ex}\n",
       "</style><dl class=dl-inline><dt>id_prod</dt><dd>21</dd><dt>price</dt><dd>242</dd><dt>categ</dt><dd>242</dd><dt>client_id</dt><dd>21</dd><dt>sex</dt><dd>21</dd><dt>birth</dt><dd>21</dd><dt>date</dt><dd>42</dd><dt>session_id</dt><dd>42</dd></dl>\n"
      ],
      "text/latex": [
       "\\begin{description*}\n",
       "\\item[id\\textbackslash{}\\_prod] 21\n",
       "\\item[price] 242\n",
       "\\item[categ] 242\n",
       "\\item[client\\textbackslash{}\\_id] 21\n",
       "\\item[sex] 21\n",
       "\\item[birth] 21\n",
       "\\item[date] 42\n",
       "\\item[session\\textbackslash{}\\_id] 42\n",
       "\\end{description*}\n"
      ],
      "text/markdown": [
       "id_prod\n",
       ":   21price\n",
       ":   242categ\n",
       ":   242client_id\n",
       ":   21sex\n",
       ":   21birth\n",
       ":   21date\n",
       ":   42session_id\n",
       ":   42\n",
       "\n"
      ],
      "text/plain": [
       "   id_prod      price      categ  client_id        sex      birth       date \n",
       "        21        242        242         21         21         21         42 \n",
       "session_id \n",
       "        42 "
      ]
     },
     "metadata": {},
     "output_type": "display_data"
    },
    {
     "data": {
      "text/html": [
       "'Le nombre total de valeurs manques dans Transactions_Produits_Clients est : 652.'"
      ],
      "text/latex": [
       "'Le nombre total de valeurs manques dans Transactions\\_Produits\\_Clients est : 652.'"
      ],
      "text/markdown": [
       "'Le nombre total de valeurs manques dans Transactions_Produits_Clients est : 652.'"
      ],
      "text/plain": [
       "[1] \"Le nombre total de valeurs manques dans Transactions_Produits_Clients est : 652.\""
      ]
     },
     "metadata": {},
     "output_type": "display_data"
    }
   ],
   "source": [
    "valeurs_manquantes(Transactions_Produits_Clients)\n",
    "valeurs_manquantes_real(Transactions_Produits_Clients,\"Transactions_Produits_Clients\") # 547 NA"
   ]
  },
  {
   "cell_type": "code",
   "execution_count": 21,
   "id": "8392ba42-c23f-4f61-b431-2f0802d9663d",
   "metadata": {},
   "outputs": [
    {
     "data": {
      "text/html": [
       "<table class=\"dataframe\">\n",
       "<caption>A data.frame: 2 × 2</caption>\n",
       "<thead>\n",
       "\t<tr><th scope=col>Var1</th><th scope=col>Freq</th></tr>\n",
       "\t<tr><th scope=col>&lt;fct&gt;</th><th scope=col>&lt;int&gt;</th></tr>\n",
       "</thead>\n",
       "<tbody>\n",
       "\t<tr><td>FALSE</td><td>5435940</td></tr>\n",
       "\t<tr><td>TRUE </td><td>    652</td></tr>\n",
       "</tbody>\n",
       "</table>\n"
      ],
      "text/latex": [
       "A data.frame: 2 × 2\n",
       "\\begin{tabular}{ll}\n",
       " Var1 & Freq\\\\\n",
       " <fct> & <int>\\\\\n",
       "\\hline\n",
       "\t FALSE & 5435940\\\\\n",
       "\t TRUE  &     652\\\\\n",
       "\\end{tabular}\n"
      ],
      "text/markdown": [
       "\n",
       "A data.frame: 2 × 2\n",
       "\n",
       "| Var1 &lt;fct&gt; | Freq &lt;int&gt; |\n",
       "|---|---|\n",
       "| FALSE | 5435940 |\n",
       "| TRUE  |     652 |\n",
       "\n"
      ],
      "text/plain": [
       "  Var1  Freq   \n",
       "1 FALSE 5435940\n",
       "2 TRUE      652"
      ]
     },
     "metadata": {},
     "output_type": "display_data"
    }
   ],
   "source": [
    "# converting a frequency table for missing \n",
    "# values to dataframe \n",
    "freq_Transactions_Produits_Clients <- data.frame(table(is.na(Transactions_Produits_Clients)))\n",
    "freq_Transactions_Produits_Clients  "
   ]
  },
  {
   "cell_type": "markdown",
   "id": "4d14aa9d-342c-4db1-b61f-b4a49c97f8e2",
   "metadata": {},
   "source": [
    "#### *Valeurs <0*"
   ]
  },
  {
   "cell_type": "code",
   "execution_count": 22,
   "id": "efe96104-464a-474d-9f7e-bc38f05c943b",
   "metadata": {},
   "outputs": [
    {
     "data": {
      "text/html": [
       "<style>\n",
       ".list-inline {list-style: none; margin:0; padding: 0}\n",
       ".list-inline>li {display: inline-block}\n",
       ".list-inline>li:not(:last-child)::after {content: \"\\00b7\"; padding: 0 .5ex}\n",
       "</style>\n",
       "<ol class=list-inline><li>200</li><li>8</li></ol>\n"
      ],
      "text/latex": [
       "\\begin{enumerate*}\n",
       "\\item 200\n",
       "\\item 8\n",
       "\\end{enumerate*}\n"
      ],
      "text/markdown": [
       "1. 200\n",
       "2. 8\n",
       "\n",
       "\n"
      ],
      "text/plain": [
       "[1] 200   8"
      ]
     },
     "metadata": {},
     "output_type": "display_data"
    },
    {
     "data": {
      "text/html": [
       "<table class=\"dataframe\">\n",
       "<caption>A data.table: 3 × 8</caption>\n",
       "<thead>\n",
       "\t<tr><th scope=col>id_prod</th><th scope=col>price</th><th scope=col>categ</th><th scope=col>client_id</th><th scope=col>sex</th><th scope=col>birth</th><th scope=col>date</th><th scope=col>session_id</th></tr>\n",
       "\t<tr><th scope=col>&lt;chr&gt;</th><th scope=col>&lt;dbl&gt;</th><th scope=col>&lt;chr&gt;</th><th scope=col>&lt;chr&gt;</th><th scope=col>&lt;chr&gt;</th><th scope=col>&lt;int&gt;</th><th scope=col>&lt;chr&gt;</th><th scope=col>&lt;chr&gt;</th></tr>\n",
       "</thead>\n",
       "<tbody>\n",
       "\t<tr><td>T_0</td><td>-1</td><td>0</td><td>ct_0</td><td>f</td><td>2001</td><td>test_2021-03-01 02:30:02.237419</td><td>s_0</td></tr>\n",
       "\t<tr><td>T_0</td><td>-1</td><td>0</td><td>ct_0</td><td>f</td><td>2001</td><td>test_2021-03-01 02:30:02.237425</td><td>s_0</td></tr>\n",
       "\t<tr><td>T_0</td><td>-1</td><td>0</td><td>ct_0</td><td>f</td><td>2001</td><td>test_2021-03-01 02:30:02.237436</td><td>s_0</td></tr>\n",
       "</tbody>\n",
       "</table>\n"
      ],
      "text/latex": [
       "A data.table: 3 × 8\n",
       "\\begin{tabular}{llllllll}\n",
       " id\\_prod & price & categ & client\\_id & sex & birth & date & session\\_id\\\\\n",
       " <chr> & <dbl> & <chr> & <chr> & <chr> & <int> & <chr> & <chr>\\\\\n",
       "\\hline\n",
       "\t T\\_0 & -1 & 0 & ct\\_0 & f & 2001 & test\\_2021-03-01 02:30:02.237419 & s\\_0\\\\\n",
       "\t T\\_0 & -1 & 0 & ct\\_0 & f & 2001 & test\\_2021-03-01 02:30:02.237425 & s\\_0\\\\\n",
       "\t T\\_0 & -1 & 0 & ct\\_0 & f & 2001 & test\\_2021-03-01 02:30:02.237436 & s\\_0\\\\\n",
       "\\end{tabular}\n"
      ],
      "text/markdown": [
       "\n",
       "A data.table: 3 × 8\n",
       "\n",
       "| id_prod &lt;chr&gt; | price &lt;dbl&gt; | categ &lt;chr&gt; | client_id &lt;chr&gt; | sex &lt;chr&gt; | birth &lt;int&gt; | date &lt;chr&gt; | session_id &lt;chr&gt; |\n",
       "|---|---|---|---|---|---|---|---|\n",
       "| T_0 | -1 | 0 | ct_0 | f | 2001 | test_2021-03-01 02:30:02.237419 | s_0 |\n",
       "| T_0 | -1 | 0 | ct_0 | f | 2001 | test_2021-03-01 02:30:02.237425 | s_0 |\n",
       "| T_0 | -1 | 0 | ct_0 | f | 2001 | test_2021-03-01 02:30:02.237436 | s_0 |\n",
       "\n"
      ],
      "text/plain": [
       "  id_prod price categ client_id sex birth date                           \n",
       "1 T_0     -1    0     ct_0      f   2001  test_2021-03-01 02:30:02.237419\n",
       "2 T_0     -1    0     ct_0      f   2001  test_2021-03-01 02:30:02.237425\n",
       "3 T_0     -1    0     ct_0      f   2001  test_2021-03-01 02:30:02.237436\n",
       "  session_id\n",
       "1 s_0       \n",
       "2 s_0       \n",
       "3 s_0       "
      ]
     },
     "metadata": {},
     "output_type": "display_data"
    }
   ],
   "source": [
    "Transactions_Produits_Clients_price_0 <-Transactions_Produits_Clients[Transactions_Produits_Clients$price < 0,]\n",
    "dim(Transactions_Produits_Clients_price_0) #200  X 8\n",
    "head(Transactions_Produits_Clients_price_0,3)"
   ]
  },
  {
   "cell_type": "markdown",
   "id": "5b45c8f2-064c-4aff-a731-c80813c6d651",
   "metadata": {},
   "source": [
    "<a id=\"sec:sans_NA\"></a>\n",
    "\n",
    "\n",
    "#### ***Supprimer des valeurs <0***\n",
    "---"
   ]
  },
  {
   "cell_type": "code",
   "execution_count": 23,
   "id": "f8431069-edb4-405e-bfe9-c6761bc62994",
   "metadata": {
    "tags": []
   },
   "outputs": [
    {
     "data": {
      "text/html": [
       "<style>\n",
       ".list-inline {list-style: none; margin:0; padding: 0}\n",
       ".list-inline>li {display: inline-block}\n",
       ".list-inline>li:not(:last-child)::after {content: \"\\00b7\"; padding: 0 .5ex}\n",
       "</style>\n",
       "<ol class=list-inline><li>679574</li><li>8</li></ol>\n"
      ],
      "text/latex": [
       "\\begin{enumerate*}\n",
       "\\item 679574\n",
       "\\item 8\n",
       "\\end{enumerate*}\n"
      ],
      "text/markdown": [
       "1. 679574\n",
       "2. 8\n",
       "\n",
       "\n"
      ],
      "text/plain": [
       "[1] 679574      8"
      ]
     },
     "metadata": {},
     "output_type": "display_data"
    },
    {
     "data": {
      "text/html": [
       "<style>\n",
       ".list-inline {list-style: none; margin:0; padding: 0}\n",
       ".list-inline>li {display: inline-block}\n",
       ".list-inline>li:not(:last-child)::after {content: \"\\00b7\"; padding: 0 .5ex}\n",
       "</style>\n",
       "<ol class=list-inline><li>679353</li><li>8</li></ol>\n"
      ],
      "text/latex": [
       "\\begin{enumerate*}\n",
       "\\item 679353\n",
       "\\item 8\n",
       "\\end{enumerate*}\n"
      ],
      "text/markdown": [
       "1. 679353\n",
       "2. 8\n",
       "\n",
       "\n"
      ],
      "text/plain": [
       "[1] 679353      8"
      ]
     },
     "metadata": {},
     "output_type": "display_data"
    }
   ],
   "source": [
    "dim(Transactions_Produits_Clients) #679553 X 8    679574\n",
    "Transactions_Produits_Clients <- Transactions_Produits_Clients[Transactions_Produits_Clients$id_prod !=\"T_0\",]\n",
    "dim(Transactions_Produits_Clients) #679353 X 8"
   ]
  },
  {
   "cell_type": "markdown",
   "id": "c4024a85-8152-4ded-a750-10d337000d91",
   "metadata": {},
   "source": [
    "\n",
    "#### ***Remplacer les valeurs manquantes***\n",
    "---"
   ]
  },
  {
   "cell_type": "code",
   "execution_count": 24,
   "id": "47eff318-29da-4554-8d57-162ced87df3f",
   "metadata": {},
   "outputs": [
    {
     "data": {
      "text/html": [
       "<style>\n",
       ".dl-inline {width: auto; margin:0; padding: 0}\n",
       ".dl-inline>dt, .dl-inline>dd {float: none; width: auto; display: inline-block}\n",
       ".dl-inline>dt::after {content: \":\\0020\"; padding-right: .5ex}\n",
       ".dl-inline>dt:not(:first-of-type) {padding-left: .5ex}\n",
       "</style><dl class=dl-inline><dt>id_prod</dt><dd>0</dd><dt>price</dt><dd>221</dd><dt>categ</dt><dd>221</dd><dt>client_id</dt><dd>21</dd><dt>sex</dt><dd>21</dd><dt>birth</dt><dd>21</dd><dt>date</dt><dd>21</dd><dt>session_id</dt><dd>21</dd></dl>\n"
      ],
      "text/latex": [
       "\\begin{description*}\n",
       "\\item[id\\textbackslash{}\\_prod] 0\n",
       "\\item[price] 221\n",
       "\\item[categ] 221\n",
       "\\item[client\\textbackslash{}\\_id] 21\n",
       "\\item[sex] 21\n",
       "\\item[birth] 21\n",
       "\\item[date] 21\n",
       "\\item[session\\textbackslash{}\\_id] 21\n",
       "\\end{description*}\n"
      ],
      "text/markdown": [
       "id_prod\n",
       ":   0price\n",
       ":   221categ\n",
       ":   221client_id\n",
       ":   21sex\n",
       ":   21birth\n",
       ":   21date\n",
       ":   21session_id\n",
       ":   21\n",
       "\n"
      ],
      "text/plain": [
       "   id_prod      price      categ  client_id        sex      birth       date \n",
       "         0        221        221         21         21         21         21 \n",
       "session_id \n",
       "        21 "
      ]
     },
     "metadata": {},
     "output_type": "display_data"
    },
    {
     "data": {
      "text/html": [
       "<style>\n",
       ".dl-inline {width: auto; margin:0; padding: 0}\n",
       ".dl-inline>dt, .dl-inline>dd {float: none; width: auto; display: inline-block}\n",
       ".dl-inline>dt::after {content: \":\\0020\"; padding-right: .5ex}\n",
       ".dl-inline>dt:not(:first-of-type) {padding-left: .5ex}\n",
       "</style><dl class=dl-inline><dt>price</dt><dd>221</dd><dt>categ</dt><dd>221</dd><dt>client_id</dt><dd>21</dd><dt>sex</dt><dd>21</dd><dt>birth</dt><dd>21</dd><dt>date</dt><dd>21</dd><dt>session_id</dt><dd>21</dd></dl>\n"
      ],
      "text/latex": [
       "\\begin{description*}\n",
       "\\item[price] 221\n",
       "\\item[categ] 221\n",
       "\\item[client\\textbackslash{}\\_id] 21\n",
       "\\item[sex] 21\n",
       "\\item[birth] 21\n",
       "\\item[date] 21\n",
       "\\item[session\\textbackslash{}\\_id] 21\n",
       "\\end{description*}\n"
      ],
      "text/markdown": [
       "price\n",
       ":   221categ\n",
       ":   221client_id\n",
       ":   21sex\n",
       ":   21birth\n",
       ":   21date\n",
       ":   21session_id\n",
       ":   21\n",
       "\n"
      ],
      "text/plain": [
       "     price      categ  client_id        sex      birth       date session_id \n",
       "       221        221         21         21         21         21         21 "
      ]
     },
     "metadata": {},
     "output_type": "display_data"
    },
    {
     "data": {
      "text/html": [
       "'Le nombre total de valeurs manques dans Transactions_Produits_Clients est : 547.'"
      ],
      "text/latex": [
       "'Le nombre total de valeurs manques dans Transactions\\_Produits\\_Clients est : 547.'"
      ],
      "text/markdown": [
       "'Le nombre total de valeurs manques dans Transactions_Produits_Clients est : 547.'"
      ],
      "text/plain": [
       "[1] \"Le nombre total de valeurs manques dans Transactions_Produits_Clients est : 547.\""
      ]
     },
     "metadata": {},
     "output_type": "display_data"
    }
   ],
   "source": [
    "valeurs_manquantes(Transactions_Produits_Clients)\n",
    "valeurs_manquantes_real(Transactions_Produits_Clients,\"Transactions_Produits_Clients\") # 547"
   ]
  },
  {
   "cell_type": "code",
   "execution_count": 25,
   "id": "83397cf4-6bd3-4264-b0ee-666f865f0bba",
   "metadata": {},
   "outputs": [
    {
     "data": {
      "text/html": [
       "<style>\n",
       ".list-inline {list-style: none; margin:0; padding: 0}\n",
       ".list-inline>li {display: inline-block}\n",
       ".list-inline>li:not(:last-child)::after {content: \"\\00b7\"; padding: 0 .5ex}\n",
       "</style>\n",
       "<ol class=list-inline><li>221</li><li>8</li></ol>\n"
      ],
      "text/latex": [
       "\\begin{enumerate*}\n",
       "\\item 221\n",
       "\\item 8\n",
       "\\end{enumerate*}\n"
      ],
      "text/markdown": [
       "1. 221\n",
       "2. 8\n",
       "\n",
       "\n"
      ],
      "text/plain": [
       "[1] 221   8"
      ]
     },
     "metadata": {},
     "output_type": "display_data"
    },
    {
     "data": {
      "text/html": [
       "<table class=\"dataframe\">\n",
       "<caption>A data.table: 6 × 8</caption>\n",
       "<thead>\n",
       "\t<tr><th scope=col>id_prod</th><th scope=col>price</th><th scope=col>categ</th><th scope=col>client_id</th><th scope=col>sex</th><th scope=col>birth</th><th scope=col>date</th><th scope=col>session_id</th></tr>\n",
       "\t<tr><th scope=col>&lt;chr&gt;</th><th scope=col>&lt;dbl&gt;</th><th scope=col>&lt;chr&gt;</th><th scope=col>&lt;chr&gt;</th><th scope=col>&lt;chr&gt;</th><th scope=col>&lt;int&gt;</th><th scope=col>&lt;chr&gt;</th><th scope=col>&lt;chr&gt;</th></tr>\n",
       "</thead>\n",
       "<tbody>\n",
       "\t<tr><td>0_2245</td><td>NA</td><td>NA</td><td>c_1025</td><td>m</td><td>1984</td><td>2022-07-29 04:29:29.995701</td><td>s_245285</td></tr>\n",
       "\t<tr><td>0_2245</td><td>NA</td><td>NA</td><td>c_1025</td><td>m</td><td>1984</td><td>2021-03-29 04:29:29.995701</td><td>s_12938 </td></tr>\n",
       "\t<tr><td>0_2245</td><td>NA</td><td>NA</td><td>c_1025</td><td>m</td><td>1984</td><td>2022-07-29 02:10:32.403467</td><td>s_245233</td></tr>\n",
       "\t<tr><td>0_2245</td><td>NA</td><td>NA</td><td>c_1025</td><td>m</td><td>1984</td><td>2021-03-29 02:10:32.403467</td><td>s_12886 </td></tr>\n",
       "\t<tr><td>0_2245</td><td>NA</td><td>NA</td><td>c_1060</td><td>f</td><td>1973</td><td>2022-10-06 14:03:40.171938</td><td>s_278588</td></tr>\n",
       "\t<tr><td>0_2245</td><td>NA</td><td>NA</td><td>c_1060</td><td>f</td><td>1973</td><td>2021-09-06 14:03:40.171938</td><td>s_85877 </td></tr>\n",
       "</tbody>\n",
       "</table>\n"
      ],
      "text/latex": [
       "A data.table: 6 × 8\n",
       "\\begin{tabular}{llllllll}\n",
       " id\\_prod & price & categ & client\\_id & sex & birth & date & session\\_id\\\\\n",
       " <chr> & <dbl> & <chr> & <chr> & <chr> & <int> & <chr> & <chr>\\\\\n",
       "\\hline\n",
       "\t 0\\_2245 & NA & NA & c\\_1025 & m & 1984 & 2022-07-29 04:29:29.995701 & s\\_245285\\\\\n",
       "\t 0\\_2245 & NA & NA & c\\_1025 & m & 1984 & 2021-03-29 04:29:29.995701 & s\\_12938 \\\\\n",
       "\t 0\\_2245 & NA & NA & c\\_1025 & m & 1984 & 2022-07-29 02:10:32.403467 & s\\_245233\\\\\n",
       "\t 0\\_2245 & NA & NA & c\\_1025 & m & 1984 & 2021-03-29 02:10:32.403467 & s\\_12886 \\\\\n",
       "\t 0\\_2245 & NA & NA & c\\_1060 & f & 1973 & 2022-10-06 14:03:40.171938 & s\\_278588\\\\\n",
       "\t 0\\_2245 & NA & NA & c\\_1060 & f & 1973 & 2021-09-06 14:03:40.171938 & s\\_85877 \\\\\n",
       "\\end{tabular}\n"
      ],
      "text/markdown": [
       "\n",
       "A data.table: 6 × 8\n",
       "\n",
       "| id_prod &lt;chr&gt; | price &lt;dbl&gt; | categ &lt;chr&gt; | client_id &lt;chr&gt; | sex &lt;chr&gt; | birth &lt;int&gt; | date &lt;chr&gt; | session_id &lt;chr&gt; |\n",
       "|---|---|---|---|---|---|---|---|\n",
       "| 0_2245 | NA | NA | c_1025 | m | 1984 | 2022-07-29 04:29:29.995701 | s_245285 |\n",
       "| 0_2245 | NA | NA | c_1025 | m | 1984 | 2021-03-29 04:29:29.995701 | s_12938  |\n",
       "| 0_2245 | NA | NA | c_1025 | m | 1984 | 2022-07-29 02:10:32.403467 | s_245233 |\n",
       "| 0_2245 | NA | NA | c_1025 | m | 1984 | 2021-03-29 02:10:32.403467 | s_12886  |\n",
       "| 0_2245 | NA | NA | c_1060 | f | 1973 | 2022-10-06 14:03:40.171938 | s_278588 |\n",
       "| 0_2245 | NA | NA | c_1060 | f | 1973 | 2021-09-06 14:03:40.171938 | s_85877  |\n",
       "\n"
      ],
      "text/plain": [
       "  id_prod price categ client_id sex birth date                       session_id\n",
       "1 0_2245  NA    NA    c_1025    m   1984  2022-07-29 04:29:29.995701 s_245285  \n",
       "2 0_2245  NA    NA    c_1025    m   1984  2021-03-29 04:29:29.995701 s_12938   \n",
       "3 0_2245  NA    NA    c_1025    m   1984  2022-07-29 02:10:32.403467 s_245233  \n",
       "4 0_2245  NA    NA    c_1025    m   1984  2021-03-29 02:10:32.403467 s_12886   \n",
       "5 0_2245  NA    NA    c_1060    f   1973  2022-10-06 14:03:40.171938 s_278588  \n",
       "6 0_2245  NA    NA    c_1060    f   1973  2021-09-06 14:03:40.171938 s_85877   "
      ]
     },
     "metadata": {},
     "output_type": "display_data"
    }
   ],
   "source": [
    "NA_price_Transactions_Produits_Clients <- Transactions_Produits_Clients[is.na(Transactions_Produits_Clients$price),]\n",
    "dim(NA_price_Transactions_Produits_Clients) #221    8\n",
    "head(NA_price_Transactions_Produits_Clients)"
   ]
  },
  {
   "cell_type": "code",
   "execution_count": 26,
   "id": "a845ad12-3289-47cf-bc39-316479a1969d",
   "metadata": {},
   "outputs": [
    {
     "data": {
      "text/plain": [
       "   Min. 1st Qu.  Median    Mean 3rd Qu.    Max. \n",
       "   0.62    6.29    9.99   10.64   14.45   40.99 "
      ]
     },
     "metadata": {},
     "output_type": "display_data"
    },
    {
     "data": {
      "text/html": [
       "10.6383296949275"
      ],
      "text/latex": [
       "10.6383296949275"
      ],
      "text/markdown": [
       "10.6383296949275"
      ],
      "text/plain": [
       "[1] 10.63833"
      ]
     },
     "metadata": {},
     "output_type": "display_data"
    }
   ],
   "source": [
    "Transactions_Produits_Clients_categ_0<-Transactions_Produits_Clients[Transactions_Produits_Clients$categ == '0',]\n",
    "summary(Transactions_Produits_Clients_categ_0$price)\n",
    "Moyenne_prix_0 <- mean(Transactions_Produits_Clients_categ_0$price)\n",
    "Moyenne_prix_0"
   ]
  },
  {
   "cell_type": "code",
   "execution_count": 27,
   "id": "ac3ff380-8a44-4307-bc2b-2b362b237aea",
   "metadata": {},
   "outputs": [
    {
     "data": {
      "text/html": [
       "<table class=\"dataframe\">\n",
       "<caption>A data.table: 6 × 8</caption>\n",
       "<thead>\n",
       "\t<tr><th scope=col>id_prod</th><th scope=col>price</th><th scope=col>categ</th><th scope=col>client_id</th><th scope=col>sex</th><th scope=col>birth</th><th scope=col>date</th><th scope=col>session_id</th></tr>\n",
       "\t<tr><th scope=col>&lt;chr&gt;</th><th scope=col>&lt;dbl&gt;</th><th scope=col>&lt;chr&gt;</th><th scope=col>&lt;chr&gt;</th><th scope=col>&lt;chr&gt;</th><th scope=col>&lt;int&gt;</th><th scope=col>&lt;chr&gt;</th><th scope=col>&lt;chr&gt;</th></tr>\n",
       "</thead>\n",
       "<tbody>\n",
       "\t<tr><td>0_2245</td><td>10.63833</td><td>0</td><td>c_1025</td><td>m</td><td>1984</td><td>2022-07-29 04:29:29.995701</td><td>s_245285</td></tr>\n",
       "\t<tr><td>0_2245</td><td>10.63833</td><td>0</td><td>c_1025</td><td>m</td><td>1984</td><td>2021-03-29 04:29:29.995701</td><td>s_12938 </td></tr>\n",
       "\t<tr><td>0_2245</td><td>10.63833</td><td>0</td><td>c_1025</td><td>m</td><td>1984</td><td>2022-07-29 02:10:32.403467</td><td>s_245233</td></tr>\n",
       "\t<tr><td>0_2245</td><td>10.63833</td><td>0</td><td>c_1025</td><td>m</td><td>1984</td><td>2021-03-29 02:10:32.403467</td><td>s_12886 </td></tr>\n",
       "\t<tr><td>0_2245</td><td>10.63833</td><td>0</td><td>c_1060</td><td>f</td><td>1973</td><td>2022-10-06 14:03:40.171938</td><td>s_278588</td></tr>\n",
       "\t<tr><td>0_2245</td><td>10.63833</td><td>0</td><td>c_1060</td><td>f</td><td>1973</td><td>2021-09-06 14:03:40.171938</td><td>s_85877 </td></tr>\n",
       "</tbody>\n",
       "</table>\n"
      ],
      "text/latex": [
       "A data.table: 6 × 8\n",
       "\\begin{tabular}{llllllll}\n",
       " id\\_prod & price & categ & client\\_id & sex & birth & date & session\\_id\\\\\n",
       " <chr> & <dbl> & <chr> & <chr> & <chr> & <int> & <chr> & <chr>\\\\\n",
       "\\hline\n",
       "\t 0\\_2245 & 10.63833 & 0 & c\\_1025 & m & 1984 & 2022-07-29 04:29:29.995701 & s\\_245285\\\\\n",
       "\t 0\\_2245 & 10.63833 & 0 & c\\_1025 & m & 1984 & 2021-03-29 04:29:29.995701 & s\\_12938 \\\\\n",
       "\t 0\\_2245 & 10.63833 & 0 & c\\_1025 & m & 1984 & 2022-07-29 02:10:32.403467 & s\\_245233\\\\\n",
       "\t 0\\_2245 & 10.63833 & 0 & c\\_1025 & m & 1984 & 2021-03-29 02:10:32.403467 & s\\_12886 \\\\\n",
       "\t 0\\_2245 & 10.63833 & 0 & c\\_1060 & f & 1973 & 2022-10-06 14:03:40.171938 & s\\_278588\\\\\n",
       "\t 0\\_2245 & 10.63833 & 0 & c\\_1060 & f & 1973 & 2021-09-06 14:03:40.171938 & s\\_85877 \\\\\n",
       "\\end{tabular}\n"
      ],
      "text/markdown": [
       "\n",
       "A data.table: 6 × 8\n",
       "\n",
       "| id_prod &lt;chr&gt; | price &lt;dbl&gt; | categ &lt;chr&gt; | client_id &lt;chr&gt; | sex &lt;chr&gt; | birth &lt;int&gt; | date &lt;chr&gt; | session_id &lt;chr&gt; |\n",
       "|---|---|---|---|---|---|---|---|\n",
       "| 0_2245 | 10.63833 | 0 | c_1025 | m | 1984 | 2022-07-29 04:29:29.995701 | s_245285 |\n",
       "| 0_2245 | 10.63833 | 0 | c_1025 | m | 1984 | 2021-03-29 04:29:29.995701 | s_12938  |\n",
       "| 0_2245 | 10.63833 | 0 | c_1025 | m | 1984 | 2022-07-29 02:10:32.403467 | s_245233 |\n",
       "| 0_2245 | 10.63833 | 0 | c_1025 | m | 1984 | 2021-03-29 02:10:32.403467 | s_12886  |\n",
       "| 0_2245 | 10.63833 | 0 | c_1060 | f | 1973 | 2022-10-06 14:03:40.171938 | s_278588 |\n",
       "| 0_2245 | 10.63833 | 0 | c_1060 | f | 1973 | 2021-09-06 14:03:40.171938 | s_85877  |\n",
       "\n"
      ],
      "text/plain": [
       "  id_prod price    categ client_id sex birth date                      \n",
       "1 0_2245  10.63833 0     c_1025    m   1984  2022-07-29 04:29:29.995701\n",
       "2 0_2245  10.63833 0     c_1025    m   1984  2021-03-29 04:29:29.995701\n",
       "3 0_2245  10.63833 0     c_1025    m   1984  2022-07-29 02:10:32.403467\n",
       "4 0_2245  10.63833 0     c_1025    m   1984  2021-03-29 02:10:32.403467\n",
       "5 0_2245  10.63833 0     c_1060    f   1973  2022-10-06 14:03:40.171938\n",
       "6 0_2245  10.63833 0     c_1060    f   1973  2021-09-06 14:03:40.171938\n",
       "  session_id\n",
       "1 s_245285  \n",
       "2 s_12938   \n",
       "3 s_245233  \n",
       "4 s_12886   \n",
       "5 s_278588  \n",
       "6 s_85877   "
      ]
     },
     "metadata": {},
     "output_type": "display_data"
    }
   ],
   "source": [
    "Transactions_Produits_Clients[is.na(categ) & id_prod == \"0_2245\",categ:=\"0\"]\n",
    "Transactions_Produits_Clients[categ==\"0\" & id_prod == \"0_2245\",price:=Moyenne_prix_0] #10.63\n",
    "head(Transactions_Produits_Clients[Transactions_Produits_Clients$id_prod == '0_2245',])\n"
   ]
  },
  {
   "cell_type": "markdown",
   "id": "cb2ecebf-7915-4c3e-9a2a-6342a769e6a1",
   "metadata": {},
   "source": [
    "#### ***Supprimer des valeurs NA***\n",
    "---"
   ]
  },
  {
   "cell_type": "code",
   "execution_count": 28,
   "id": "e31dd05d-0cf0-420d-9514-3cd4c3a8f7b5",
   "metadata": {},
   "outputs": [
    {
     "data": {
      "text/html": [
       "<style>\n",
       ".dl-inline {width: auto; margin:0; padding: 0}\n",
       ".dl-inline>dt, .dl-inline>dd {float: none; width: auto; display: inline-block}\n",
       ".dl-inline>dt::after {content: \":\\0020\"; padding-right: .5ex}\n",
       ".dl-inline>dt:not(:first-of-type) {padding-left: .5ex}\n",
       "</style><dl class=dl-inline><dt>id_prod</dt><dd>0</dd><dt>price</dt><dd>0</dd><dt>categ</dt><dd>0</dd><dt>client_id</dt><dd>21</dd><dt>sex</dt><dd>21</dd><dt>birth</dt><dd>21</dd><dt>date</dt><dd>21</dd><dt>session_id</dt><dd>21</dd></dl>\n"
      ],
      "text/latex": [
       "\\begin{description*}\n",
       "\\item[id\\textbackslash{}\\_prod] 0\n",
       "\\item[price] 0\n",
       "\\item[categ] 0\n",
       "\\item[client\\textbackslash{}\\_id] 21\n",
       "\\item[sex] 21\n",
       "\\item[birth] 21\n",
       "\\item[date] 21\n",
       "\\item[session\\textbackslash{}\\_id] 21\n",
       "\\end{description*}\n"
      ],
      "text/markdown": [
       "id_prod\n",
       ":   0price\n",
       ":   0categ\n",
       ":   0client_id\n",
       ":   21sex\n",
       ":   21birth\n",
       ":   21date\n",
       ":   21session_id\n",
       ":   21\n",
       "\n"
      ],
      "text/plain": [
       "   id_prod      price      categ  client_id        sex      birth       date \n",
       "         0          0          0         21         21         21         21 \n",
       "session_id \n",
       "        21 "
      ]
     },
     "metadata": {},
     "output_type": "display_data"
    },
    {
     "data": {
      "text/html": [
       "<style>\n",
       ".dl-inline {width: auto; margin:0; padding: 0}\n",
       ".dl-inline>dt, .dl-inline>dd {float: none; width: auto; display: inline-block}\n",
       ".dl-inline>dt::after {content: \":\\0020\"; padding-right: .5ex}\n",
       ".dl-inline>dt:not(:first-of-type) {padding-left: .5ex}\n",
       "</style><dl class=dl-inline><dt>client_id</dt><dd>21</dd><dt>sex</dt><dd>21</dd><dt>birth</dt><dd>21</dd><dt>date</dt><dd>21</dd><dt>session_id</dt><dd>21</dd></dl>\n"
      ],
      "text/latex": [
       "\\begin{description*}\n",
       "\\item[client\\textbackslash{}\\_id] 21\n",
       "\\item[sex] 21\n",
       "\\item[birth] 21\n",
       "\\item[date] 21\n",
       "\\item[session\\textbackslash{}\\_id] 21\n",
       "\\end{description*}\n"
      ],
      "text/markdown": [
       "client_id\n",
       ":   21sex\n",
       ":   21birth\n",
       ":   21date\n",
       ":   21session_id\n",
       ":   21\n",
       "\n"
      ],
      "text/plain": [
       " client_id        sex      birth       date session_id \n",
       "        21         21         21         21         21 "
      ]
     },
     "metadata": {},
     "output_type": "display_data"
    },
    {
     "data": {
      "text/html": [
       "'Le nombre total de valeurs manques dans Transactions_Produits_Clients est : 105.'"
      ],
      "text/latex": [
       "'Le nombre total de valeurs manques dans Transactions\\_Produits\\_Clients est : 105.'"
      ],
      "text/markdown": [
       "'Le nombre total de valeurs manques dans Transactions_Produits_Clients est : 105.'"
      ],
      "text/plain": [
       "[1] \"Le nombre total de valeurs manques dans Transactions_Produits_Clients est : 105.\""
      ]
     },
     "metadata": {},
     "output_type": "display_data"
    }
   ],
   "source": [
    "valeurs_manquantes(Transactions_Produits_Clients)\n",
    "valeurs_manquantes_real(Transactions_Produits_Clients,\"Transactions_Produits_Clients\") # 105"
   ]
  },
  {
   "cell_type": "code",
   "execution_count": 29,
   "id": "94960be5-c816-455a-925d-411480b81ddf",
   "metadata": {},
   "outputs": [
    {
     "data": {
      "text/html": [
       "<style>\n",
       ".list-inline {list-style: none; margin:0; padding: 0}\n",
       ".list-inline>li {display: inline-block}\n",
       ".list-inline>li:not(:last-child)::after {content: \"\\00b7\"; padding: 0 .5ex}\n",
       "</style>\n",
       "<ol class=list-inline><li>21</li><li>8</li></ol>\n"
      ],
      "text/latex": [
       "\\begin{enumerate*}\n",
       "\\item 21\n",
       "\\item 8\n",
       "\\end{enumerate*}\n"
      ],
      "text/markdown": [
       "1. 21\n",
       "2. 8\n",
       "\n",
       "\n"
      ],
      "text/plain": [
       "[1] 21  8"
      ]
     },
     "metadata": {},
     "output_type": "display_data"
    },
    {
     "data": {
      "text/html": [
       "<style>\n",
       ".list-inline {list-style: none; margin:0; padding: 0}\n",
       ".list-inline>li {display: inline-block}\n",
       ".list-inline>li:not(:last-child)::after {content: \"\\00b7\"; padding: 0 .5ex}\n",
       "</style>\n",
       "<ol class=list-inline><li>679353</li><li>8</li></ol>\n"
      ],
      "text/latex": [
       "\\begin{enumerate*}\n",
       "\\item 679353\n",
       "\\item 8\n",
       "\\end{enumerate*}\n"
      ],
      "text/markdown": [
       "1. 679353\n",
       "2. 8\n",
       "\n",
       "\n"
      ],
      "text/plain": [
       "[1] 679353      8"
      ]
     },
     "metadata": {},
     "output_type": "display_data"
    },
    {
     "data": {
      "text/html": [
       "<table class=\"dataframe\">\n",
       "<caption>A data.table: 3 × 8</caption>\n",
       "<thead>\n",
       "\t<tr><th scope=col>id_prod</th><th scope=col>price</th><th scope=col>categ</th><th scope=col>client_id</th><th scope=col>sex</th><th scope=col>birth</th><th scope=col>date</th><th scope=col>session_id</th></tr>\n",
       "\t<tr><th scope=col>&lt;chr&gt;</th><th scope=col>&lt;dbl&gt;</th><th scope=col>&lt;chr&gt;</th><th scope=col>&lt;chr&gt;</th><th scope=col>&lt;chr&gt;</th><th scope=col>&lt;int&gt;</th><th scope=col>&lt;chr&gt;</th><th scope=col>&lt;chr&gt;</th></tr>\n",
       "</thead>\n",
       "<tbody>\n",
       "\t<tr><td>0_1014</td><td> 1.15</td><td>0</td><td>NA</td><td>NA</td><td>NA</td><td>NA</td><td>NA</td></tr>\n",
       "\t<tr><td>0_1016</td><td>35.06</td><td>0</td><td>NA</td><td>NA</td><td>NA</td><td>NA</td><td>NA</td></tr>\n",
       "\t<tr><td>0_1025</td><td>24.99</td><td>0</td><td>NA</td><td>NA</td><td>NA</td><td>NA</td><td>NA</td></tr>\n",
       "</tbody>\n",
       "</table>\n"
      ],
      "text/latex": [
       "A data.table: 3 × 8\n",
       "\\begin{tabular}{llllllll}\n",
       " id\\_prod & price & categ & client\\_id & sex & birth & date & session\\_id\\\\\n",
       " <chr> & <dbl> & <chr> & <chr> & <chr> & <int> & <chr> & <chr>\\\\\n",
       "\\hline\n",
       "\t 0\\_1014 &  1.15 & 0 & NA & NA & NA & NA & NA\\\\\n",
       "\t 0\\_1016 & 35.06 & 0 & NA & NA & NA & NA & NA\\\\\n",
       "\t 0\\_1025 & 24.99 & 0 & NA & NA & NA & NA & NA\\\\\n",
       "\\end{tabular}\n"
      ],
      "text/markdown": [
       "\n",
       "A data.table: 3 × 8\n",
       "\n",
       "| id_prod &lt;chr&gt; | price &lt;dbl&gt; | categ &lt;chr&gt; | client_id &lt;chr&gt; | sex &lt;chr&gt; | birth &lt;int&gt; | date &lt;chr&gt; | session_id &lt;chr&gt; |\n",
       "|---|---|---|---|---|---|---|---|\n",
       "| 0_1014 |  1.15 | 0 | NA | NA | NA | NA | NA |\n",
       "| 0_1016 | 35.06 | 0 | NA | NA | NA | NA | NA |\n",
       "| 0_1025 | 24.99 | 0 | NA | NA | NA | NA | NA |\n",
       "\n"
      ],
      "text/plain": [
       "  id_prod price categ client_id sex birth date session_id\n",
       "1 0_1014   1.15 0     NA        NA  NA    NA   NA        \n",
       "2 0_1016  35.06 0     NA        NA  NA    NA   NA        \n",
       "3 0_1025  24.99 0     NA        NA  NA    NA   NA        "
      ]
     },
     "metadata": {},
     "output_type": "display_data"
    }
   ],
   "source": [
    "NA_date_Transactions_Produits_Clients <- Transactions_Produits_Clients[is.na(Transactions_Produits_Clients$client_id),]\n",
    "dim(NA_date_Transactions_Produits_Clients) # 21  X  8\n",
    "dim(Transactions_Produits_Clients)# 679353  X  8\n",
    "head(NA_date_Transactions_Produits_Clients,3)"
   ]
  },
  {
   "cell_type": "code",
   "execution_count": 30,
   "id": "332401d9-70b1-47af-b6c9-d3bb6584271c",
   "metadata": {},
   "outputs": [
    {
     "data": {
      "text/html": [
       "<style>\n",
       ".list-inline {list-style: none; margin:0; padding: 0}\n",
       ".list-inline>li {display: inline-block}\n",
       ".list-inline>li:not(:last-child)::after {content: \"\\00b7\"; padding: 0 .5ex}\n",
       "</style>\n",
       "<ol class=list-inline><li>679332</li><li>8</li></ol>\n"
      ],
      "text/latex": [
       "\\begin{enumerate*}\n",
       "\\item 679332\n",
       "\\item 8\n",
       "\\end{enumerate*}\n"
      ],
      "text/markdown": [
       "1. 679332\n",
       "2. 8\n",
       "\n",
       "\n"
      ],
      "text/plain": [
       "[1] 679332      8"
      ]
     },
     "metadata": {},
     "output_type": "display_data"
    }
   ],
   "source": [
    "Transactions_Produits_Clients <- Transactions_Produits_Clients[!is.na(Transactions_Produits_Clients$client_id),]\n",
    "dim(Transactions_Produits_Clients) #679332  x  8"
   ]
  },
  {
   "cell_type": "code",
   "execution_count": 31,
   "id": "349d64b1-38f7-462e-92f5-ffec36613aa5",
   "metadata": {},
   "outputs": [
    {
     "data": {
      "text/html": [
       "<style>\n",
       ".dl-inline {width: auto; margin:0; padding: 0}\n",
       ".dl-inline>dt, .dl-inline>dd {float: none; width: auto; display: inline-block}\n",
       ".dl-inline>dt::after {content: \":\\0020\"; padding-right: .5ex}\n",
       ".dl-inline>dt:not(:first-of-type) {padding-left: .5ex}\n",
       "</style><dl class=dl-inline><dt>id_prod</dt><dd>0</dd><dt>price</dt><dd>0</dd><dt>categ</dt><dd>0</dd><dt>client_id</dt><dd>0</dd><dt>sex</dt><dd>0</dd><dt>birth</dt><dd>0</dd><dt>date</dt><dd>0</dd><dt>session_id</dt><dd>0</dd></dl>\n"
      ],
      "text/latex": [
       "\\begin{description*}\n",
       "\\item[id\\textbackslash{}\\_prod] 0\n",
       "\\item[price] 0\n",
       "\\item[categ] 0\n",
       "\\item[client\\textbackslash{}\\_id] 0\n",
       "\\item[sex] 0\n",
       "\\item[birth] 0\n",
       "\\item[date] 0\n",
       "\\item[session\\textbackslash{}\\_id] 0\n",
       "\\end{description*}\n"
      ],
      "text/markdown": [
       "id_prod\n",
       ":   0price\n",
       ":   0categ\n",
       ":   0client_id\n",
       ":   0sex\n",
       ":   0birth\n",
       ":   0date\n",
       ":   0session_id\n",
       ":   0\n",
       "\n"
      ],
      "text/plain": [
       "   id_prod      price      categ  client_id        sex      birth       date \n",
       "         0          0          0          0          0          0          0 \n",
       "session_id \n",
       "         0 "
      ]
     },
     "metadata": {},
     "output_type": "display_data"
    },
    {
     "data": {
      "text/html": [],
      "text/latex": [],
      "text/markdown": [],
      "text/plain": [
       "named integer(0)"
      ]
     },
     "metadata": {},
     "output_type": "display_data"
    },
    {
     "data": {
      "text/html": [
       "'Le nombre total de valeurs manques dans Transactions_Produits_Clients est : 0.'"
      ],
      "text/latex": [
       "'Le nombre total de valeurs manques dans Transactions\\_Produits\\_Clients est : 0.'"
      ],
      "text/markdown": [
       "'Le nombre total de valeurs manques dans Transactions_Produits_Clients est : 0.'"
      ],
      "text/plain": [
       "[1] \"Le nombre total de valeurs manques dans Transactions_Produits_Clients est : 0.\""
      ]
     },
     "metadata": {},
     "output_type": "display_data"
    }
   ],
   "source": [
    "valeurs_manquantes(Transactions_Produits_Clients)\n",
    "valeurs_manquantes_real(Transactions_Produits_Clients,\"Transactions_Produits_Clients\") # 0 NA"
   ]
  },
  {
   "cell_type": "markdown",
   "id": "ebeedf7c-ea4e-477b-b1ee-ebe899b8a283",
   "metadata": {},
   "source": [
    "### ***Les Séries temporelles et représentation graphique***"
   ]
  },
  {
   "cell_type": "code",
   "execution_count": 32,
   "id": "3d373eba-6918-4ce9-96ed-4d47bc9165d9",
   "metadata": {},
   "outputs": [
    {
     "data": {
      "text/html": [
       "<table class=\"dataframe\">\n",
       "<caption>A data.table: 3 × 13</caption>\n",
       "<thead>\n",
       "\t<tr><th scope=col>id_prod</th><th scope=col>price</th><th scope=col>categ</th><th scope=col>client_id</th><th scope=col>sex</th><th scope=col>birth</th><th scope=col>date</th><th scope=col>session_id</th><th scope=col>minute</th><th scope=col>heure</th><th scope=col>jour</th><th scope=col>mois</th><th scope=col>year</th></tr>\n",
       "\t<tr><th scope=col>&lt;chr&gt;</th><th scope=col>&lt;dbl&gt;</th><th scope=col>&lt;chr&gt;</th><th scope=col>&lt;chr&gt;</th><th scope=col>&lt;chr&gt;</th><th scope=col>&lt;int&gt;</th><th scope=col>&lt;chr&gt;</th><th scope=col>&lt;chr&gt;</th><th scope=col>&lt;chr&gt;</th><th scope=col>&lt;chr&gt;</th><th scope=col>&lt;date&gt;</th><th scope=col>&lt;chr&gt;</th><th scope=col>&lt;chr&gt;</th></tr>\n",
       "</thead>\n",
       "<tbody>\n",
       "\t<tr><td>0_0</td><td>3.75</td><td>0</td><td>c_1004</td><td>m</td><td>1973</td><td>2021-03-02 21:57:33.862118</td><td>s_908   </td><td>2021-03-02 21:57</td><td>2021-03-02 21</td><td>2021-03-02</td><td>2021-03</td><td>2021</td></tr>\n",
       "\t<tr><td>0_0</td><td>3.75</td><td>0</td><td>c_1011</td><td>f</td><td>1999</td><td>2022-03-18 16:40:10.068303</td><td>s_180968</td><td>2022-03-18 16:40</td><td>2022-03-18 16</td><td>2022-03-18</td><td>2022-03</td><td>2022</td></tr>\n",
       "\t<tr><td>0_0</td><td>3.75</td><td>0</td><td>c_1011</td><td>f</td><td>1999</td><td>2022-02-18 16:40:10.068303</td><td>s_167174</td><td>2022-02-18 16:40</td><td>2022-02-18 16</td><td>2022-02-18</td><td>2022-02</td><td>2022</td></tr>\n",
       "</tbody>\n",
       "</table>\n"
      ],
      "text/latex": [
       "A data.table: 3 × 13\n",
       "\\begin{tabular}{lllllllllllll}\n",
       " id\\_prod & price & categ & client\\_id & sex & birth & date & session\\_id & minute & heure & jour & mois & year\\\\\n",
       " <chr> & <dbl> & <chr> & <chr> & <chr> & <int> & <chr> & <chr> & <chr> & <chr> & <date> & <chr> & <chr>\\\\\n",
       "\\hline\n",
       "\t 0\\_0 & 3.75 & 0 & c\\_1004 & m & 1973 & 2021-03-02 21:57:33.862118 & s\\_908    & 2021-03-02 21:57 & 2021-03-02 21 & 2021-03-02 & 2021-03 & 2021\\\\\n",
       "\t 0\\_0 & 3.75 & 0 & c\\_1011 & f & 1999 & 2022-03-18 16:40:10.068303 & s\\_180968 & 2022-03-18 16:40 & 2022-03-18 16 & 2022-03-18 & 2022-03 & 2022\\\\\n",
       "\t 0\\_0 & 3.75 & 0 & c\\_1011 & f & 1999 & 2022-02-18 16:40:10.068303 & s\\_167174 & 2022-02-18 16:40 & 2022-02-18 16 & 2022-02-18 & 2022-02 & 2022\\\\\n",
       "\\end{tabular}\n"
      ],
      "text/markdown": [
       "\n",
       "A data.table: 3 × 13\n",
       "\n",
       "| id_prod &lt;chr&gt; | price &lt;dbl&gt; | categ &lt;chr&gt; | client_id &lt;chr&gt; | sex &lt;chr&gt; | birth &lt;int&gt; | date &lt;chr&gt; | session_id &lt;chr&gt; | minute &lt;chr&gt; | heure &lt;chr&gt; | jour &lt;date&gt; | mois &lt;chr&gt; | year &lt;chr&gt; |\n",
       "|---|---|---|---|---|---|---|---|---|---|---|---|---|\n",
       "| 0_0 | 3.75 | 0 | c_1004 | m | 1973 | 2021-03-02 21:57:33.862118 | s_908    | 2021-03-02 21:57 | 2021-03-02 21 | 2021-03-02 | 2021-03 | 2021 |\n",
       "| 0_0 | 3.75 | 0 | c_1011 | f | 1999 | 2022-03-18 16:40:10.068303 | s_180968 | 2022-03-18 16:40 | 2022-03-18 16 | 2022-03-18 | 2022-03 | 2022 |\n",
       "| 0_0 | 3.75 | 0 | c_1011 | f | 1999 | 2022-02-18 16:40:10.068303 | s_167174 | 2022-02-18 16:40 | 2022-02-18 16 | 2022-02-18 | 2022-02 | 2022 |\n",
       "\n"
      ],
      "text/plain": [
       "  id_prod price categ client_id sex birth date                       session_id\n",
       "1 0_0     3.75  0     c_1004    m   1973  2021-03-02 21:57:33.862118 s_908     \n",
       "2 0_0     3.75  0     c_1011    f   1999  2022-03-18 16:40:10.068303 s_180968  \n",
       "3 0_0     3.75  0     c_1011    f   1999  2022-02-18 16:40:10.068303 s_167174  \n",
       "  minute           heure         jour       mois    year\n",
       "1 2021-03-02 21:57 2021-03-02 21 2021-03-02 2021-03 2021\n",
       "2 2022-03-18 16:40 2022-03-18 16 2022-03-18 2022-03 2022\n",
       "3 2022-02-18 16:40 2022-02-18 16 2022-02-18 2022-02 2022"
      ]
     },
     "metadata": {},
     "output_type": "display_data"
    }
   ],
   "source": [
    "Transactions_Produits_Clients[,minute:=substr(date,1,16)]\n",
    "Transactions_Produits_Clients[,heure:=substr(date,1,13)]\n",
    "Transactions_Produits_Clients[,jour:=substr(date,1,10)]\n",
    "Transactions_Produits_Clients$jour = as.Date(Transactions_Produits_Clients$jour , \"%Y-%m-%d\")\n",
    "Transactions_Produits_Clients[,mois:=substr(date,1,7)]\n",
    "Transactions_Produits_Clients[,year:=substr(date,1,4)]\n",
    "head(Transactions_Produits_Clients,3)"
   ]
  },
  {
   "cell_type": "code",
   "execution_count": 33,
   "id": "bf2b95d5-5c1e-4e0c-af00-65fbcefc3327",
   "metadata": {},
   "outputs": [],
   "source": [
    "Transactions_Produits_Clients <- Transactions_Produits_Clients[, categ:=as.character(categ)]"
   ]
  },
  {
   "cell_type": "code",
   "execution_count": 34,
   "id": "776fd2d9-574d-4ece-98a6-80a51e29a2c1",
   "metadata": {},
   "outputs": [
    {
     "name": "stdout",
     "output_type": "stream",
     "text": [
      "Classes ‘data.table’ and 'data.frame':\t679332 obs. of  13 variables:\n",
      " $ id_prod   : chr  \"0_0\" \"0_0\" \"0_0\" \"0_0\" ...\n",
      " $ price     : num  3.75 3.75 3.75 3.75 3.75 3.75 3.75 3.75 3.75 3.75 ...\n",
      " $ categ     : chr  \"0\" \"0\" \"0\" \"0\" ...\n",
      " $ client_id : chr  \"c_1004\" \"c_1011\" \"c_1011\" \"c_1011\" ...\n",
      " $ sex       : chr  \"m\" \"f\" \"f\" \"f\" ...\n",
      " $ birth     : int  1973 1999 1999 1999 1999 1975 1975 1975 1961 1961 ...\n",
      " $ date      : chr  \"2021-03-02 21:57:33.862118\" \"2022-03-18 16:40:10.068303\" \"2022-02-18 16:40:10.068303\" \"2022-04-18 16:40:10.068303\" ...\n",
      " $ session_id: chr  \"s_908\" \"s_180968\" \"s_167174\" \"s_195932\" ...\n",
      " $ minute    : chr  \"2021-03-02 21:57\" \"2022-03-18 16:40\" \"2022-02-18 16:40\" \"2022-04-18 16:40\" ...\n",
      " $ heure     : chr  \"2021-03-02 21\" \"2022-03-18 16\" \"2022-02-18 16\" \"2022-04-18 16\" ...\n",
      " $ jour      : Date, format: \"2021-03-02\" \"2022-03-18\" ...\n",
      " $ mois      : chr  \"2021-03\" \"2022-03\" \"2022-02\" \"2022-04\" ...\n",
      " $ year      : chr  \"2021\" \"2022\" \"2022\" \"2022\" ...\n",
      " - attr(*, \".internal.selfref\")=<externalptr> \n",
      " - attr(*, \"sorted\")= chr \"id_prod\"\n"
     ]
    }
   ],
   "source": [
    "str(Transactions_Produits_Clients)"
   ]
  },
  {
   "cell_type": "code",
   "execution_count": 35,
   "id": "8a4a7956-d38f-4e27-a380-4a048879a1c3",
   "metadata": {},
   "outputs": [
    {
     "name": "stderr",
     "output_type": "stream",
     "text": [
      "\u001b[1m\u001b[22m`summarise()` has grouped output by 'jour'. You can override using the\n",
      "`.groups` argument.\n"
     ]
    },
    {
     "name": "stdout",
     "output_type": "stream",
     "text": [
      "[1] \"Le nombre total de jours de vente de catégorie 0 est : 730 .\"\n",
      "[1] \"Le nombre total de jours de vente de catégorie 1 est : 704 .\"\n",
      "[1] \"Le nombre total de jours de vente de catégorie 2 est : 730 .\"\n"
     ]
    },
    {
     "data": {
      "image/png": "[encoded data removed]",
      "text/plain": [
       "plot without title"
      ]
     },
     "metadata": {
      "image/png": {
       "height": 420,
       "width": 420
      }
     },
     "output_type": "display_data"
    }
   ],
   "source": [
    "# jour\n",
    "session_j <- Transactions_Produits_Clients %>% \n",
    "      group_by(jour,categ) %>% \n",
    "      dplyr::summarise(nb_session = n())\n",
    "    #print(dim(session_j))\n",
    "#head(session_j)\n",
    "\n",
    "session_j_0<-session_j[session_j$categ == '0',]\n",
    "session_j_1<-session_j[session_j$categ == '1',]\n",
    "session_j_2<-session_j[session_j$categ == '2',]\n",
    "\n",
    "print(paste(\"Le nombre total de jours de vente de catégorie 0 est :\", format(dim(session_j_0)[1]), \".\"))\n",
    "print(paste(\"Le nombre total de jours de vente de catégorie 1 est :\", format(dim(session_j_1)[1]), \".\"))\n",
    "print(paste(\"Le nombre total de jours de vente de catégorie 2 est :\", format(dim(session_j_2)[1]), \".\"))\n",
    "\n",
    "plot_session_j <- ggplot(session_j, aes(jour, nb_session, group = 1)) +\n",
    "         geom_point() +\n",
    "         #geom_line() +\n",
    "theme(axis.text.x = element_text(angle=30, hjust=1))+\n",
    "         labs(x = \"jour\", y = \"nb_session\", \n",
    "              title = \"session_j\")\n",
    "plot_session_j + facet_grid(categ ~ .)"
   ]
  },
  {
   "cell_type": "code",
   "execution_count": 36,
   "id": "20330be9-8d4c-4123-9cf7-38f8756d7a41",
   "metadata": {},
   "outputs": [
    {
     "name": "stderr",
     "output_type": "stream",
     "text": [
      "\u001b[1m\u001b[22m`summarise()` has grouped output by 'jour'. You can override using the\n",
      "`.groups` argument.\n"
     ]
    },
    {
     "name": "stdout",
     "output_type": "stream",
     "text": [
      "[1] \"Le nombre de jours de vente de catégorie 0 de septembre à novembre 2021 est : 91 .\"\n",
      "[1] \"Le nombre de jours de vente de catégorie 1 de septembre à novembre 2021 est : 65 .\"\n",
      "[1] \"Le nombre de jours de vente de catégorie 2 de septembre à novembre 2021 est : 91 .\"\n"
     ]
    },
    {
     "data": {
      "image/png": "[encoded data removed]",
      "text/plain": [
       "plot without title"
      ]
     },
     "metadata": {
      "image/png": {
       "height": 420,
       "width": 420
      }
     },
     "output_type": "display_data"
    },
    {
     "data": {
      "image/png": "[encoded data removed]",
      "text/plain": [
       "plot without title"
      ]
     },
     "metadata": {
      "image/png": {
       "height": 420,
       "width": 420
      }
     },
     "output_type": "display_data"
    }
   ],
   "source": [
    "# 09 & 10 & 11_2021 jour categ\n",
    "\n",
    "Transactions_Produits_Clients_9_11_2021 <- Transactions_Produits_Clients[mois == \"2021-09\" | mois ==\"2021-10\"|mois ==\"2021-11\",]\n",
    "\n",
    "session_jour_9_11_2021 <- Transactions_Produits_Clients_9_11_2021 %>% \n",
    "      group_by(jour,categ) %>% \n",
    "      dplyr::summarise(nb_session = n())\n",
    "\n",
    "session_jour_9_11_2021_0<-session_jour_9_11_2021[session_jour_9_11_2021$categ == '0',]\n",
    "session_jour_9_11_2021_1<-session_jour_9_11_2021[session_jour_9_11_2021$categ == '1',]\n",
    "session_jour_9_11_2021_2<-session_jour_9_11_2021[session_jour_9_11_2021$categ == '2',]\n",
    "\n",
    "print(paste(\"Le nombre de jours de vente de catégorie 0 de septembre à novembre 2021 est :\", format(dim(session_jour_9_11_2021_0)[1]), \".\"))\n",
    "print(paste(\"Le nombre de jours de vente de catégorie 1 de septembre à novembre 2021 est :\", format(dim(session_jour_9_11_2021_1)[1]), \".\"))\n",
    "print(paste(\"Le nombre de jours de vente de catégorie 2 de septembre à novembre 2021 est :\", format(dim(session_jour_9_11_2021_2)[1]), \".\"))\n",
    "\n",
    "\n",
    "plot_session_jour_9_11_2021 <- ggplot(session_jour_9_11_2021, aes(jour, nb_session, group = 1)) +\n",
    "  geom_point() +\n",
    " #geom_line() +\n",
    "  theme(axis.text.x = element_text(angle=30, hjust=1))+\n",
    "  labs(x = \"jour\", y = \"nb_session\", \n",
    "       title = \"categ\")\n",
    "plot_session_jour_9_11_2021 + facet_grid(categ ~ .)\n",
    "\n",
    "Trou_10_2021 <- Transactions_Produits_Clients[jour>=\"2021-10-02\" & jour<=\"2021-10-27\",]\n",
    "#dim(Trou_10_2021)\n",
    "# print(paste(\"Le nombre de jours de vente de catégorie 0 au mois d'octobre 2021 est :\", format(dim(Trou_10_2021)[1]), \".\"))\n",
    "\n",
    "#head(Trou_10_2021)\n",
    "\n",
    "# VARIABLE QUALITATIVE\n",
    "value_counts = as.data.frame(table(Transactions_Produits_Clients_9_11_2021$categ))\n",
    "colnames(value_counts) = c(\"categ\",\"effectifs\")\n",
    "\n",
    "# Diagramme en tuyaux d'orgues\n",
    "ggplot(value_counts, aes(x=categ, y=effectifs, fill=categ))+\n",
    "geom_bar(stat=\"identity\", color=\"white\")+\n",
    "scale_fill_manual(values=c(\"green\", \"lightblue\", \"red\"))+\n",
    "  theme_minimal()"
   ]
  },
  {
   "cell_type": "code",
   "execution_count": 37,
   "id": "5669def1-b02f-491a-89ac-4f9468908bf1",
   "metadata": {},
   "outputs": [
    {
     "name": "stderr",
     "output_type": "stream",
     "text": [
      "\u001b[1m\u001b[22m`summarise()` has grouped output by 'jour'. You can override using the\n",
      "`.groups` argument.\n"
     ]
    },
    {
     "name": "stdout",
     "output_type": "stream",
     "text": [
      "[1] \"Le nombre de jours de vente de catégorie 0 au mois d'octobre 2021 est : 31 .\"\n",
      "[1] \"Le nombre de jours de vente de catégorie 1 au mois d'octobre 2021 est : 5 .\"\n",
      "[1] \"Le nombre de jours de vente de catégorie 2 au mois d'octobre 2021 est : 31 .\"\n"
     ]
    },
    {
     "data": {
      "image/png": "[encoded data removed]",
      "text/plain": [
       "plot without title"
      ]
     },
     "metadata": {
      "image/png": {
       "height": 420,
       "width": 420
      }
     },
     "output_type": "display_data"
    },
    {
     "data": {
      "image/png": "[encoded data removed]",
      "text/plain": [
       "plot without title"
      ]
     },
     "metadata": {
      "image/png": {
       "height": 420,
       "width": 420
      }
     },
     "output_type": "display_data"
    }
   ],
   "source": [
    "# 10_2021 jour categ\n",
    "\n",
    "Transactions_Produits_Clients_10_2021 <- Transactions_Produits_Clients[mois==\"2021-10\",] \n",
    "#head(Transactions_Produits_Clients_10_2021)\n",
    "\n",
    "session_jour_10_2021 <- Transactions_Produits_Clients_10_2021 %>% \n",
    "      group_by(jour,categ) %>% \n",
    "      dplyr::summarise(nb_session = n())\n",
    "\n",
    "session_jour_10_2021_0<-session_jour_10_2021[session_jour_10_2021$categ == '0',]\n",
    "session_jour_10_2021_1<-session_jour_10_2021[session_jour_10_2021$categ == '1',]\n",
    "session_jour_10_2021_2<-session_jour_10_2021[session_jour_10_2021$categ == '2',]\n",
    "\n",
    "print(paste(\"Le nombre de jours de vente de catégorie 0 au mois d'octobre 2021 est :\", format(dim(session_jour_10_2021_0)[1]), \".\"))\n",
    "print(paste(\"Le nombre de jours de vente de catégorie 1 au mois d'octobre 2021 est :\", format(dim(session_jour_10_2021_1)[1]), \".\"))\n",
    "print(paste(\"Le nombre de jours de vente de catégorie 2 au mois d'octobre 2021 est :\", format(dim(session_jour_10_2021_2)[1]), \".\"))\n",
    "# session_jour_10_2021_1\n",
    "#session_jour_10_2021\n",
    "\n",
    "plot_session_jour_10_2021 <- ggplot(session_jour_10_2021, aes(jour, nb_session, group = 1)) +\n",
    "  geom_point() +\n",
    " #geom_line() +\n",
    "  theme(axis.text.x = element_text(angle=30, hjust=1))+\n",
    "  labs(x = \"jour\", y = \"nb_session\", \n",
    "       title = \"categ\")\n",
    "plot_session_jour_10_2021 + facet_grid(categ ~ .)\n",
    "\n",
    "Trou_10_2021 <- Transactions_Produits_Clients[jour>=\"2021-10-02\" & jour<=\"2021-10-27\",]\n",
    "# dim(Trou_10_2021)\n",
    "# print(paste(\"Le nombre de jours de vente de catégorie 0 au mois d'octobre 2021 est :\", format(dim(session_jour_10_2021_0)[1]), \".\"))\n",
    "\n",
    "#head(Trou_10_2021)\n",
    "\n",
    "# VARIABLE QUALITATIVE\n",
    "value_counts = as.data.frame(table(Transactions_Produits_Clients_10_2021$categ))\n",
    "colnames(value_counts) = c(\"categ\",\"effectifs\")\n",
    "\n",
    "# Diagramme en tuyaux d'orgues\n",
    "ggplot(value_counts, aes(x=categ, y=effectifs, fill=categ))+\n",
    "geom_bar(stat=\"identity\", color=\"white\")+\n",
    "scale_fill_manual(values=c(\"green\", \"lightblue\", \"red\"))+\n",
    "  theme_minimal()"
   ]
  },
  {
   "cell_type": "code",
   "execution_count": 38,
   "id": "aca9580a-2da3-426d-8dec-657560a387b5",
   "metadata": {},
   "outputs": [
    {
     "data": {
      "text/html": [
       "<table class=\"dataframe\">\n",
       "<caption>A data.table: 6 × 13</caption>\n",
       "<thead>\n",
       "\t<tr><th scope=col>id_prod</th><th scope=col>price</th><th scope=col>categ</th><th scope=col>client_id</th><th scope=col>sex</th><th scope=col>birth</th><th scope=col>date</th><th scope=col>session_id</th><th scope=col>minute</th><th scope=col>heure</th><th scope=col>jour</th><th scope=col>mois</th><th scope=col>year</th></tr>\n",
       "\t<tr><th scope=col>&lt;chr&gt;</th><th scope=col>&lt;dbl&gt;</th><th scope=col>&lt;chr&gt;</th><th scope=col>&lt;chr&gt;</th><th scope=col>&lt;chr&gt;</th><th scope=col>&lt;int&gt;</th><th scope=col>&lt;chr&gt;</th><th scope=col>&lt;chr&gt;</th><th scope=col>&lt;chr&gt;</th><th scope=col>&lt;chr&gt;</th><th scope=col>&lt;date&gt;</th><th scope=col>&lt;chr&gt;</th><th scope=col>&lt;chr&gt;</th></tr>\n",
       "</thead>\n",
       "<tbody>\n",
       "\t<tr><td>1_1</td><td>42.99</td><td>1</td><td>c_1609</td><td>m</td><td>1980</td><td>2023-02-28 10:48:01.948941</td><td>s_348182</td><td>2023-02-28 10:48</td><td>2023-02-28 10</td><td>2023-02-28</td><td>2023-02</td><td>2023</td></tr>\n",
       "\t<tr><td>1_1</td><td>42.99</td><td>1</td><td>c_1609</td><td>m</td><td>1980</td><td>2021-11-28 10:48:01.948941</td><td>s_126295</td><td>2021-11-28 10:48</td><td>2021-11-28 10</td><td>2021-11-28</td><td>2021-11</td><td>2021</td></tr>\n",
       "\t<tr><td>1_1</td><td>42.99</td><td>1</td><td>c_2409</td><td>f</td><td>1978</td><td>2021-07-29 02:23:40.640281</td><td>s_68471 </td><td>2021-07-29 02:23</td><td>2021-07-29 02</td><td>2021-07-29</td><td>2021-07</td><td>2021</td></tr>\n",
       "\t<tr><td>1_1</td><td>42.99</td><td>1</td><td>c_2409</td><td>f</td><td>1978</td><td>2022-06-29 02:23:40.640281</td><td>s_230808</td><td>2022-06-29 02:23</td><td>2022-06-29 02</td><td>2022-06-29</td><td>2022-06</td><td>2022</td></tr>\n",
       "\t<tr><td>1_1</td><td>42.99</td><td>1</td><td>c_2409</td><td>f</td><td>1978</td><td>2023-01-29 02:23:40.640281</td><td>s_333868</td><td>2023-01-29 02:23</td><td>2023-01-29 02</td><td>2023-01-29</td><td>2023-01</td><td>2023</td></tr>\n",
       "\t<tr><td>1_1</td><td>42.99</td><td>1</td><td>c_2975</td><td>f</td><td>1992</td><td>2021-07-07 19:45:56.961641</td><td>s_59212 </td><td>2021-07-07 19:45</td><td>2021-07-07 19</td><td>2021-07-07</td><td>2021-07</td><td>2021</td></tr>\n",
       "</tbody>\n",
       "</table>\n"
      ],
      "text/latex": [
       "A data.table: 6 × 13\n",
       "\\begin{tabular}{lllllllllllll}\n",
       " id\\_prod & price & categ & client\\_id & sex & birth & date & session\\_id & minute & heure & jour & mois & year\\\\\n",
       " <chr> & <dbl> & <chr> & <chr> & <chr> & <int> & <chr> & <chr> & <chr> & <chr> & <date> & <chr> & <chr>\\\\\n",
       "\\hline\n",
       "\t 1\\_1 & 42.99 & 1 & c\\_1609 & m & 1980 & 2023-02-28 10:48:01.948941 & s\\_348182 & 2023-02-28 10:48 & 2023-02-28 10 & 2023-02-28 & 2023-02 & 2023\\\\\n",
       "\t 1\\_1 & 42.99 & 1 & c\\_1609 & m & 1980 & 2021-11-28 10:48:01.948941 & s\\_126295 & 2021-11-28 10:48 & 2021-11-28 10 & 2021-11-28 & 2021-11 & 2021\\\\\n",
       "\t 1\\_1 & 42.99 & 1 & c\\_2409 & f & 1978 & 2021-07-29 02:23:40.640281 & s\\_68471  & 2021-07-29 02:23 & 2021-07-29 02 & 2021-07-29 & 2021-07 & 2021\\\\\n",
       "\t 1\\_1 & 42.99 & 1 & c\\_2409 & f & 1978 & 2022-06-29 02:23:40.640281 & s\\_230808 & 2022-06-29 02:23 & 2022-06-29 02 & 2022-06-29 & 2022-06 & 2022\\\\\n",
       "\t 1\\_1 & 42.99 & 1 & c\\_2409 & f & 1978 & 2023-01-29 02:23:40.640281 & s\\_333868 & 2023-01-29 02:23 & 2023-01-29 02 & 2023-01-29 & 2023-01 & 2023\\\\\n",
       "\t 1\\_1 & 42.99 & 1 & c\\_2975 & f & 1992 & 2021-07-07 19:45:56.961641 & s\\_59212  & 2021-07-07 19:45 & 2021-07-07 19 & 2021-07-07 & 2021-07 & 2021\\\\\n",
       "\\end{tabular}\n"
      ],
      "text/markdown": [
       "\n",
       "A data.table: 6 × 13\n",
       "\n",
       "| id_prod &lt;chr&gt; | price &lt;dbl&gt; | categ &lt;chr&gt; | client_id &lt;chr&gt; | sex &lt;chr&gt; | birth &lt;int&gt; | date &lt;chr&gt; | session_id &lt;chr&gt; | minute &lt;chr&gt; | heure &lt;chr&gt; | jour &lt;date&gt; | mois &lt;chr&gt; | year &lt;chr&gt; |\n",
       "|---|---|---|---|---|---|---|---|---|---|---|---|---|\n",
       "| 1_1 | 42.99 | 1 | c_1609 | m | 1980 | 2023-02-28 10:48:01.948941 | s_348182 | 2023-02-28 10:48 | 2023-02-28 10 | 2023-02-28 | 2023-02 | 2023 |\n",
       "| 1_1 | 42.99 | 1 | c_1609 | m | 1980 | 2021-11-28 10:48:01.948941 | s_126295 | 2021-11-28 10:48 | 2021-11-28 10 | 2021-11-28 | 2021-11 | 2021 |\n",
       "| 1_1 | 42.99 | 1 | c_2409 | f | 1978 | 2021-07-29 02:23:40.640281 | s_68471  | 2021-07-29 02:23 | 2021-07-29 02 | 2021-07-29 | 2021-07 | 2021 |\n",
       "| 1_1 | 42.99 | 1 | c_2409 | f | 1978 | 2022-06-29 02:23:40.640281 | s_230808 | 2022-06-29 02:23 | 2022-06-29 02 | 2022-06-29 | 2022-06 | 2022 |\n",
       "| 1_1 | 42.99 | 1 | c_2409 | f | 1978 | 2023-01-29 02:23:40.640281 | s_333868 | 2023-01-29 02:23 | 2023-01-29 02 | 2023-01-29 | 2023-01 | 2023 |\n",
       "| 1_1 | 42.99 | 1 | c_2975 | f | 1992 | 2021-07-07 19:45:56.961641 | s_59212  | 2021-07-07 19:45 | 2021-07-07 19 | 2021-07-07 | 2021-07 | 2021 |\n",
       "\n"
      ],
      "text/plain": [
       "  id_prod price categ client_id sex birth date                       session_id\n",
       "1 1_1     42.99 1     c_1609    m   1980  2023-02-28 10:48:01.948941 s_348182  \n",
       "2 1_1     42.99 1     c_1609    m   1980  2021-11-28 10:48:01.948941 s_126295  \n",
       "3 1_1     42.99 1     c_2409    f   1978  2021-07-29 02:23:40.640281 s_68471   \n",
       "4 1_1     42.99 1     c_2409    f   1978  2022-06-29 02:23:40.640281 s_230808  \n",
       "5 1_1     42.99 1     c_2409    f   1978  2023-01-29 02:23:40.640281 s_333868  \n",
       "6 1_1     42.99 1     c_2975    f   1992  2021-07-07 19:45:56.961641 s_59212   \n",
       "  minute           heure         jour       mois    year\n",
       "1 2023-02-28 10:48 2023-02-28 10 2023-02-28 2023-02 2023\n",
       "2 2021-11-28 10:48 2021-11-28 10 2021-11-28 2021-11 2021\n",
       "3 2021-07-29 02:23 2021-07-29 02 2021-07-29 2021-07 2021\n",
       "4 2022-06-29 02:23 2022-06-29 02 2022-06-29 2022-06 2022\n",
       "5 2023-01-29 02:23 2023-01-29 02 2023-01-29 2023-01 2023\n",
       "6 2021-07-07 19:45 2021-07-07 19 2021-07-07 2021-07 2021"
      ]
     },
     "metadata": {},
     "output_type": "display_data"
    }
   ],
   "source": [
    "Transactions_Produits_Clients_categ_1<-Transactions_Produits_Clients[Transactions_Produits_Clients$categ == '1',]\n",
    "head(Transactions_Produits_Clients_categ_1)\n"
   ]
  },
  {
   "cell_type": "code",
   "execution_count": 39,
   "id": "cbc7bf1e-590e-4eb2-aa51-6f78186add22",
   "metadata": {},
   "outputs": [
    {
     "data": {
      "text/html": [
       "<table class=\"dataframe\">\n",
       "<caption>A data.table: 0 × 13</caption>\n",
       "<thead>\n",
       "\t<tr><th scope=col>id_prod</th><th scope=col>price</th><th scope=col>categ</th><th scope=col>client_id</th><th scope=col>sex</th><th scope=col>birth</th><th scope=col>date</th><th scope=col>session_id</th><th scope=col>minute</th><th scope=col>heure</th><th scope=col>jour</th><th scope=col>mois</th><th scope=col>year</th></tr>\n",
       "\t<tr><th scope=col>&lt;chr&gt;</th><th scope=col>&lt;dbl&gt;</th><th scope=col>&lt;chr&gt;</th><th scope=col>&lt;chr&gt;</th><th scope=col>&lt;chr&gt;</th><th scope=col>&lt;int&gt;</th><th scope=col>&lt;chr&gt;</th><th scope=col>&lt;chr&gt;</th><th scope=col>&lt;chr&gt;</th><th scope=col>&lt;chr&gt;</th><th scope=col>&lt;date&gt;</th><th scope=col>&lt;chr&gt;</th><th scope=col>&lt;chr&gt;</th></tr>\n",
       "</thead>\n",
       "<tbody>\n",
       "</tbody>\n",
       "</table>\n"
      ],
      "text/latex": [
       "A data.table: 0 × 13\n",
       "\\begin{tabular}{lllllllllllll}\n",
       " id\\_prod & price & categ & client\\_id & sex & birth & date & session\\_id & minute & heure & jour & mois & year\\\\\n",
       " <chr> & <dbl> & <chr> & <chr> & <chr> & <int> & <chr> & <chr> & <chr> & <chr> & <date> & <chr> & <chr>\\\\\n",
       "\\hline\n",
       "\\end{tabular}\n"
      ],
      "text/markdown": [
       "\n",
       "A data.table: 0 × 13\n",
       "\n",
       "| id_prod &lt;chr&gt; | price &lt;dbl&gt; | categ &lt;chr&gt; | client_id &lt;chr&gt; | sex &lt;chr&gt; | birth &lt;int&gt; | date &lt;chr&gt; | session_id &lt;chr&gt; | minute &lt;chr&gt; | heure &lt;chr&gt; | jour &lt;date&gt; | mois &lt;chr&gt; | year &lt;chr&gt; |\n",
       "|---|---|---|---|---|---|---|---|---|---|---|---|---|\n",
       "\n"
      ],
      "text/plain": [
       "     id_prod price categ client_id sex birth date session_id minute heure jour\n",
       "     mois year"
      ]
     },
     "metadata": {},
     "output_type": "display_data"
    }
   ],
   "source": [
    "Trou_10_2021_1 <- Transactions_Produits_Clients_categ_1[jour>=\"2021-10-02\" & jour<=\"2021-10-27\",]\n",
    "head(Trou_10_2021_1)"
   ]
  },
  {
   "cell_type": "code",
   "execution_count": 40,
   "id": "c65028b4-0d22-424c-ab90-577443896996",
   "metadata": {},
   "outputs": [
    {
     "data": {
      "text/html": [
       "<style>\n",
       ".list-inline {list-style: none; margin:0; padding: 0}\n",
       ".list-inline>li {display: inline-block}\n",
       ".list-inline>li:not(:last-child)::after {content: \"\\00b7\"; padding: 0 .5ex}\n",
       "</style>\n",
       "<ol class=list-inline><li>4186</li><li>13</li></ol>\n"
      ],
      "text/latex": [
       "\\begin{enumerate*}\n",
       "\\item 4186\n",
       "\\item 13\n",
       "\\end{enumerate*}\n"
      ],
      "text/markdown": [
       "1. 4186\n",
       "2. 13\n",
       "\n",
       "\n"
      ],
      "text/plain": [
       "[1] 4186   13"
      ]
     },
     "metadata": {},
     "output_type": "display_data"
    },
    {
     "data": {
      "text/html": [
       "<table class=\"dataframe\">\n",
       "<caption>A data.table: 6 × 13</caption>\n",
       "<thead>\n",
       "\t<tr><th scope=col>id_prod</th><th scope=col>price</th><th scope=col>categ</th><th scope=col>client_id</th><th scope=col>sex</th><th scope=col>birth</th><th scope=col>date</th><th scope=col>session_id</th><th scope=col>minute</th><th scope=col>heure</th><th scope=col>jour</th><th scope=col>mois</th><th scope=col>year</th></tr>\n",
       "\t<tr><th scope=col>&lt;chr&gt;</th><th scope=col>&lt;dbl&gt;</th><th scope=col>&lt;chr&gt;</th><th scope=col>&lt;chr&gt;</th><th scope=col>&lt;chr&gt;</th><th scope=col>&lt;int&gt;</th><th scope=col>&lt;chr&gt;</th><th scope=col>&lt;chr&gt;</th><th scope=col>&lt;chr&gt;</th><th scope=col>&lt;chr&gt;</th><th scope=col>&lt;date&gt;</th><th scope=col>&lt;chr&gt;</th><th scope=col>&lt;chr&gt;</th></tr>\n",
       "</thead>\n",
       "<tbody>\n",
       "\t<tr><td>1_10 </td><td>78.83</td><td>1</td><td>c_4594</td><td>m</td><td>1951</td><td>2021-09-29 10:35:08.570290</td><td>s_97368</td><td>2021-09-29 10:35</td><td>2021-09-29 10</td><td>2021-09-29</td><td>2021-09</td><td>2021</td></tr>\n",
       "\t<tr><td>1_10 </td><td>78.83</td><td>1</td><td>c_5894</td><td>m</td><td>1975</td><td>2021-09-19 16:49:44.618286</td><td>s_92344</td><td>2021-09-19 16:49</td><td>2021-09-19 16</td><td>2021-09-19</td><td>2021-09</td><td>2021</td></tr>\n",
       "\t<tr><td>1_10 </td><td>78.83</td><td>1</td><td>c_8502</td><td>f</td><td>1975</td><td>2021-09-23 21:57:16.154567</td><td>s_94457</td><td>2021-09-23 21:57</td><td>2021-09-23 21</td><td>2021-09-23</td><td>2021-09</td><td>2021</td></tr>\n",
       "\t<tr><td>1_100</td><td>15.13</td><td>1</td><td>c_233 </td><td>m</td><td>2004</td><td>2021-10-01 08:19:20.139763</td><td>s_98314</td><td>2021-10-01 08:19</td><td>2021-10-01 08</td><td>2021-10-01</td><td>2021-10</td><td>2021</td></tr>\n",
       "\t<tr><td>1_100</td><td>15.13</td><td>1</td><td>c_3285</td><td>m</td><td>1989</td><td>2021-10-01 18:06:12.971592</td><td>s_98522</td><td>2021-10-01 18:06</td><td>2021-10-01 18</td><td>2021-10-01</td><td>2021-10</td><td>2021</td></tr>\n",
       "\t<tr><td>1_100</td><td>15.13</td><td>1</td><td>c_356 </td><td>m</td><td>1983</td><td>2021-09-27 03:19:46.994811</td><td>s_96119</td><td>2021-09-27 03:19</td><td>2021-09-27 03</td><td>2021-09-27</td><td>2021-09</td><td>2021</td></tr>\n",
       "</tbody>\n",
       "</table>\n"
      ],
      "text/latex": [
       "A data.table: 6 × 13\n",
       "\\begin{tabular}{lllllllllllll}\n",
       " id\\_prod & price & categ & client\\_id & sex & birth & date & session\\_id & minute & heure & jour & mois & year\\\\\n",
       " <chr> & <dbl> & <chr> & <chr> & <chr> & <int> & <chr> & <chr> & <chr> & <chr> & <date> & <chr> & <chr>\\\\\n",
       "\\hline\n",
       "\t 1\\_10  & 78.83 & 1 & c\\_4594 & m & 1951 & 2021-09-29 10:35:08.570290 & s\\_97368 & 2021-09-29 10:35 & 2021-09-29 10 & 2021-09-29 & 2021-09 & 2021\\\\\n",
       "\t 1\\_10  & 78.83 & 1 & c\\_5894 & m & 1975 & 2021-09-19 16:49:44.618286 & s\\_92344 & 2021-09-19 16:49 & 2021-09-19 16 & 2021-09-19 & 2021-09 & 2021\\\\\n",
       "\t 1\\_10  & 78.83 & 1 & c\\_8502 & f & 1975 & 2021-09-23 21:57:16.154567 & s\\_94457 & 2021-09-23 21:57 & 2021-09-23 21 & 2021-09-23 & 2021-09 & 2021\\\\\n",
       "\t 1\\_100 & 15.13 & 1 & c\\_233  & m & 2004 & 2021-10-01 08:19:20.139763 & s\\_98314 & 2021-10-01 08:19 & 2021-10-01 08 & 2021-10-01 & 2021-10 & 2021\\\\\n",
       "\t 1\\_100 & 15.13 & 1 & c\\_3285 & m & 1989 & 2021-10-01 18:06:12.971592 & s\\_98522 & 2021-10-01 18:06 & 2021-10-01 18 & 2021-10-01 & 2021-10 & 2021\\\\\n",
       "\t 1\\_100 & 15.13 & 1 & c\\_356  & m & 1983 & 2021-09-27 03:19:46.994811 & s\\_96119 & 2021-09-27 03:19 & 2021-09-27 03 & 2021-09-27 & 2021-09 & 2021\\\\\n",
       "\\end{tabular}\n"
      ],
      "text/markdown": [
       "\n",
       "A data.table: 6 × 13\n",
       "\n",
       "| id_prod &lt;chr&gt; | price &lt;dbl&gt; | categ &lt;chr&gt; | client_id &lt;chr&gt; | sex &lt;chr&gt; | birth &lt;int&gt; | date &lt;chr&gt; | session_id &lt;chr&gt; | minute &lt;chr&gt; | heure &lt;chr&gt; | jour &lt;date&gt; | mois &lt;chr&gt; | year &lt;chr&gt; |\n",
       "|---|---|---|---|---|---|---|---|---|---|---|---|---|\n",
       "| 1_10  | 78.83 | 1 | c_4594 | m | 1951 | 2021-09-29 10:35:08.570290 | s_97368 | 2021-09-29 10:35 | 2021-09-29 10 | 2021-09-29 | 2021-09 | 2021 |\n",
       "| 1_10  | 78.83 | 1 | c_5894 | m | 1975 | 2021-09-19 16:49:44.618286 | s_92344 | 2021-09-19 16:49 | 2021-09-19 16 | 2021-09-19 | 2021-09 | 2021 |\n",
       "| 1_10  | 78.83 | 1 | c_8502 | f | 1975 | 2021-09-23 21:57:16.154567 | s_94457 | 2021-09-23 21:57 | 2021-09-23 21 | 2021-09-23 | 2021-09 | 2021 |\n",
       "| 1_100 | 15.13 | 1 | c_233  | m | 2004 | 2021-10-01 08:19:20.139763 | s_98314 | 2021-10-01 08:19 | 2021-10-01 08 | 2021-10-01 | 2021-10 | 2021 |\n",
       "| 1_100 | 15.13 | 1 | c_3285 | m | 1989 | 2021-10-01 18:06:12.971592 | s_98522 | 2021-10-01 18:06 | 2021-10-01 18 | 2021-10-01 | 2021-10 | 2021 |\n",
       "| 1_100 | 15.13 | 1 | c_356  | m | 1983 | 2021-09-27 03:19:46.994811 | s_96119 | 2021-09-27 03:19 | 2021-09-27 03 | 2021-09-27 | 2021-09 | 2021 |\n",
       "\n"
      ],
      "text/plain": [
       "  id_prod price categ client_id sex birth date                       session_id\n",
       "1 1_10    78.83 1     c_4594    m   1951  2021-09-29 10:35:08.570290 s_97368   \n",
       "2 1_10    78.83 1     c_5894    m   1975  2021-09-19 16:49:44.618286 s_92344   \n",
       "3 1_10    78.83 1     c_8502    f   1975  2021-09-23 21:57:16.154567 s_94457   \n",
       "4 1_100   15.13 1     c_233     m   2004  2021-10-01 08:19:20.139763 s_98314   \n",
       "5 1_100   15.13 1     c_3285    m   1989  2021-10-01 18:06:12.971592 s_98522   \n",
       "6 1_100   15.13 1     c_356     m   1983  2021-09-27 03:19:46.994811 s_96119   \n",
       "  minute           heure         jour       mois    year\n",
       "1 2021-09-29 10:35 2021-09-29 10 2021-09-29 2021-09 2021\n",
       "2 2021-09-19 16:49 2021-09-19 16 2021-09-19 2021-09 2021\n",
       "3 2021-09-23 21:57 2021-09-23 21 2021-09-23 2021-09 2021\n",
       "4 2021-10-01 08:19 2021-10-01 08 2021-10-01 2021-10 2021\n",
       "5 2021-10-01 18:06 2021-10-01 18 2021-10-01 2021-10 2021\n",
       "6 2021-09-27 03:19 2021-09-27 03 2021-09-27 2021-09 2021"
      ]
     },
     "metadata": {},
     "output_type": "display_data"
    }
   ],
   "source": [
    "comp_1 <- Transactions_Produits_Clients_categ_1[jour>=\"2021-09-19\" & jour<=\"2021-10-01\",]\n",
    "dim(comp_1)\n",
    "head(comp_1)"
   ]
  },
  {
   "cell_type": "code",
   "execution_count": 41,
   "id": "9f0b9a09-89c3-4503-aea1-74161a4644f7",
   "metadata": {},
   "outputs": [
    {
     "data": {
      "text/html": [
       "<style>\n",
       ".list-inline {list-style: none; margin:0; padding: 0}\n",
       ".list-inline>li {display: inline-block}\n",
       ".list-inline>li:not(:last-child)::after {content: \"\\00b7\"; padding: 0 .5ex}\n",
       "</style>\n",
       "<ol class=list-inline><li>5078</li><li>13</li></ol>\n"
      ],
      "text/latex": [
       "\\begin{enumerate*}\n",
       "\\item 5078\n",
       "\\item 13\n",
       "\\end{enumerate*}\n"
      ],
      "text/markdown": [
       "1. 5078\n",
       "2. 13\n",
       "\n",
       "\n"
      ],
      "text/plain": [
       "[1] 5078   13"
      ]
     },
     "metadata": {},
     "output_type": "display_data"
    },
    {
     "data": {
      "text/html": [
       "<table class=\"dataframe\">\n",
       "<caption>A data.table: 6 × 13</caption>\n",
       "<thead>\n",
       "\t<tr><th scope=col>id_prod</th><th scope=col>price</th><th scope=col>categ</th><th scope=col>client_id</th><th scope=col>sex</th><th scope=col>birth</th><th scope=col>date</th><th scope=col>session_id</th><th scope=col>minute</th><th scope=col>heure</th><th scope=col>jour</th><th scope=col>mois</th><th scope=col>year</th></tr>\n",
       "\t<tr><th scope=col>&lt;chr&gt;</th><th scope=col>&lt;dbl&gt;</th><th scope=col>&lt;chr&gt;</th><th scope=col>&lt;chr&gt;</th><th scope=col>&lt;chr&gt;</th><th scope=col>&lt;int&gt;</th><th scope=col>&lt;chr&gt;</th><th scope=col>&lt;chr&gt;</th><th scope=col>&lt;chr&gt;</th><th scope=col>&lt;chr&gt;</th><th scope=col>&lt;date&gt;</th><th scope=col>&lt;chr&gt;</th><th scope=col>&lt;chr&gt;</th></tr>\n",
       "</thead>\n",
       "<tbody>\n",
       "\t<tr><td>1_10 </td><td>78.83</td><td>1</td><td>c_5997</td><td>f</td><td>1968</td><td>2021-11-02 16:57:09.030527</td><td>s_113777</td><td>2021-11-02 16:57</td><td>2021-11-02 16</td><td>2021-11-02</td><td>2021-11</td><td>2021</td></tr>\n",
       "\t<tr><td>1_100</td><td>15.13</td><td>1</td><td>c_3268</td><td>m</td><td>1963</td><td>2021-11-09 11:39:37.651011</td><td>s_117040</td><td>2021-11-09 11:39</td><td>2021-11-09 11</td><td>2021-11-09</td><td>2021-11</td><td>2021</td></tr>\n",
       "\t<tr><td>1_100</td><td>15.13</td><td>1</td><td>c_4389</td><td>m</td><td>1984</td><td>2021-10-29 21:39:02.389356</td><td>s_111983</td><td>2021-10-29 21:39</td><td>2021-10-29 21</td><td>2021-10-29</td><td>2021-10</td><td>2021</td></tr>\n",
       "\t<tr><td>1_100</td><td>15.13</td><td>1</td><td>c_5782</td><td>f</td><td>1975</td><td>2021-11-02 13:18:50.551803</td><td>s_113715</td><td>2021-11-02 13:18</td><td>2021-11-02 13</td><td>2021-11-02</td><td>2021-11</td><td>2021</td></tr>\n",
       "\t<tr><td>1_100</td><td>15.13</td><td>1</td><td>c_5920</td><td>f</td><td>1966</td><td>2021-10-28 12:30:41.500950</td><td>s_111329</td><td>2021-10-28 12:30</td><td>2021-10-28 12</td><td>2021-10-28</td><td>2021-10</td><td>2021</td></tr>\n",
       "\t<tr><td>1_100</td><td>15.13</td><td>1</td><td>c_6259</td><td>m</td><td>1991</td><td>2021-10-31 23:12:18.324853</td><td>s_112940</td><td>2021-10-31 23:12</td><td>2021-10-31 23</td><td>2021-10-31</td><td>2021-10</td><td>2021</td></tr>\n",
       "</tbody>\n",
       "</table>\n"
      ],
      "text/latex": [
       "A data.table: 6 × 13\n",
       "\\begin{tabular}{lllllllllllll}\n",
       " id\\_prod & price & categ & client\\_id & sex & birth & date & session\\_id & minute & heure & jour & mois & year\\\\\n",
       " <chr> & <dbl> & <chr> & <chr> & <chr> & <int> & <chr> & <chr> & <chr> & <chr> & <date> & <chr> & <chr>\\\\\n",
       "\\hline\n",
       "\t 1\\_10  & 78.83 & 1 & c\\_5997 & f & 1968 & 2021-11-02 16:57:09.030527 & s\\_113777 & 2021-11-02 16:57 & 2021-11-02 16 & 2021-11-02 & 2021-11 & 2021\\\\\n",
       "\t 1\\_100 & 15.13 & 1 & c\\_3268 & m & 1963 & 2021-11-09 11:39:37.651011 & s\\_117040 & 2021-11-09 11:39 & 2021-11-09 11 & 2021-11-09 & 2021-11 & 2021\\\\\n",
       "\t 1\\_100 & 15.13 & 1 & c\\_4389 & m & 1984 & 2021-10-29 21:39:02.389356 & s\\_111983 & 2021-10-29 21:39 & 2021-10-29 21 & 2021-10-29 & 2021-10 & 2021\\\\\n",
       "\t 1\\_100 & 15.13 & 1 & c\\_5782 & f & 1975 & 2021-11-02 13:18:50.551803 & s\\_113715 & 2021-11-02 13:18 & 2021-11-02 13 & 2021-11-02 & 2021-11 & 2021\\\\\n",
       "\t 1\\_100 & 15.13 & 1 & c\\_5920 & f & 1966 & 2021-10-28 12:30:41.500950 & s\\_111329 & 2021-10-28 12:30 & 2021-10-28 12 & 2021-10-28 & 2021-10 & 2021\\\\\n",
       "\t 1\\_100 & 15.13 & 1 & c\\_6259 & m & 1991 & 2021-10-31 23:12:18.324853 & s\\_112940 & 2021-10-31 23:12 & 2021-10-31 23 & 2021-10-31 & 2021-10 & 2021\\\\\n",
       "\\end{tabular}\n"
      ],
      "text/markdown": [
       "\n",
       "A data.table: 6 × 13\n",
       "\n",
       "| id_prod &lt;chr&gt; | price &lt;dbl&gt; | categ &lt;chr&gt; | client_id &lt;chr&gt; | sex &lt;chr&gt; | birth &lt;int&gt; | date &lt;chr&gt; | session_id &lt;chr&gt; | minute &lt;chr&gt; | heure &lt;chr&gt; | jour &lt;date&gt; | mois &lt;chr&gt; | year &lt;chr&gt; |\n",
       "|---|---|---|---|---|---|---|---|---|---|---|---|---|\n",
       "| 1_10  | 78.83 | 1 | c_5997 | f | 1968 | 2021-11-02 16:57:09.030527 | s_113777 | 2021-11-02 16:57 | 2021-11-02 16 | 2021-11-02 | 2021-11 | 2021 |\n",
       "| 1_100 | 15.13 | 1 | c_3268 | m | 1963 | 2021-11-09 11:39:37.651011 | s_117040 | 2021-11-09 11:39 | 2021-11-09 11 | 2021-11-09 | 2021-11 | 2021 |\n",
       "| 1_100 | 15.13 | 1 | c_4389 | m | 1984 | 2021-10-29 21:39:02.389356 | s_111983 | 2021-10-29 21:39 | 2021-10-29 21 | 2021-10-29 | 2021-10 | 2021 |\n",
       "| 1_100 | 15.13 | 1 | c_5782 | f | 1975 | 2021-11-02 13:18:50.551803 | s_113715 | 2021-11-02 13:18 | 2021-11-02 13 | 2021-11-02 | 2021-11 | 2021 |\n",
       "| 1_100 | 15.13 | 1 | c_5920 | f | 1966 | 2021-10-28 12:30:41.500950 | s_111329 | 2021-10-28 12:30 | 2021-10-28 12 | 2021-10-28 | 2021-10 | 2021 |\n",
       "| 1_100 | 15.13 | 1 | c_6259 | m | 1991 | 2021-10-31 23:12:18.324853 | s_112940 | 2021-10-31 23:12 | 2021-10-31 23 | 2021-10-31 | 2021-10 | 2021 |\n",
       "\n"
      ],
      "text/plain": [
       "  id_prod price categ client_id sex birth date                       session_id\n",
       "1 1_10    78.83 1     c_5997    f   1968  2021-11-02 16:57:09.030527 s_113777  \n",
       "2 1_100   15.13 1     c_3268    m   1963  2021-11-09 11:39:37.651011 s_117040  \n",
       "3 1_100   15.13 1     c_4389    m   1984  2021-10-29 21:39:02.389356 s_111983  \n",
       "4 1_100   15.13 1     c_5782    f   1975  2021-11-02 13:18:50.551803 s_113715  \n",
       "5 1_100   15.13 1     c_5920    f   1966  2021-10-28 12:30:41.500950 s_111329  \n",
       "6 1_100   15.13 1     c_6259    m   1991  2021-10-31 23:12:18.324853 s_112940  \n",
       "  minute           heure         jour       mois    year\n",
       "1 2021-11-02 16:57 2021-11-02 16 2021-11-02 2021-11 2021\n",
       "2 2021-11-09 11:39 2021-11-09 11 2021-11-09 2021-11 2021\n",
       "3 2021-10-29 21:39 2021-10-29 21 2021-10-29 2021-10 2021\n",
       "4 2021-11-02 13:18 2021-11-02 13 2021-11-02 2021-11 2021\n",
       "5 2021-10-28 12:30 2021-10-28 12 2021-10-28 2021-10 2021\n",
       "6 2021-10-31 23:12 2021-10-31 23 2021-10-31 2021-10 2021"
      ]
     },
     "metadata": {},
     "output_type": "display_data"
    }
   ],
   "source": [
    "comp_2 <- Transactions_Produits_Clients_categ_1[jour>=\"2021-10-28\" & jour<=\"2021-11-10\",]\n",
    "dim(comp_2)\n",
    "head(comp_2)"
   ]
  },
  {
   "cell_type": "code",
   "execution_count": 43,
   "id": "b520e38d-9c75-4b60-bc2d-460f8b757e1c",
   "metadata": {},
   "outputs": [
    {
     "name": "stderr",
     "output_type": "stream",
     "text": [
      "\u001b[1m\u001b[22m`summarise()` has grouped output by 'jour'. You can override using the\n",
      "`.groups` argument.\n"
     ]
    },
    {
     "name": "stdout",
     "output_type": "stream",
     "text": [
      "[1] \"Le nombre de jours de vente de catégorie 0 au mois de septembre 2021 est : 30 .\"\n",
      "[1] \"Le nombre de jours de vente de catégorie 1 au mois de septembre 2021 est : 30 .\"\n",
      "[1] \"Le nombre de jours de vente de catégorie 2 au mois de septembre 2021 est : 30 .\"\n"
     ]
    },
    {
     "data": {
      "image/png": "[encoded data removed]",
      "text/plain": [
       "plot without title"
      ]
     },
     "metadata": {
      "image/png": {
       "height": 420,
       "width": 420
      }
     },
     "output_type": "display_data"
    }
   ],
   "source": [
    "# 09_2021 jour categ\n",
    "\n",
    "Transactions_Produits_Clients_09_2021 <- Transactions_Produits_Clients[mois==\"2021-09\",]\n",
    "#head(Transactions_Produits_Clients_09_2021)\n",
    "\n",
    "session_jour_09_2021 <- Transactions_Produits_Clients_09_2021 %>% \n",
    "  group_by(jour,categ) %>% \n",
    "  dplyr::summarise(nb_session = n())\n",
    "\n",
    "session_jour_09_2021_0<-session_jour_09_2021[session_jour_09_2021$categ == '0',]\n",
    "session_jour_09_2021_1<-session_jour_09_2021[session_jour_09_2021$categ == '1',]\n",
    "session_jour_09_2021_2<-session_jour_09_2021[session_jour_09_2021$categ == '2',]\n",
    "\n",
    "print(paste(\"Le nombre de jours de vente de catégorie 0 au mois de septembre 2021 est :\", format(dim(session_jour_09_2021_0)[1]), \".\"))\n",
    "print(paste(\"Le nombre de jours de vente de catégorie 1 au mois de septembre 2021 est :\", format(dim(session_jour_09_2021_1)[1]), \".\"))\n",
    "print(paste(\"Le nombre de jours de vente de catégorie 2 au mois de septembre 2021 est :\", format(dim(session_jour_09_2021_2)[1]), \".\"))\n",
    "\n",
    "plot_session_jour_09_2021 <- ggplot(session_jour_09_2021, aes(jour, nb_session, group = 1)) +\n",
    "  geom_point() +\n",
    " geom_line() +\n",
    "  theme(axis.text.x = element_text(angle=30, hjust=1))+\n",
    "  labs(x = \"jour\", y = \"nb_session\", \n",
    "       title = \"categ\")\n",
    "plot_session_jour_09_2021 + facet_grid(. ~ categ)"
   ]
  },
  {
   "cell_type": "code",
   "execution_count": 44,
   "id": "b297bc23-2ca5-4b08-8b9f-e37ebda5237c",
   "metadata": {},
   "outputs": [
    {
     "name": "stderr",
     "output_type": "stream",
     "text": [
      "\u001b[1m\u001b[22m`summarise()` has grouped output by 'jour'. You can override using the\n",
      "`.groups` argument.\n"
     ]
    },
    {
     "name": "stdout",
     "output_type": "stream",
     "text": [
      "[1] \"Le nombre de jours de vente de catégorie 0 au mois de novembre 2021 est : 30 .\"\n",
      "[1] \"Le nombre de jours de vente de catégorie 1 au mois de novembre 2021 est : 30 .\"\n",
      "[1] \"Le nombre de jours de vente de catégorie 2 au mois de novembre 2021 est : 30 .\"\n"
     ]
    },
    {
     "data": {
      "image/png": "[encoded data removed]",
      "text/plain": [
       "plot without title"
      ]
     },
     "metadata": {
      "image/png": {
       "height": 420,
       "width": 420
      }
     },
     "output_type": "display_data"
    }
   ],
   "source": [
    "# 11_2021 jour categ\n",
    "\n",
    "Transactions_Produits_Clients_11_2021 <- Transactions_Produits_Clients[mois==\"2021-11\",]\n",
    "#head(Transactions_Produits_Clients_11_2021)\n",
    "\n",
    "session_jour_11_2021 <- Transactions_Produits_Clients_11_2021 %>% \n",
    "  group_by(jour,categ) %>% \n",
    "  dplyr::summarise(nb_session = n())\n",
    "\n",
    "session_jour_11_2021_0<-session_jour_11_2021[session_jour_11_2021$categ == '0',]\n",
    "session_jour_11_2021_1<-session_jour_11_2021[session_jour_11_2021$categ == '1',]\n",
    "session_jour_11_2021_2<-session_jour_11_2021[session_jour_11_2021$categ == '2',]\n",
    "\n",
    "print(paste(\"Le nombre de jours de vente de catégorie 0 au mois de novembre 2021 est :\", format(dim(session_jour_11_2021_0)[1]), \".\"))\n",
    "print(paste(\"Le nombre de jours de vente de catégorie 1 au mois de novembre 2021 est :\", format(dim(session_jour_11_2021_1)[1]), \".\"))\n",
    "print(paste(\"Le nombre de jours de vente de catégorie 2 au mois de novembre 2021 est :\", format(dim(session_jour_11_2021_2)[1]), \".\"))\n",
    "\n",
    "plot_session_jour_11_2021 <- ggplot(session_jour_11_2021, aes(jour, nb_session, group = 1)) +\n",
    "  geom_point() +\n",
    " geom_line() +\n",
    "  theme(axis.text.x = element_text(angle=30, hjust=1))+\n",
    "  labs(x = \"jour\", y = \"nb_session\", \n",
    "       title = \"categ\")\n",
    "plot_session_jour_09_2021 + facet_grid(categ ~ .)"
   ]
  },
  {
   "cell_type": "code",
   "execution_count": 47,
   "id": "01f1ff19-2cd8-49e7-aa9e-773a2d5b8afe",
   "metadata": {},
   "outputs": [
    {
     "data": {
      "image/png": "[encoded data removed]",
      "text/plain": [
       "Plot with title “Histogram”"
      ]
     },
     "metadata": {
      "image/png": {
       "height": 420,
       "width": 420
      }
     },
     "output_type": "display_data"
    }
   ],
   "source": [
    "h = hist(Transactions_Produits_Clients$price, main=\"Histogram\", col=\"lightblue\", xlab=\"Prix\")\n",
    "abline(v = 80, col=\"red\", lwd=5, lty=5)"
   ]
  },
  {
   "cell_type": "code",
   "execution_count": 48,
   "id": "d10e7884-f6d3-48e4-a966-6ec8465ac8f7",
   "metadata": {},
   "outputs": [
    {
     "data": {
      "image/png": "[encoded data removed]",
      "text/plain": [
       "Plot with title “Histogram”"
      ]
     },
     "metadata": {
      "image/png": {
       "height": 420,
       "width": 420
      }
     },
     "output_type": "display_data"
    }
   ],
   "source": [
    "n_breaks <- sqrt(nrow(Transactions_Produits_Clients))\n",
    "h = hist(Transactions_Produits_Clients$price, main=\"Histogram\", col=\"lightblue\", xlab=\"Prix\",breaks = n_breaks)\n",
    "#abline(v=80, col=\"red\")\n",
    "abline(v = 70, col=\"red\", lwd=5, lty=5)"
   ]
  },
  {
   "cell_type": "code",
   "execution_count": 49,
   "id": "fe8f89d0-fc43-45c8-af68-4652874fd1a0",
   "metadata": {},
   "outputs": [
    {
     "data": {
      "image/png": "[encoded data removed]",
      "text/plain": [
       "Plot with title “Scatter plot”"
      ]
     },
     "metadata": {
      "image/png": {
       "height": 420,
       "width": 420
      }
     },
     "output_type": "display_data"
    },
    {
     "data": {
      "image/png": "[encoded data removed]",
      "text/plain": [
       "Plot with title “Normal Q-Q plot”"
      ]
     },
     "metadata": {
      "image/png": {
       "height": 420,
       "width": 420
      }
     },
     "output_type": "display_data"
    },
    {
     "data": {
      "image/png": "[encoded data removed]",
      "text/plain": [
       "Plot with title “Boxplot”"
      ]
     },
     "metadata": {
      "image/png": {
       "height": 420,
       "width": 420
      }
     },
     "output_type": "display_data"
    }
   ],
   "source": [
    "plot(Transactions_Produits_Clients$price, col=\"blue\", ylab=\"Prix\", main=\"Scatter plot\")\n",
    "#abline(h=80, col=\"red\")\n",
    "abline(h = 80, col=\"red\", lwd=5, lty=5)\n",
    "qqnorm(Transactions_Produits_Clients$price,col=\"blue\", ylab=\"Prix\", main = \"Normal Q-Q plot\")\n",
    "abline(h = 80, col=\"red\", lwd=5, lty=5)\n",
    "boxplot(Transactions_Produits_Clients$price,col=\"blue\",ylab=\"Prix\", main = \"Boxplot\")\n",
    "#boxplot(sans_NA_liaison_erp_web$price, main = \"Boxplot horizontal\", horizontal = TRUE)"
   ]
  },
  {
   "cell_type": "code",
   "execution_count": 50,
   "id": "fc6d8161-6874-4e1c-a743-2077b94a1f02",
   "metadata": {},
   "outputs": [],
   "source": [
    "#IQR(Transactions_Produits_Clients$price) #10.12\n",
    "#summary(Transactions_Produits_Clients$price)\n",
    "# Min. 1st Qu.  Median    Mean 3rd Qu.    Max. \n",
    "#   0.62    8.87   13.99   17.45   18.99  300.00 "
   ]
  },
  {
   "cell_type": "code",
   "execution_count": 51,
   "id": "cb7cda17-6e12-4a2e-a795-2e5669c6d72c",
   "metadata": {},
   "outputs": [
    {
     "data": {
      "text/html": [
       "<style>\n",
       ".list-inline {list-style: none; margin:0; padding: 0}\n",
       ".list-inline>li {display: inline-block}\n",
       ".list-inline>li:not(:last-child)::after {content: \"\\00b7\"; padding: 0 .5ex}\n",
       "</style>\n",
       "<ol class=list-inline><li>42606</li><li>13</li></ol>\n"
      ],
      "text/latex": [
       "\\begin{enumerate*}\n",
       "\\item 42606\n",
       "\\item 13\n",
       "\\end{enumerate*}\n"
      ],
      "text/markdown": [
       "1. 42606\n",
       "2. 13\n",
       "\n",
       "\n"
      ],
      "text/plain": [
       "[1] 42606    13"
      ]
     },
     "metadata": {},
     "output_type": "display_data"
    },
    {
     "data": {
      "text/html": [
       "<table class=\"dataframe\">\n",
       "<caption>A data.table: 6 × 13</caption>\n",
       "<thead>\n",
       "\t<tr><th scope=col>id_prod</th><th scope=col>price</th><th scope=col>categ</th><th scope=col>client_id</th><th scope=col>sex</th><th scope=col>birth</th><th scope=col>date</th><th scope=col>session_id</th><th scope=col>minute</th><th scope=col>heure</th><th scope=col>jour</th><th scope=col>mois</th><th scope=col>year</th></tr>\n",
       "\t<tr><th scope=col>&lt;chr&gt;</th><th scope=col>&lt;dbl&gt;</th><th scope=col>&lt;chr&gt;</th><th scope=col>&lt;chr&gt;</th><th scope=col>&lt;chr&gt;</th><th scope=col>&lt;int&gt;</th><th scope=col>&lt;chr&gt;</th><th scope=col>&lt;chr&gt;</th><th scope=col>&lt;chr&gt;</th><th scope=col>&lt;chr&gt;</th><th scope=col>&lt;date&gt;</th><th scope=col>&lt;chr&gt;</th><th scope=col>&lt;chr&gt;</th></tr>\n",
       "</thead>\n",
       "<tbody>\n",
       "\t<tr><td>1_306</td><td>34.18</td><td>1</td><td>c_1469</td><td>f</td><td>1980</td><td>2022-01-10 05:24:22.590748</td><td>s_147614</td><td>2022-01-10 05:24</td><td>2022-01-10 05</td><td>2022-01-10</td><td>2022-01</td><td>2022</td></tr>\n",
       "\t<tr><td>1_306</td><td>34.18</td><td>1</td><td>c_1609</td><td>m</td><td>1980</td><td>2022-01-19 18:55:10.341281</td><td>s_152241</td><td>2022-01-19 18:55</td><td>2022-01-19 18</td><td>2022-01-19</td><td>2022-01</td><td>2022</td></tr>\n",
       "\t<tr><td>1_306</td><td>34.18</td><td>1</td><td>c_1891</td><td>f</td><td>1973</td><td>2021-12-01 01:56:53.220041</td><td>s_127590</td><td>2021-12-01 01:56</td><td>2021-12-01 01</td><td>2021-12-01</td><td>2021-12</td><td>2021</td></tr>\n",
       "\t<tr><td>1_306</td><td>34.18</td><td>1</td><td>c_1925</td><td>m</td><td>1965</td><td>2022-02-12 14:32:33.212093</td><td>s_164041</td><td>2022-02-12 14:32</td><td>2022-02-12 14</td><td>2022-02-12</td><td>2022-02</td><td>2022</td></tr>\n",
       "\t<tr><td>1_306</td><td>34.18</td><td>1</td><td>c_3030</td><td>m</td><td>1989</td><td>2021-09-20 16:23:45.251232</td><td>s_92829 </td><td>2021-09-20 16:23</td><td>2021-09-20 16</td><td>2021-09-20</td><td>2021-09</td><td>2021</td></tr>\n",
       "\t<tr><td>1_306</td><td>34.18</td><td>1</td><td>c_3090</td><td>f</td><td>1974</td><td>2022-06-07 16:04:40.987717</td><td>s_220257</td><td>2022-06-07 16:04</td><td>2022-06-07 16</td><td>2022-06-07</td><td>2022-06</td><td>2022</td></tr>\n",
       "</tbody>\n",
       "</table>\n"
      ],
      "text/latex": [
       "A data.table: 6 × 13\n",
       "\\begin{tabular}{lllllllllllll}\n",
       " id\\_prod & price & categ & client\\_id & sex & birth & date & session\\_id & minute & heure & jour & mois & year\\\\\n",
       " <chr> & <dbl> & <chr> & <chr> & <chr> & <int> & <chr> & <chr> & <chr> & <chr> & <date> & <chr> & <chr>\\\\\n",
       "\\hline\n",
       "\t 1\\_306 & 34.18 & 1 & c\\_1469 & f & 1980 & 2022-01-10 05:24:22.590748 & s\\_147614 & 2022-01-10 05:24 & 2022-01-10 05 & 2022-01-10 & 2022-01 & 2022\\\\\n",
       "\t 1\\_306 & 34.18 & 1 & c\\_1609 & m & 1980 & 2022-01-19 18:55:10.341281 & s\\_152241 & 2022-01-19 18:55 & 2022-01-19 18 & 2022-01-19 & 2022-01 & 2022\\\\\n",
       "\t 1\\_306 & 34.18 & 1 & c\\_1891 & f & 1973 & 2021-12-01 01:56:53.220041 & s\\_127590 & 2021-12-01 01:56 & 2021-12-01 01 & 2021-12-01 & 2021-12 & 2021\\\\\n",
       "\t 1\\_306 & 34.18 & 1 & c\\_1925 & m & 1965 & 2022-02-12 14:32:33.212093 & s\\_164041 & 2022-02-12 14:32 & 2022-02-12 14 & 2022-02-12 & 2022-02 & 2022\\\\\n",
       "\t 1\\_306 & 34.18 & 1 & c\\_3030 & m & 1989 & 2021-09-20 16:23:45.251232 & s\\_92829  & 2021-09-20 16:23 & 2021-09-20 16 & 2021-09-20 & 2021-09 & 2021\\\\\n",
       "\t 1\\_306 & 34.18 & 1 & c\\_3090 & f & 1974 & 2022-06-07 16:04:40.987717 & s\\_220257 & 2022-06-07 16:04 & 2022-06-07 16 & 2022-06-07 & 2022-06 & 2022\\\\\n",
       "\\end{tabular}\n"
      ],
      "text/markdown": [
       "\n",
       "A data.table: 6 × 13\n",
       "\n",
       "| id_prod &lt;chr&gt; | price &lt;dbl&gt; | categ &lt;chr&gt; | client_id &lt;chr&gt; | sex &lt;chr&gt; | birth &lt;int&gt; | date &lt;chr&gt; | session_id &lt;chr&gt; | minute &lt;chr&gt; | heure &lt;chr&gt; | jour &lt;date&gt; | mois &lt;chr&gt; | year &lt;chr&gt; |\n",
       "|---|---|---|---|---|---|---|---|---|---|---|---|---|\n",
       "| 1_306 | 34.18 | 1 | c_1469 | f | 1980 | 2022-01-10 05:24:22.590748 | s_147614 | 2022-01-10 05:24 | 2022-01-10 05 | 2022-01-10 | 2022-01 | 2022 |\n",
       "| 1_306 | 34.18 | 1 | c_1609 | m | 1980 | 2022-01-19 18:55:10.341281 | s_152241 | 2022-01-19 18:55 | 2022-01-19 18 | 2022-01-19 | 2022-01 | 2022 |\n",
       "| 1_306 | 34.18 | 1 | c_1891 | f | 1973 | 2021-12-01 01:56:53.220041 | s_127590 | 2021-12-01 01:56 | 2021-12-01 01 | 2021-12-01 | 2021-12 | 2021 |\n",
       "| 1_306 | 34.18 | 1 | c_1925 | m | 1965 | 2022-02-12 14:32:33.212093 | s_164041 | 2022-02-12 14:32 | 2022-02-12 14 | 2022-02-12 | 2022-02 | 2022 |\n",
       "| 1_306 | 34.18 | 1 | c_3030 | m | 1989 | 2021-09-20 16:23:45.251232 | s_92829  | 2021-09-20 16:23 | 2021-09-20 16 | 2021-09-20 | 2021-09 | 2021 |\n",
       "| 1_306 | 34.18 | 1 | c_3090 | f | 1974 | 2022-06-07 16:04:40.987717 | s_220257 | 2022-06-07 16:04 | 2022-06-07 16 | 2022-06-07 | 2022-06 | 2022 |\n",
       "\n"
      ],
      "text/plain": [
       "  id_prod price categ client_id sex birth date                       session_id\n",
       "1 1_306   34.18 1     c_1469    f   1980  2022-01-10 05:24:22.590748 s_147614  \n",
       "2 1_306   34.18 1     c_1609    m   1980  2022-01-19 18:55:10.341281 s_152241  \n",
       "3 1_306   34.18 1     c_1891    f   1973  2021-12-01 01:56:53.220041 s_127590  \n",
       "4 1_306   34.18 1     c_1925    m   1965  2022-02-12 14:32:33.212093 s_164041  \n",
       "5 1_306   34.18 1     c_3030    m   1989  2021-09-20 16:23:45.251232 s_92829   \n",
       "6 1_306   34.18 1     c_3090    f   1974  2022-06-07 16:04:40.987717 s_220257  \n",
       "  minute           heure         jour       mois    year\n",
       "1 2022-01-10 05:24 2022-01-10 05 2022-01-10 2022-01 2022\n",
       "2 2022-01-19 18:55 2022-01-19 18 2022-01-19 2022-01 2022\n",
       "3 2021-12-01 01:56 2021-12-01 01 2021-12-01 2021-12 2021\n",
       "4 2022-02-12 14:32 2022-02-12 14 2022-02-12 2022-02 2022\n",
       "5 2021-09-20 16:23 2021-09-20 16 2021-09-20 2021-09 2021\n",
       "6 2022-06-07 16:04 2022-06-07 16 2022-06-07 2022-06 2022"
      ]
     },
     "metadata": {},
     "output_type": "display_data"
    },
    {
     "data": {
      "text/html": [
       "<table class=\"dataframe\">\n",
       "<caption>A data.table: 100 × 13</caption>\n",
       "<thead>\n",
       "\t<tr><th scope=col>id_prod</th><th scope=col>price</th><th scope=col>categ</th><th scope=col>client_id</th><th scope=col>sex</th><th scope=col>birth</th><th scope=col>date</th><th scope=col>session_id</th><th scope=col>minute</th><th scope=col>heure</th><th scope=col>jour</th><th scope=col>mois</th><th scope=col>year</th></tr>\n",
       "\t<tr><th scope=col>&lt;chr&gt;</th><th scope=col>&lt;dbl&gt;</th><th scope=col>&lt;chr&gt;</th><th scope=col>&lt;chr&gt;</th><th scope=col>&lt;chr&gt;</th><th scope=col>&lt;int&gt;</th><th scope=col>&lt;chr&gt;</th><th scope=col>&lt;chr&gt;</th><th scope=col>&lt;chr&gt;</th><th scope=col>&lt;chr&gt;</th><th scope=col>&lt;date&gt;</th><th scope=col>&lt;chr&gt;</th><th scope=col>&lt;chr&gt;</th></tr>\n",
       "</thead>\n",
       "<tbody>\n",
       "\t<tr><td>2_2  </td><td>300.00</td><td>2</td><td>c_1001</td><td>m</td><td>1982</td><td>2021-03-07 14:07:31.004391</td><td>s_3041  </td><td>2021-03-07 14:07</td><td>2021-03-07 14</td><td>2021-03-07</td><td>2021-03</td><td>2021</td></tr>\n",
       "\t<tr><td>2_2  </td><td>300.00</td><td>2</td><td>c_2329</td><td>f</td><td>1996</td><td>2021-05-02 18:34:47.753888</td><td>s_28956 </td><td>2021-05-02 18:34</td><td>2021-05-02 18</td><td>2021-05-02</td><td>2021-05</td><td>2021</td></tr>\n",
       "\t<tr><td>2_2  </td><td>300.00</td><td>2</td><td>c_2467</td><td>f</td><td>1997</td><td>2021-06-06 23:14:33.815188</td><td>s_45088 </td><td>2021-06-06 23:14</td><td>2021-06-06 23</td><td>2021-06-06</td><td>2021-06</td><td>2021</td></tr>\n",
       "\t<tr><td>2_2  </td><td>300.00</td><td>2</td><td>c_2467</td><td>f</td><td>1997</td><td>2022-12-06 23:14:33.815188</td><td>s_308128</td><td>2022-12-06 23:14</td><td>2022-12-06 23</td><td>2022-12-06</td><td>2022-12</td><td>2022</td></tr>\n",
       "\t<tr><td>2_2  </td><td>300.00</td><td>2</td><td>c_4958</td><td>m</td><td>1999</td><td>2022-12-07 06:52:26.810576</td><td>s_308301</td><td>2022-12-07 06:52</td><td>2022-12-07 06</td><td>2022-12-07</td><td>2022-12</td><td>2022</td></tr>\n",
       "\t<tr><td>2_2  </td><td>300.00</td><td>2</td><td>c_4958</td><td>m</td><td>1999</td><td>2021-12-07 06:52:26.810576</td><td>s_130658</td><td>2021-12-07 06:52</td><td>2021-12-07 06</td><td>2021-12-07</td><td>2021-12</td><td>2021</td></tr>\n",
       "\t<tr><td>2_2  </td><td>300.00</td><td>2</td><td>c_4958</td><td>m</td><td>1999</td><td>2022-06-07 06:52:26.810576</td><td>s_220074</td><td>2022-06-07 06:52</td><td>2022-06-07 06</td><td>2022-06-07</td><td>2022-06</td><td>2022</td></tr>\n",
       "\t<tr><td>2_2  </td><td>300.00</td><td>2</td><td>c_4958</td><td>m</td><td>1999</td><td>2022-08-07 06:52:26.810576</td><td>s_249625</td><td>2022-08-07 06:52</td><td>2022-08-07 06</td><td>2022-08-07</td><td>2022-08</td><td>2022</td></tr>\n",
       "\t<tr><td>2_2  </td><td>300.00</td><td>2</td><td>c_4958</td><td>m</td><td>1999</td><td>2021-12-04 15:45:14.708313</td><td>s_129351</td><td>2021-12-04 15:45</td><td>2021-12-04 15</td><td>2021-12-04</td><td>2021-12</td><td>2021</td></tr>\n",
       "\t<tr><td>2_2  </td><td>300.00</td><td>2</td><td>c_4958</td><td>m</td><td>1999</td><td>2021-03-26 04:33:19.697459</td><td>s_11582 </td><td>2021-03-26 04:33</td><td>2021-03-26 04</td><td>2021-03-26</td><td>2021-03</td><td>2021</td></tr>\n",
       "\t<tr><td>2_2  </td><td>300.00</td><td>2</td><td>c_5237</td><td>m</td><td>1999</td><td>2021-06-12 08:44:00.882917</td><td>s_47558 </td><td>2021-06-12 08:44</td><td>2021-06-12 08</td><td>2021-06-12</td><td>2021-06</td><td>2021</td></tr>\n",
       "\t<tr><td>2_2  </td><td>300.00</td><td>2</td><td>c_5237</td><td>m</td><td>1999</td><td>2022-08-12 08:44:00.882917</td><td>s_252144</td><td>2022-08-12 08:44</td><td>2022-08-12 08</td><td>2022-08-12</td><td>2022-08</td><td>2022</td></tr>\n",
       "\t<tr><td>2_2  </td><td>300.00</td><td>2</td><td>c_659 </td><td>f</td><td>2001</td><td>2022-03-28 21:24:28.442508</td><td>s_185980</td><td>2022-03-28 21:24</td><td>2022-03-28 21</td><td>2022-03-28</td><td>2022-03</td><td>2022</td></tr>\n",
       "\t<tr><td>2_2  </td><td>300.00</td><td>2</td><td>c_659 </td><td>f</td><td>2001</td><td>2022-02-28 21:24:28.442508</td><td>s_172373</td><td>2022-02-28 21:24</td><td>2022-02-28 21</td><td>2022-02-28</td><td>2022-02</td><td>2022</td></tr>\n",
       "\t<tr><td>2_2  </td><td>300.00</td><td>2</td><td>c_659 </td><td>f</td><td>2001</td><td>2022-11-28 21:24:28.442508</td><td>s_304241</td><td>2022-11-28 21:24</td><td>2022-11-28 21</td><td>2022-11-28</td><td>2022-11</td><td>2022</td></tr>\n",
       "\t<tr><td>2_76 </td><td>254.44</td><td>2</td><td>c_2221</td><td>m</td><td>1997</td><td>2022-11-20 02:53:26.747301</td><td>s_300049</td><td>2022-11-20 02:53</td><td>2022-11-20 02</td><td>2022-11-20</td><td>2022-11</td><td>2022</td></tr>\n",
       "\t<tr><td>2_76 </td><td>254.44</td><td>2</td><td>c_2221</td><td>m</td><td>1997</td><td>2021-11-20 02:53:26.747301</td><td>s_122253</td><td>2021-11-20 02:53</td><td>2021-11-20 02</td><td>2021-11-20</td><td>2021-11</td><td>2021</td></tr>\n",
       "\t<tr><td>2_76 </td><td>254.44</td><td>2</td><td>c_2791</td><td>m</td><td>2004</td><td>2022-03-12 14:52:15.909705</td><td>s_178123</td><td>2022-03-12 14:52</td><td>2022-03-12 14</td><td>2022-03-12</td><td>2022-03</td><td>2022</td></tr>\n",
       "\t<tr><td>2_76 </td><td>254.44</td><td>2</td><td>c_2791</td><td>m</td><td>2004</td><td>2022-07-12 14:52:15.909705</td><td>s_237362</td><td>2022-07-12 14:52</td><td>2022-07-12 14</td><td>2022-07-12</td><td>2022-07</td><td>2022</td></tr>\n",
       "\t<tr><td>2_76 </td><td>254.44</td><td>2</td><td>c_2791</td><td>m</td><td>2004</td><td>2022-09-12 14:52:15.909705</td><td>s_266986</td><td>2022-09-12 14:52</td><td>2022-09-12 14</td><td>2022-09-12</td><td>2022-09</td><td>2022</td></tr>\n",
       "\t<tr><td>2_76 </td><td>254.44</td><td>2</td><td>c_2791</td><td>m</td><td>2004</td><td>2021-08-12 14:52:15.909705</td><td>s_74790 </td><td>2021-08-12 14:52</td><td>2021-08-12 14</td><td>2021-08-12</td><td>2021-08</td><td>2021</td></tr>\n",
       "\t<tr><td>2_76 </td><td>254.44</td><td>2</td><td>c_665 </td><td>f</td><td>2004</td><td>2021-12-13 16:41:52.579788</td><td>s_133825</td><td>2021-12-13 16:41</td><td>2021-12-13 16</td><td>2021-12-13</td><td>2021-12</td><td>2021</td></tr>\n",
       "\t<tr><td>2_76 </td><td>254.44</td><td>2</td><td>c_7578</td><td>m</td><td>1995</td><td>2021-06-25 16:42:42.846215</td><td>s_53679 </td><td>2021-06-25 16:42</td><td>2021-06-25 16</td><td>2021-06-25</td><td>2021-06</td><td>2021</td></tr>\n",
       "\t<tr><td>2_76 </td><td>254.44</td><td>2</td><td>c_7578</td><td>m</td><td>1995</td><td>2022-12-25 16:42:42.846215</td><td>s_317224</td><td>2022-12-25 16:42</td><td>2022-12-25 16</td><td>2022-12-25</td><td>2022-12</td><td>2022</td></tr>\n",
       "\t<tr><td>2_158</td><td>247.22</td><td>2</td><td>c_1026</td><td>m</td><td>1998</td><td>2022-08-24 02:50:03.608628</td><td>s_257607</td><td>2022-08-24 02:50</td><td>2022-08-24 02</td><td>2022-08-24</td><td>2022-08</td><td>2022</td></tr>\n",
       "\t<tr><td>2_158</td><td>247.22</td><td>2</td><td>c_1026</td><td>m</td><td>1998</td><td>2021-11-24 02:50:03.608628</td><td>s_124181</td><td>2021-11-24 02:50</td><td>2021-11-24 02</td><td>2021-11-24</td><td>2021-11</td><td>2021</td></tr>\n",
       "\t<tr><td>2_158</td><td>247.22</td><td>2</td><td>c_1052</td><td>m</td><td>2001</td><td>2021-03-01 20:35:35.567503</td><td>s_429   </td><td>2021-03-01 20:35</td><td>2021-03-01 20</td><td>2021-03-01</td><td>2021-03</td><td>2021</td></tr>\n",
       "\t<tr><td>2_158</td><td>247.22</td><td>2</td><td>c_1052</td><td>m</td><td>2001</td><td>2022-12-01 20:35:35.567503</td><td>s_305719</td><td>2022-12-01 20:35</td><td>2022-12-01 20</td><td>2022-12-01</td><td>2022-12</td><td>2022</td></tr>\n",
       "\t<tr><td>2_158</td><td>247.22</td><td>2</td><td>c_1052</td><td>m</td><td>2001</td><td>2022-10-01 20:35:35.567503</td><td>s_276371</td><td>2022-10-01 20:35</td><td>2022-10-01 20</td><td>2022-10-01</td><td>2022-10</td><td>2022</td></tr>\n",
       "\t<tr><td>2_158</td><td>247.22</td><td>2</td><td>c_1052</td><td>m</td><td>2001</td><td>2023-01-01 20:35:35.567503</td><td>s_320581</td><td>2023-01-01 20:35</td><td>2023-01-01 20</td><td>2023-01-01</td><td>2023-01</td><td>2023</td></tr>\n",
       "\t<tr><td>⋮</td><td>⋮</td><td>⋮</td><td>⋮</td><td>⋮</td><td>⋮</td><td>⋮</td><td>⋮</td><td>⋮</td><td>⋮</td><td>⋮</td><td>⋮</td><td>⋮</td></tr>\n",
       "\t<tr><td>2_158</td><td>247.22</td><td>2</td><td>c_4517</td><td>f</td><td>1995</td><td>2023-01-26 21:00:48.815258</td><td>s_332843</td><td>2023-01-26 21:00</td><td>2023-01-26 21</td><td>2023-01-26</td><td>2023-01</td><td>2023</td></tr>\n",
       "\t<tr><td>2_158</td><td>247.22</td><td>2</td><td>c_4517</td><td>f</td><td>1995</td><td>2021-09-26 21:00:48.815258</td><td>s_96003 </td><td>2021-09-26 21:00</td><td>2021-09-26 21</td><td>2021-09-26</td><td>2021-09</td><td>2021</td></tr>\n",
       "\t<tr><td>2_158</td><td>247.22</td><td>2</td><td>c_4658</td><td>m</td><td>1998</td><td>2022-02-25 03:23:22.152753</td><td>s_170478</td><td>2022-02-25 03:23</td><td>2022-02-25 03</td><td>2022-02-25</td><td>2022-02</td><td>2022</td></tr>\n",
       "\t<tr><td>2_158</td><td>247.22</td><td>2</td><td>c_4672</td><td>m</td><td>1987</td><td>2022-06-23 15:27:24.473229</td><td>s_228150</td><td>2022-06-23 15:27</td><td>2022-06-23 15</td><td>2022-06-23</td><td>2022-06</td><td>2022</td></tr>\n",
       "\t<tr><td>2_158</td><td>247.22</td><td>2</td><td>c_4672</td><td>m</td><td>1987</td><td>2021-03-23 15:27:24.473229</td><td>s_10414 </td><td>2021-03-23 15:27</td><td>2021-03-23 15</td><td>2021-03-23</td><td>2021-03</td><td>2021</td></tr>\n",
       "\t<tr><td>2_158</td><td>247.22</td><td>2</td><td>c_4737</td><td>f</td><td>1982</td><td>2022-01-28 09:55:13.229529</td><td>s_156379</td><td>2022-01-28 09:55</td><td>2022-01-28 09</td><td>2022-01-28</td><td>2022-01</td><td>2022</td></tr>\n",
       "\t<tr><td>2_158</td><td>247.22</td><td>2</td><td>c_4737</td><td>f</td><td>1982</td><td>2022-08-28 09:55:13.229529</td><td>s_259690</td><td>2022-08-28 09:55</td><td>2022-08-28 09</td><td>2022-08-28</td><td>2022-08</td><td>2022</td></tr>\n",
       "\t<tr><td>2_158</td><td>247.22</td><td>2</td><td>c_4737</td><td>f</td><td>1982</td><td>2022-10-28 09:55:13.229529</td><td>s_289193</td><td>2022-10-28 09:55</td><td>2022-10-28 09</td><td>2022-10-28</td><td>2022-10</td><td>2022</td></tr>\n",
       "\t<tr><td>2_158</td><td>247.22</td><td>2</td><td>c_4738</td><td>m</td><td>2001</td><td>2021-10-24 17:41:01.154485</td><td>s_109551</td><td>2021-10-24 17:41</td><td>2021-10-24 17</td><td>2021-10-24</td><td>2021-10</td><td>2021</td></tr>\n",
       "\t<tr><td>2_158</td><td>247.22</td><td>2</td><td>c_4791</td><td>m</td><td>1998</td><td>2022-12-03 07:53:47.503208</td><td>s_306423</td><td>2022-12-03 07:53</td><td>2022-12-03 07</td><td>2022-12-03</td><td>2022-12</td><td>2022</td></tr>\n",
       "\t<tr><td>2_158</td><td>247.22</td><td>2</td><td>c_4791</td><td>m</td><td>1998</td><td>2023-02-03 07:53:47.503208</td><td>s_336256</td><td>2023-02-03 07:53</td><td>2023-02-03 07</td><td>2023-02-03</td><td>2023-02</td><td>2023</td></tr>\n",
       "\t<tr><td>2_158</td><td>247.22</td><td>2</td><td>c_4791</td><td>m</td><td>1998</td><td>2021-07-03 07:53:47.503208</td><td>s_57219 </td><td>2021-07-03 07:53</td><td>2021-07-03 07</td><td>2021-07-03</td><td>2021-07</td><td>2021</td></tr>\n",
       "\t<tr><td>2_158</td><td>247.22</td><td>2</td><td>c_4903</td><td>m</td><td>1996</td><td>2021-08-31 12:50:35.451013</td><td>s_83132 </td><td>2021-08-31 12:50</td><td>2021-08-31 12</td><td>2021-08-31</td><td>2021-08</td><td>2021</td></tr>\n",
       "\t<tr><td>2_158</td><td>247.22</td><td>2</td><td>c_4903</td><td>m</td><td>1996</td><td>2023-01-31 12:50:35.451013</td><td>s_334979</td><td>2023-01-31 12:50</td><td>2023-01-31 12</td><td>2023-01-31</td><td>2023-01</td><td>2023</td></tr>\n",
       "\t<tr><td>2_158</td><td>247.22</td><td>2</td><td>c_4958</td><td>m</td><td>1999</td><td>2021-08-08 14:22:10.730697</td><td>s_73025 </td><td>2021-08-08 14:22</td><td>2021-08-08 14</td><td>2021-08-08</td><td>2021-08</td><td>2021</td></tr>\n",
       "\t<tr><td>2_158</td><td>247.22</td><td>2</td><td>c_4958</td><td>m</td><td>1999</td><td>2023-02-08 14:22:10.730697</td><td>s_338708</td><td>2023-02-08 14:22</td><td>2023-02-08 14</td><td>2023-02-08</td><td>2023-02</td><td>2023</td></tr>\n",
       "\t<tr><td>2_158</td><td>247.22</td><td>2</td><td>c_4958</td><td>m</td><td>1999</td><td>2022-12-03 10:09:51.838634</td><td>s_306462</td><td>2022-12-03 10:09</td><td>2022-12-03 10</td><td>2022-12-03</td><td>2022-12</td><td>2022</td></tr>\n",
       "\t<tr><td>2_158</td><td>247.22</td><td>2</td><td>c_4958</td><td>m</td><td>1999</td><td>2022-07-08 14:22:10.730697</td><td>s_235469</td><td>2022-07-08 14:22</td><td>2022-07-08 14</td><td>2022-07-08</td><td>2022-07</td><td>2022</td></tr>\n",
       "\t<tr><td>2_158</td><td>247.22</td><td>2</td><td>c_4958</td><td>m</td><td>1999</td><td>2023-02-03 10:09:51.838634</td><td>s_336295</td><td>2023-02-03 10:09</td><td>2023-02-03 10</td><td>2023-02-03</td><td>2023-02</td><td>2023</td></tr>\n",
       "\t<tr><td>2_158</td><td>247.22</td><td>2</td><td>c_4958</td><td>m</td><td>1999</td><td>2021-07-03 10:09:51.838634</td><td>s_57258 </td><td>2021-07-03 10:09</td><td>2021-07-03 10</td><td>2021-07-03</td><td>2021-07</td><td>2021</td></tr>\n",
       "\t<tr><td>2_158</td><td>247.22</td><td>2</td><td>c_4958</td><td>m</td><td>1999</td><td>2021-08-10 21:36:07.271852</td><td>s_74036 </td><td>2021-08-10 21:36</td><td>2021-08-10 21</td><td>2021-08-10</td><td>2021-08</td><td>2021</td></tr>\n",
       "\t<tr><td>2_158</td><td>247.22</td><td>2</td><td>c_5039</td><td>m</td><td>2004</td><td>2022-12-08 03:47:39.751500</td><td>s_308748</td><td>2022-12-08 03:47</td><td>2022-12-08 03</td><td>2022-12-08</td><td>2022-12</td><td>2022</td></tr>\n",
       "\t<tr><td>2_158</td><td>247.22</td><td>2</td><td>c_5039</td><td>m</td><td>2004</td><td>2022-02-08 03:47:39.751500</td><td>s_161732</td><td>2022-02-08 03:47</td><td>2022-02-08 03</td><td>2022-02-08</td><td>2022-02</td><td>2022</td></tr>\n",
       "\t<tr><td>2_158</td><td>247.22</td><td>2</td><td>c_5039</td><td>m</td><td>2004</td><td>2023-01-08 03:47:39.751500</td><td>s_323634</td><td>2023-01-08 03:47</td><td>2023-01-08 03</td><td>2023-01-08</td><td>2023-01</td><td>2023</td></tr>\n",
       "\t<tr><td>2_158</td><td>247.22</td><td>2</td><td>c_5118</td><td>f</td><td>1994</td><td>2022-10-09 07:50:43.157120</td><td>s_279915</td><td>2022-10-09 07:50</td><td>2022-10-09 07</td><td>2022-10-09</td><td>2022-10</td><td>2022</td></tr>\n",
       "\t<tr><td>2_158</td><td>247.22</td><td>2</td><td>c_5118</td><td>f</td><td>1994</td><td>2021-06-09 07:50:43.157120</td><td>s_46163 </td><td>2021-06-09 07:50</td><td>2021-06-09 07</td><td>2021-06-09</td><td>2021-06</td><td>2021</td></tr>\n",
       "\t<tr><td>2_158</td><td>247.22</td><td>2</td><td>c_5229</td><td>m</td><td>1992</td><td>2021-05-25 02:35:45.194136</td><td>s_39140 </td><td>2021-05-25 02:35</td><td>2021-05-25 02</td><td>2021-05-25</td><td>2021-05</td><td>2021</td></tr>\n",
       "\t<tr><td>2_158</td><td>247.22</td><td>2</td><td>c_5229</td><td>m</td><td>1992</td><td>2022-05-25 02:35:45.194136</td><td>s_213605</td><td>2022-05-25 02:35</td><td>2022-05-25 02</td><td>2022-05-25</td><td>2022-05</td><td>2022</td></tr>\n",
       "\t<tr><td>2_158</td><td>247.22</td><td>2</td><td>c_5575</td><td>f</td><td>1994</td><td>2022-01-30 05:45:24.507109</td><td>s_157277</td><td>2022-01-30 05:45</td><td>2022-01-30 05</td><td>2022-01-30</td><td>2022-01</td><td>2022</td></tr>\n",
       "\t<tr><td>2_158</td><td>247.22</td><td>2</td><td>c_5575</td><td>f</td><td>1994</td><td>2022-04-30 05:45:24.507109</td><td>s_201459</td><td>2022-04-30 05:45</td><td>2022-04-30 05</td><td>2022-04-30</td><td>2022-04</td><td>2022</td></tr>\n",
       "</tbody>\n",
       "</table>\n"
      ],
      "text/latex": [
       "A data.table: 100 × 13\n",
       "\\begin{tabular}{lllllllllllll}\n",
       " id\\_prod & price & categ & client\\_id & sex & birth & date & session\\_id & minute & heure & jour & mois & year\\\\\n",
       " <chr> & <dbl> & <chr> & <chr> & <chr> & <int> & <chr> & <chr> & <chr> & <chr> & <date> & <chr> & <chr>\\\\\n",
       "\\hline\n",
       "\t 2\\_2   & 300.00 & 2 & c\\_1001 & m & 1982 & 2021-03-07 14:07:31.004391 & s\\_3041   & 2021-03-07 14:07 & 2021-03-07 14 & 2021-03-07 & 2021-03 & 2021\\\\\n",
       "\t 2\\_2   & 300.00 & 2 & c\\_2329 & f & 1996 & 2021-05-02 18:34:47.753888 & s\\_28956  & 2021-05-02 18:34 & 2021-05-02 18 & 2021-05-02 & 2021-05 & 2021\\\\\n",
       "\t 2\\_2   & 300.00 & 2 & c\\_2467 & f & 1997 & 2021-06-06 23:14:33.815188 & s\\_45088  & 2021-06-06 23:14 & 2021-06-06 23 & 2021-06-06 & 2021-06 & 2021\\\\\n",
       "\t 2\\_2   & 300.00 & 2 & c\\_2467 & f & 1997 & 2022-12-06 23:14:33.815188 & s\\_308128 & 2022-12-06 23:14 & 2022-12-06 23 & 2022-12-06 & 2022-12 & 2022\\\\\n",
       "\t 2\\_2   & 300.00 & 2 & c\\_4958 & m & 1999 & 2022-12-07 06:52:26.810576 & s\\_308301 & 2022-12-07 06:52 & 2022-12-07 06 & 2022-12-07 & 2022-12 & 2022\\\\\n",
       "\t 2\\_2   & 300.00 & 2 & c\\_4958 & m & 1999 & 2021-12-07 06:52:26.810576 & s\\_130658 & 2021-12-07 06:52 & 2021-12-07 06 & 2021-12-07 & 2021-12 & 2021\\\\\n",
       "\t 2\\_2   & 300.00 & 2 & c\\_4958 & m & 1999 & 2022-06-07 06:52:26.810576 & s\\_220074 & 2022-06-07 06:52 & 2022-06-07 06 & 2022-06-07 & 2022-06 & 2022\\\\\n",
       "\t 2\\_2   & 300.00 & 2 & c\\_4958 & m & 1999 & 2022-08-07 06:52:26.810576 & s\\_249625 & 2022-08-07 06:52 & 2022-08-07 06 & 2022-08-07 & 2022-08 & 2022\\\\\n",
       "\t 2\\_2   & 300.00 & 2 & c\\_4958 & m & 1999 & 2021-12-04 15:45:14.708313 & s\\_129351 & 2021-12-04 15:45 & 2021-12-04 15 & 2021-12-04 & 2021-12 & 2021\\\\\n",
       "\t 2\\_2   & 300.00 & 2 & c\\_4958 & m & 1999 & 2021-03-26 04:33:19.697459 & s\\_11582  & 2021-03-26 04:33 & 2021-03-26 04 & 2021-03-26 & 2021-03 & 2021\\\\\n",
       "\t 2\\_2   & 300.00 & 2 & c\\_5237 & m & 1999 & 2021-06-12 08:44:00.882917 & s\\_47558  & 2021-06-12 08:44 & 2021-06-12 08 & 2021-06-12 & 2021-06 & 2021\\\\\n",
       "\t 2\\_2   & 300.00 & 2 & c\\_5237 & m & 1999 & 2022-08-12 08:44:00.882917 & s\\_252144 & 2022-08-12 08:44 & 2022-08-12 08 & 2022-08-12 & 2022-08 & 2022\\\\\n",
       "\t 2\\_2   & 300.00 & 2 & c\\_659  & f & 2001 & 2022-03-28 21:24:28.442508 & s\\_185980 & 2022-03-28 21:24 & 2022-03-28 21 & 2022-03-28 & 2022-03 & 2022\\\\\n",
       "\t 2\\_2   & 300.00 & 2 & c\\_659  & f & 2001 & 2022-02-28 21:24:28.442508 & s\\_172373 & 2022-02-28 21:24 & 2022-02-28 21 & 2022-02-28 & 2022-02 & 2022\\\\\n",
       "\t 2\\_2   & 300.00 & 2 & c\\_659  & f & 2001 & 2022-11-28 21:24:28.442508 & s\\_304241 & 2022-11-28 21:24 & 2022-11-28 21 & 2022-11-28 & 2022-11 & 2022\\\\\n",
       "\t 2\\_76  & 254.44 & 2 & c\\_2221 & m & 1997 & 2022-11-20 02:53:26.747301 & s\\_300049 & 2022-11-20 02:53 & 2022-11-20 02 & 2022-11-20 & 2022-11 & 2022\\\\\n",
       "\t 2\\_76  & 254.44 & 2 & c\\_2221 & m & 1997 & 2021-11-20 02:53:26.747301 & s\\_122253 & 2021-11-20 02:53 & 2021-11-20 02 & 2021-11-20 & 2021-11 & 2021\\\\\n",
       "\t 2\\_76  & 254.44 & 2 & c\\_2791 & m & 2004 & 2022-03-12 14:52:15.909705 & s\\_178123 & 2022-03-12 14:52 & 2022-03-12 14 & 2022-03-12 & 2022-03 & 2022\\\\\n",
       "\t 2\\_76  & 254.44 & 2 & c\\_2791 & m & 2004 & 2022-07-12 14:52:15.909705 & s\\_237362 & 2022-07-12 14:52 & 2022-07-12 14 & 2022-07-12 & 2022-07 & 2022\\\\\n",
       "\t 2\\_76  & 254.44 & 2 & c\\_2791 & m & 2004 & 2022-09-12 14:52:15.909705 & s\\_266986 & 2022-09-12 14:52 & 2022-09-12 14 & 2022-09-12 & 2022-09 & 2022\\\\\n",
       "\t 2\\_76  & 254.44 & 2 & c\\_2791 & m & 2004 & 2021-08-12 14:52:15.909705 & s\\_74790  & 2021-08-12 14:52 & 2021-08-12 14 & 2021-08-12 & 2021-08 & 2021\\\\\n",
       "\t 2\\_76  & 254.44 & 2 & c\\_665  & f & 2004 & 2021-12-13 16:41:52.579788 & s\\_133825 & 2021-12-13 16:41 & 2021-12-13 16 & 2021-12-13 & 2021-12 & 2021\\\\\n",
       "\t 2\\_76  & 254.44 & 2 & c\\_7578 & m & 1995 & 2021-06-25 16:42:42.846215 & s\\_53679  & 2021-06-25 16:42 & 2021-06-25 16 & 2021-06-25 & 2021-06 & 2021\\\\\n",
       "\t 2\\_76  & 254.44 & 2 & c\\_7578 & m & 1995 & 2022-12-25 16:42:42.846215 & s\\_317224 & 2022-12-25 16:42 & 2022-12-25 16 & 2022-12-25 & 2022-12 & 2022\\\\\n",
       "\t 2\\_158 & 247.22 & 2 & c\\_1026 & m & 1998 & 2022-08-24 02:50:03.608628 & s\\_257607 & 2022-08-24 02:50 & 2022-08-24 02 & 2022-08-24 & 2022-08 & 2022\\\\\n",
       "\t 2\\_158 & 247.22 & 2 & c\\_1026 & m & 1998 & 2021-11-24 02:50:03.608628 & s\\_124181 & 2021-11-24 02:50 & 2021-11-24 02 & 2021-11-24 & 2021-11 & 2021\\\\\n",
       "\t 2\\_158 & 247.22 & 2 & c\\_1052 & m & 2001 & 2021-03-01 20:35:35.567503 & s\\_429    & 2021-03-01 20:35 & 2021-03-01 20 & 2021-03-01 & 2021-03 & 2021\\\\\n",
       "\t 2\\_158 & 247.22 & 2 & c\\_1052 & m & 2001 & 2022-12-01 20:35:35.567503 & s\\_305719 & 2022-12-01 20:35 & 2022-12-01 20 & 2022-12-01 & 2022-12 & 2022\\\\\n",
       "\t 2\\_158 & 247.22 & 2 & c\\_1052 & m & 2001 & 2022-10-01 20:35:35.567503 & s\\_276371 & 2022-10-01 20:35 & 2022-10-01 20 & 2022-10-01 & 2022-10 & 2022\\\\\n",
       "\t 2\\_158 & 247.22 & 2 & c\\_1052 & m & 2001 & 2023-01-01 20:35:35.567503 & s\\_320581 & 2023-01-01 20:35 & 2023-01-01 20 & 2023-01-01 & 2023-01 & 2023\\\\\n",
       "\t ⋮ & ⋮ & ⋮ & ⋮ & ⋮ & ⋮ & ⋮ & ⋮ & ⋮ & ⋮ & ⋮ & ⋮ & ⋮\\\\\n",
       "\t 2\\_158 & 247.22 & 2 & c\\_4517 & f & 1995 & 2023-01-26 21:00:48.815258 & s\\_332843 & 2023-01-26 21:00 & 2023-01-26 21 & 2023-01-26 & 2023-01 & 2023\\\\\n",
       "\t 2\\_158 & 247.22 & 2 & c\\_4517 & f & 1995 & 2021-09-26 21:00:48.815258 & s\\_96003  & 2021-09-26 21:00 & 2021-09-26 21 & 2021-09-26 & 2021-09 & 2021\\\\\n",
       "\t 2\\_158 & 247.22 & 2 & c\\_4658 & m & 1998 & 2022-02-25 03:23:22.152753 & s\\_170478 & 2022-02-25 03:23 & 2022-02-25 03 & 2022-02-25 & 2022-02 & 2022\\\\\n",
       "\t 2\\_158 & 247.22 & 2 & c\\_4672 & m & 1987 & 2022-06-23 15:27:24.473229 & s\\_228150 & 2022-06-23 15:27 & 2022-06-23 15 & 2022-06-23 & 2022-06 & 2022\\\\\n",
       "\t 2\\_158 & 247.22 & 2 & c\\_4672 & m & 1987 & 2021-03-23 15:27:24.473229 & s\\_10414  & 2021-03-23 15:27 & 2021-03-23 15 & 2021-03-23 & 2021-03 & 2021\\\\\n",
       "\t 2\\_158 & 247.22 & 2 & c\\_4737 & f & 1982 & 2022-01-28 09:55:13.229529 & s\\_156379 & 2022-01-28 09:55 & 2022-01-28 09 & 2022-01-28 & 2022-01 & 2022\\\\\n",
       "\t 2\\_158 & 247.22 & 2 & c\\_4737 & f & 1982 & 2022-08-28 09:55:13.229529 & s\\_259690 & 2022-08-28 09:55 & 2022-08-28 09 & 2022-08-28 & 2022-08 & 2022\\\\\n",
       "\t 2\\_158 & 247.22 & 2 & c\\_4737 & f & 1982 & 2022-10-28 09:55:13.229529 & s\\_289193 & 2022-10-28 09:55 & 2022-10-28 09 & 2022-10-28 & 2022-10 & 2022\\\\\n",
       "\t 2\\_158 & 247.22 & 2 & c\\_4738 & m & 2001 & 2021-10-24 17:41:01.154485 & s\\_109551 & 2021-10-24 17:41 & 2021-10-24 17 & 2021-10-24 & 2021-10 & 2021\\\\\n",
       "\t 2\\_158 & 247.22 & 2 & c\\_4791 & m & 1998 & 2022-12-03 07:53:47.503208 & s\\_306423 & 2022-12-03 07:53 & 2022-12-03 07 & 2022-12-03 & 2022-12 & 2022\\\\\n",
       "\t 2\\_158 & 247.22 & 2 & c\\_4791 & m & 1998 & 2023-02-03 07:53:47.503208 & s\\_336256 & 2023-02-03 07:53 & 2023-02-03 07 & 2023-02-03 & 2023-02 & 2023\\\\\n",
       "\t 2\\_158 & 247.22 & 2 & c\\_4791 & m & 1998 & 2021-07-03 07:53:47.503208 & s\\_57219  & 2021-07-03 07:53 & 2021-07-03 07 & 2021-07-03 & 2021-07 & 2021\\\\\n",
       "\t 2\\_158 & 247.22 & 2 & c\\_4903 & m & 1996 & 2021-08-31 12:50:35.451013 & s\\_83132  & 2021-08-31 12:50 & 2021-08-31 12 & 2021-08-31 & 2021-08 & 2021\\\\\n",
       "\t 2\\_158 & 247.22 & 2 & c\\_4903 & m & 1996 & 2023-01-31 12:50:35.451013 & s\\_334979 & 2023-01-31 12:50 & 2023-01-31 12 & 2023-01-31 & 2023-01 & 2023\\\\\n",
       "\t 2\\_158 & 247.22 & 2 & c\\_4958 & m & 1999 & 2021-08-08 14:22:10.730697 & s\\_73025  & 2021-08-08 14:22 & 2021-08-08 14 & 2021-08-08 & 2021-08 & 2021\\\\\n",
       "\t 2\\_158 & 247.22 & 2 & c\\_4958 & m & 1999 & 2023-02-08 14:22:10.730697 & s\\_338708 & 2023-02-08 14:22 & 2023-02-08 14 & 2023-02-08 & 2023-02 & 2023\\\\\n",
       "\t 2\\_158 & 247.22 & 2 & c\\_4958 & m & 1999 & 2022-12-03 10:09:51.838634 & s\\_306462 & 2022-12-03 10:09 & 2022-12-03 10 & 2022-12-03 & 2022-12 & 2022\\\\\n",
       "\t 2\\_158 & 247.22 & 2 & c\\_4958 & m & 1999 & 2022-07-08 14:22:10.730697 & s\\_235469 & 2022-07-08 14:22 & 2022-07-08 14 & 2022-07-08 & 2022-07 & 2022\\\\\n",
       "\t 2\\_158 & 247.22 & 2 & c\\_4958 & m & 1999 & 2023-02-03 10:09:51.838634 & s\\_336295 & 2023-02-03 10:09 & 2023-02-03 10 & 2023-02-03 & 2023-02 & 2023\\\\\n",
       "\t 2\\_158 & 247.22 & 2 & c\\_4958 & m & 1999 & 2021-07-03 10:09:51.838634 & s\\_57258  & 2021-07-03 10:09 & 2021-07-03 10 & 2021-07-03 & 2021-07 & 2021\\\\\n",
       "\t 2\\_158 & 247.22 & 2 & c\\_4958 & m & 1999 & 2021-08-10 21:36:07.271852 & s\\_74036  & 2021-08-10 21:36 & 2021-08-10 21 & 2021-08-10 & 2021-08 & 2021\\\\\n",
       "\t 2\\_158 & 247.22 & 2 & c\\_5039 & m & 2004 & 2022-12-08 03:47:39.751500 & s\\_308748 & 2022-12-08 03:47 & 2022-12-08 03 & 2022-12-08 & 2022-12 & 2022\\\\\n",
       "\t 2\\_158 & 247.22 & 2 & c\\_5039 & m & 2004 & 2022-02-08 03:47:39.751500 & s\\_161732 & 2022-02-08 03:47 & 2022-02-08 03 & 2022-02-08 & 2022-02 & 2022\\\\\n",
       "\t 2\\_158 & 247.22 & 2 & c\\_5039 & m & 2004 & 2023-01-08 03:47:39.751500 & s\\_323634 & 2023-01-08 03:47 & 2023-01-08 03 & 2023-01-08 & 2023-01 & 2023\\\\\n",
       "\t 2\\_158 & 247.22 & 2 & c\\_5118 & f & 1994 & 2022-10-09 07:50:43.157120 & s\\_279915 & 2022-10-09 07:50 & 2022-10-09 07 & 2022-10-09 & 2022-10 & 2022\\\\\n",
       "\t 2\\_158 & 247.22 & 2 & c\\_5118 & f & 1994 & 2021-06-09 07:50:43.157120 & s\\_46163  & 2021-06-09 07:50 & 2021-06-09 07 & 2021-06-09 & 2021-06 & 2021\\\\\n",
       "\t 2\\_158 & 247.22 & 2 & c\\_5229 & m & 1992 & 2021-05-25 02:35:45.194136 & s\\_39140  & 2021-05-25 02:35 & 2021-05-25 02 & 2021-05-25 & 2021-05 & 2021\\\\\n",
       "\t 2\\_158 & 247.22 & 2 & c\\_5229 & m & 1992 & 2022-05-25 02:35:45.194136 & s\\_213605 & 2022-05-25 02:35 & 2022-05-25 02 & 2022-05-25 & 2022-05 & 2022\\\\\n",
       "\t 2\\_158 & 247.22 & 2 & c\\_5575 & f & 1994 & 2022-01-30 05:45:24.507109 & s\\_157277 & 2022-01-30 05:45 & 2022-01-30 05 & 2022-01-30 & 2022-01 & 2022\\\\\n",
       "\t 2\\_158 & 247.22 & 2 & c\\_5575 & f & 1994 & 2022-04-30 05:45:24.507109 & s\\_201459 & 2022-04-30 05:45 & 2022-04-30 05 & 2022-04-30 & 2022-04 & 2022\\\\\n",
       "\\end{tabular}\n"
      ],
      "text/markdown": [
       "\n",
       "A data.table: 100 × 13\n",
       "\n",
       "| id_prod &lt;chr&gt; | price &lt;dbl&gt; | categ &lt;chr&gt; | client_id &lt;chr&gt; | sex &lt;chr&gt; | birth &lt;int&gt; | date &lt;chr&gt; | session_id &lt;chr&gt; | minute &lt;chr&gt; | heure &lt;chr&gt; | jour &lt;date&gt; | mois &lt;chr&gt; | year &lt;chr&gt; |\n",
       "|---|---|---|---|---|---|---|---|---|---|---|---|---|\n",
       "| 2_2   | 300.00 | 2 | c_1001 | m | 1982 | 2021-03-07 14:07:31.004391 | s_3041   | 2021-03-07 14:07 | 2021-03-07 14 | 2021-03-07 | 2021-03 | 2021 |\n",
       "| 2_2   | 300.00 | 2 | c_2329 | f | 1996 | 2021-05-02 18:34:47.753888 | s_28956  | 2021-05-02 18:34 | 2021-05-02 18 | 2021-05-02 | 2021-05 | 2021 |\n",
       "| 2_2   | 300.00 | 2 | c_2467 | f | 1997 | 2021-06-06 23:14:33.815188 | s_45088  | 2021-06-06 23:14 | 2021-06-06 23 | 2021-06-06 | 2021-06 | 2021 |\n",
       "| 2_2   | 300.00 | 2 | c_2467 | f | 1997 | 2022-12-06 23:14:33.815188 | s_308128 | 2022-12-06 23:14 | 2022-12-06 23 | 2022-12-06 | 2022-12 | 2022 |\n",
       "| 2_2   | 300.00 | 2 | c_4958 | m | 1999 | 2022-12-07 06:52:26.810576 | s_308301 | 2022-12-07 06:52 | 2022-12-07 06 | 2022-12-07 | 2022-12 | 2022 |\n",
       "| 2_2   | 300.00 | 2 | c_4958 | m | 1999 | 2021-12-07 06:52:26.810576 | s_130658 | 2021-12-07 06:52 | 2021-12-07 06 | 2021-12-07 | 2021-12 | 2021 |\n",
       "| 2_2   | 300.00 | 2 | c_4958 | m | 1999 | 2022-06-07 06:52:26.810576 | s_220074 | 2022-06-07 06:52 | 2022-06-07 06 | 2022-06-07 | 2022-06 | 2022 |\n",
       "| 2_2   | 300.00 | 2 | c_4958 | m | 1999 | 2022-08-07 06:52:26.810576 | s_249625 | 2022-08-07 06:52 | 2022-08-07 06 | 2022-08-07 | 2022-08 | 2022 |\n",
       "| 2_2   | 300.00 | 2 | c_4958 | m | 1999 | 2021-12-04 15:45:14.708313 | s_129351 | 2021-12-04 15:45 | 2021-12-04 15 | 2021-12-04 | 2021-12 | 2021 |\n",
       "| 2_2   | 300.00 | 2 | c_4958 | m | 1999 | 2021-03-26 04:33:19.697459 | s_11582  | 2021-03-26 04:33 | 2021-03-26 04 | 2021-03-26 | 2021-03 | 2021 |\n",
       "| 2_2   | 300.00 | 2 | c_5237 | m | 1999 | 2021-06-12 08:44:00.882917 | s_47558  | 2021-06-12 08:44 | 2021-06-12 08 | 2021-06-12 | 2021-06 | 2021 |\n",
       "| 2_2   | 300.00 | 2 | c_5237 | m | 1999 | 2022-08-12 08:44:00.882917 | s_252144 | 2022-08-12 08:44 | 2022-08-12 08 | 2022-08-12 | 2022-08 | 2022 |\n",
       "| 2_2   | 300.00 | 2 | c_659  | f | 2001 | 2022-03-28 21:24:28.442508 | s_185980 | 2022-03-28 21:24 | 2022-03-28 21 | 2022-03-28 | 2022-03 | 2022 |\n",
       "| 2_2   | 300.00 | 2 | c_659  | f | 2001 | 2022-02-28 21:24:28.442508 | s_172373 | 2022-02-28 21:24 | 2022-02-28 21 | 2022-02-28 | 2022-02 | 2022 |\n",
       "| 2_2   | 300.00 | 2 | c_659  | f | 2001 | 2022-11-28 21:24:28.442508 | s_304241 | 2022-11-28 21:24 | 2022-11-28 21 | 2022-11-28 | 2022-11 | 2022 |\n",
       "| 2_76  | 254.44 | 2 | c_2221 | m | 1997 | 2022-11-20 02:53:26.747301 | s_300049 | 2022-11-20 02:53 | 2022-11-20 02 | 2022-11-20 | 2022-11 | 2022 |\n",
       "| 2_76  | 254.44 | 2 | c_2221 | m | 1997 | 2021-11-20 02:53:26.747301 | s_122253 | 2021-11-20 02:53 | 2021-11-20 02 | 2021-11-20 | 2021-11 | 2021 |\n",
       "| 2_76  | 254.44 | 2 | c_2791 | m | 2004 | 2022-03-12 14:52:15.909705 | s_178123 | 2022-03-12 14:52 | 2022-03-12 14 | 2022-03-12 | 2022-03 | 2022 |\n",
       "| 2_76  | 254.44 | 2 | c_2791 | m | 2004 | 2022-07-12 14:52:15.909705 | s_237362 | 2022-07-12 14:52 | 2022-07-12 14 | 2022-07-12 | 2022-07 | 2022 |\n",
       "| 2_76  | 254.44 | 2 | c_2791 | m | 2004 | 2022-09-12 14:52:15.909705 | s_266986 | 2022-09-12 14:52 | 2022-09-12 14 | 2022-09-12 | 2022-09 | 2022 |\n",
       "| 2_76  | 254.44 | 2 | c_2791 | m | 2004 | 2021-08-12 14:52:15.909705 | s_74790  | 2021-08-12 14:52 | 2021-08-12 14 | 2021-08-12 | 2021-08 | 2021 |\n",
       "| 2_76  | 254.44 | 2 | c_665  | f | 2004 | 2021-12-13 16:41:52.579788 | s_133825 | 2021-12-13 16:41 | 2021-12-13 16 | 2021-12-13 | 2021-12 | 2021 |\n",
       "| 2_76  | 254.44 | 2 | c_7578 | m | 1995 | 2021-06-25 16:42:42.846215 | s_53679  | 2021-06-25 16:42 | 2021-06-25 16 | 2021-06-25 | 2021-06 | 2021 |\n",
       "| 2_76  | 254.44 | 2 | c_7578 | m | 1995 | 2022-12-25 16:42:42.846215 | s_317224 | 2022-12-25 16:42 | 2022-12-25 16 | 2022-12-25 | 2022-12 | 2022 |\n",
       "| 2_158 | 247.22 | 2 | c_1026 | m | 1998 | 2022-08-24 02:50:03.608628 | s_257607 | 2022-08-24 02:50 | 2022-08-24 02 | 2022-08-24 | 2022-08 | 2022 |\n",
       "| 2_158 | 247.22 | 2 | c_1026 | m | 1998 | 2021-11-24 02:50:03.608628 | s_124181 | 2021-11-24 02:50 | 2021-11-24 02 | 2021-11-24 | 2021-11 | 2021 |\n",
       "| 2_158 | 247.22 | 2 | c_1052 | m | 2001 | 2021-03-01 20:35:35.567503 | s_429    | 2021-03-01 20:35 | 2021-03-01 20 | 2021-03-01 | 2021-03 | 2021 |\n",
       "| 2_158 | 247.22 | 2 | c_1052 | m | 2001 | 2022-12-01 20:35:35.567503 | s_305719 | 2022-12-01 20:35 | 2022-12-01 20 | 2022-12-01 | 2022-12 | 2022 |\n",
       "| 2_158 | 247.22 | 2 | c_1052 | m | 2001 | 2022-10-01 20:35:35.567503 | s_276371 | 2022-10-01 20:35 | 2022-10-01 20 | 2022-10-01 | 2022-10 | 2022 |\n",
       "| 2_158 | 247.22 | 2 | c_1052 | m | 2001 | 2023-01-01 20:35:35.567503 | s_320581 | 2023-01-01 20:35 | 2023-01-01 20 | 2023-01-01 | 2023-01 | 2023 |\n",
       "| ⋮ | ⋮ | ⋮ | ⋮ | ⋮ | ⋮ | ⋮ | ⋮ | ⋮ | ⋮ | ⋮ | ⋮ | ⋮ |\n",
       "| 2_158 | 247.22 | 2 | c_4517 | f | 1995 | 2023-01-26 21:00:48.815258 | s_332843 | 2023-01-26 21:00 | 2023-01-26 21 | 2023-01-26 | 2023-01 | 2023 |\n",
       "| 2_158 | 247.22 | 2 | c_4517 | f | 1995 | 2021-09-26 21:00:48.815258 | s_96003  | 2021-09-26 21:00 | 2021-09-26 21 | 2021-09-26 | 2021-09 | 2021 |\n",
       "| 2_158 | 247.22 | 2 | c_4658 | m | 1998 | 2022-02-25 03:23:22.152753 | s_170478 | 2022-02-25 03:23 | 2022-02-25 03 | 2022-02-25 | 2022-02 | 2022 |\n",
       "| 2_158 | 247.22 | 2 | c_4672 | m | 1987 | 2022-06-23 15:27:24.473229 | s_228150 | 2022-06-23 15:27 | 2022-06-23 15 | 2022-06-23 | 2022-06 | 2022 |\n",
       "| 2_158 | 247.22 | 2 | c_4672 | m | 1987 | 2021-03-23 15:27:24.473229 | s_10414  | 2021-03-23 15:27 | 2021-03-23 15 | 2021-03-23 | 2021-03 | 2021 |\n",
       "| 2_158 | 247.22 | 2 | c_4737 | f | 1982 | 2022-01-28 09:55:13.229529 | s_156379 | 2022-01-28 09:55 | 2022-01-28 09 | 2022-01-28 | 2022-01 | 2022 |\n",
       "| 2_158 | 247.22 | 2 | c_4737 | f | 1982 | 2022-08-28 09:55:13.229529 | s_259690 | 2022-08-28 09:55 | 2022-08-28 09 | 2022-08-28 | 2022-08 | 2022 |\n",
       "| 2_158 | 247.22 | 2 | c_4737 | f | 1982 | 2022-10-28 09:55:13.229529 | s_289193 | 2022-10-28 09:55 | 2022-10-28 09 | 2022-10-28 | 2022-10 | 2022 |\n",
       "| 2_158 | 247.22 | 2 | c_4738 | m | 2001 | 2021-10-24 17:41:01.154485 | s_109551 | 2021-10-24 17:41 | 2021-10-24 17 | 2021-10-24 | 2021-10 | 2021 |\n",
       "| 2_158 | 247.22 | 2 | c_4791 | m | 1998 | 2022-12-03 07:53:47.503208 | s_306423 | 2022-12-03 07:53 | 2022-12-03 07 | 2022-12-03 | 2022-12 | 2022 |\n",
       "| 2_158 | 247.22 | 2 | c_4791 | m | 1998 | 2023-02-03 07:53:47.503208 | s_336256 | 2023-02-03 07:53 | 2023-02-03 07 | 2023-02-03 | 2023-02 | 2023 |\n",
       "| 2_158 | 247.22 | 2 | c_4791 | m | 1998 | 2021-07-03 07:53:47.503208 | s_57219  | 2021-07-03 07:53 | 2021-07-03 07 | 2021-07-03 | 2021-07 | 2021 |\n",
       "| 2_158 | 247.22 | 2 | c_4903 | m | 1996 | 2021-08-31 12:50:35.451013 | s_83132  | 2021-08-31 12:50 | 2021-08-31 12 | 2021-08-31 | 2021-08 | 2021 |\n",
       "| 2_158 | 247.22 | 2 | c_4903 | m | 1996 | 2023-01-31 12:50:35.451013 | s_334979 | 2023-01-31 12:50 | 2023-01-31 12 | 2023-01-31 | 2023-01 | 2023 |\n",
       "| 2_158 | 247.22 | 2 | c_4958 | m | 1999 | 2021-08-08 14:22:10.730697 | s_73025  | 2021-08-08 14:22 | 2021-08-08 14 | 2021-08-08 | 2021-08 | 2021 |\n",
       "| 2_158 | 247.22 | 2 | c_4958 | m | 1999 | 2023-02-08 14:22:10.730697 | s_338708 | 2023-02-08 14:22 | 2023-02-08 14 | 2023-02-08 | 2023-02 | 2023 |\n",
       "| 2_158 | 247.22 | 2 | c_4958 | m | 1999 | 2022-12-03 10:09:51.838634 | s_306462 | 2022-12-03 10:09 | 2022-12-03 10 | 2022-12-03 | 2022-12 | 2022 |\n",
       "| 2_158 | 247.22 | 2 | c_4958 | m | 1999 | 2022-07-08 14:22:10.730697 | s_235469 | 2022-07-08 14:22 | 2022-07-08 14 | 2022-07-08 | 2022-07 | 2022 |\n",
       "| 2_158 | 247.22 | 2 | c_4958 | m | 1999 | 2023-02-03 10:09:51.838634 | s_336295 | 2023-02-03 10:09 | 2023-02-03 10 | 2023-02-03 | 2023-02 | 2023 |\n",
       "| 2_158 | 247.22 | 2 | c_4958 | m | 1999 | 2021-07-03 10:09:51.838634 | s_57258  | 2021-07-03 10:09 | 2021-07-03 10 | 2021-07-03 | 2021-07 | 2021 |\n",
       "| 2_158 | 247.22 | 2 | c_4958 | m | 1999 | 2021-08-10 21:36:07.271852 | s_74036  | 2021-08-10 21:36 | 2021-08-10 21 | 2021-08-10 | 2021-08 | 2021 |\n",
       "| 2_158 | 247.22 | 2 | c_5039 | m | 2004 | 2022-12-08 03:47:39.751500 | s_308748 | 2022-12-08 03:47 | 2022-12-08 03 | 2022-12-08 | 2022-12 | 2022 |\n",
       "| 2_158 | 247.22 | 2 | c_5039 | m | 2004 | 2022-02-08 03:47:39.751500 | s_161732 | 2022-02-08 03:47 | 2022-02-08 03 | 2022-02-08 | 2022-02 | 2022 |\n",
       "| 2_158 | 247.22 | 2 | c_5039 | m | 2004 | 2023-01-08 03:47:39.751500 | s_323634 | 2023-01-08 03:47 | 2023-01-08 03 | 2023-01-08 | 2023-01 | 2023 |\n",
       "| 2_158 | 247.22 | 2 | c_5118 | f | 1994 | 2022-10-09 07:50:43.157120 | s_279915 | 2022-10-09 07:50 | 2022-10-09 07 | 2022-10-09 | 2022-10 | 2022 |\n",
       "| 2_158 | 247.22 | 2 | c_5118 | f | 1994 | 2021-06-09 07:50:43.157120 | s_46163  | 2021-06-09 07:50 | 2021-06-09 07 | 2021-06-09 | 2021-06 | 2021 |\n",
       "| 2_158 | 247.22 | 2 | c_5229 | m | 1992 | 2021-05-25 02:35:45.194136 | s_39140  | 2021-05-25 02:35 | 2021-05-25 02 | 2021-05-25 | 2021-05 | 2021 |\n",
       "| 2_158 | 247.22 | 2 | c_5229 | m | 1992 | 2022-05-25 02:35:45.194136 | s_213605 | 2022-05-25 02:35 | 2022-05-25 02 | 2022-05-25 | 2022-05 | 2022 |\n",
       "| 2_158 | 247.22 | 2 | c_5575 | f | 1994 | 2022-01-30 05:45:24.507109 | s_157277 | 2022-01-30 05:45 | 2022-01-30 05 | 2022-01-30 | 2022-01 | 2022 |\n",
       "| 2_158 | 247.22 | 2 | c_5575 | f | 1994 | 2022-04-30 05:45:24.507109 | s_201459 | 2022-04-30 05:45 | 2022-04-30 05 | 2022-04-30 | 2022-04 | 2022 |\n",
       "\n"
      ],
      "text/plain": [
       "    id_prod price  categ client_id sex birth date                      \n",
       "1   2_2     300.00 2     c_1001    m   1982  2021-03-07 14:07:31.004391\n",
       "2   2_2     300.00 2     c_2329    f   1996  2021-05-02 18:34:47.753888\n",
       "3   2_2     300.00 2     c_2467    f   1997  2021-06-06 23:14:33.815188\n",
       "4   2_2     300.00 2     c_2467    f   1997  2022-12-06 23:14:33.815188\n",
       "5   2_2     300.00 2     c_4958    m   1999  2022-12-07 06:52:26.810576\n",
       "6   2_2     300.00 2     c_4958    m   1999  2021-12-07 06:52:26.810576\n",
       "7   2_2     300.00 2     c_4958    m   1999  2022-06-07 06:52:26.810576\n",
       "8   2_2     300.00 2     c_4958    m   1999  2022-08-07 06:52:26.810576\n",
       "9   2_2     300.00 2     c_4958    m   1999  2021-12-04 15:45:14.708313\n",
       "10  2_2     300.00 2     c_4958    m   1999  2021-03-26 04:33:19.697459\n",
       "11  2_2     300.00 2     c_5237    m   1999  2021-06-12 08:44:00.882917\n",
       "12  2_2     300.00 2     c_5237    m   1999  2022-08-12 08:44:00.882917\n",
       "13  2_2     300.00 2     c_659     f   2001  2022-03-28 21:24:28.442508\n",
       "14  2_2     300.00 2     c_659     f   2001  2022-02-28 21:24:28.442508\n",
       "15  2_2     300.00 2     c_659     f   2001  2022-11-28 21:24:28.442508\n",
       "16  2_76    254.44 2     c_2221    m   1997  2022-11-20 02:53:26.747301\n",
       "17  2_76    254.44 2     c_2221    m   1997  2021-11-20 02:53:26.747301\n",
       "18  2_76    254.44 2     c_2791    m   2004  2022-03-12 14:52:15.909705\n",
       "19  2_76    254.44 2     c_2791    m   2004  2022-07-12 14:52:15.909705\n",
       "20  2_76    254.44 2     c_2791    m   2004  2022-09-12 14:52:15.909705\n",
       "21  2_76    254.44 2     c_2791    m   2004  2021-08-12 14:52:15.909705\n",
       "22  2_76    254.44 2     c_665     f   2004  2021-12-13 16:41:52.579788\n",
       "23  2_76    254.44 2     c_7578    m   1995  2021-06-25 16:42:42.846215\n",
       "24  2_76    254.44 2     c_7578    m   1995  2022-12-25 16:42:42.846215\n",
       "25  2_158   247.22 2     c_1026    m   1998  2022-08-24 02:50:03.608628\n",
       "26  2_158   247.22 2     c_1026    m   1998  2021-11-24 02:50:03.608628\n",
       "27  2_158   247.22 2     c_1052    m   2001  2021-03-01 20:35:35.567503\n",
       "28  2_158   247.22 2     c_1052    m   2001  2022-12-01 20:35:35.567503\n",
       "29  2_158   247.22 2     c_1052    m   2001  2022-10-01 20:35:35.567503\n",
       "30  2_158   247.22 2     c_1052    m   2001  2023-01-01 20:35:35.567503\n",
       "⋮   ⋮       ⋮      ⋮     ⋮         ⋮   ⋮     ⋮                         \n",
       "71  2_158   247.22 2     c_4517    f   1995  2023-01-26 21:00:48.815258\n",
       "72  2_158   247.22 2     c_4517    f   1995  2021-09-26 21:00:48.815258\n",
       "73  2_158   247.22 2     c_4658    m   1998  2022-02-25 03:23:22.152753\n",
       "74  2_158   247.22 2     c_4672    m   1987  2022-06-23 15:27:24.473229\n",
       "75  2_158   247.22 2     c_4672    m   1987  2021-03-23 15:27:24.473229\n",
       "76  2_158   247.22 2     c_4737    f   1982  2022-01-28 09:55:13.229529\n",
       "77  2_158   247.22 2     c_4737    f   1982  2022-08-28 09:55:13.229529\n",
       "78  2_158   247.22 2     c_4737    f   1982  2022-10-28 09:55:13.229529\n",
       "79  2_158   247.22 2     c_4738    m   2001  2021-10-24 17:41:01.154485\n",
       "80  2_158   247.22 2     c_4791    m   1998  2022-12-03 07:53:47.503208\n",
       "81  2_158   247.22 2     c_4791    m   1998  2023-02-03 07:53:47.503208\n",
       "82  2_158   247.22 2     c_4791    m   1998  2021-07-03 07:53:47.503208\n",
       "83  2_158   247.22 2     c_4903    m   1996  2021-08-31 12:50:35.451013\n",
       "84  2_158   247.22 2     c_4903    m   1996  2023-01-31 12:50:35.451013\n",
       "85  2_158   247.22 2     c_4958    m   1999  2021-08-08 14:22:10.730697\n",
       "86  2_158   247.22 2     c_4958    m   1999  2023-02-08 14:22:10.730697\n",
       "87  2_158   247.22 2     c_4958    m   1999  2022-12-03 10:09:51.838634\n",
       "88  2_158   247.22 2     c_4958    m   1999  2022-07-08 14:22:10.730697\n",
       "89  2_158   247.22 2     c_4958    m   1999  2023-02-03 10:09:51.838634\n",
       "90  2_158   247.22 2     c_4958    m   1999  2021-07-03 10:09:51.838634\n",
       "91  2_158   247.22 2     c_4958    m   1999  2021-08-10 21:36:07.271852\n",
       "92  2_158   247.22 2     c_5039    m   2004  2022-12-08 03:47:39.751500\n",
       "93  2_158   247.22 2     c_5039    m   2004  2022-02-08 03:47:39.751500\n",
       "94  2_158   247.22 2     c_5039    m   2004  2023-01-08 03:47:39.751500\n",
       "95  2_158   247.22 2     c_5118    f   1994  2022-10-09 07:50:43.157120\n",
       "96  2_158   247.22 2     c_5118    f   1994  2021-06-09 07:50:43.157120\n",
       "97  2_158   247.22 2     c_5229    m   1992  2021-05-25 02:35:45.194136\n",
       "98  2_158   247.22 2     c_5229    m   1992  2022-05-25 02:35:45.194136\n",
       "99  2_158   247.22 2     c_5575    f   1994  2022-01-30 05:45:24.507109\n",
       "100 2_158   247.22 2     c_5575    f   1994  2022-04-30 05:45:24.507109\n",
       "    session_id minute           heure         jour       mois    year\n",
       "1   s_3041     2021-03-07 14:07 2021-03-07 14 2021-03-07 2021-03 2021\n",
       "2   s_28956    2021-05-02 18:34 2021-05-02 18 2021-05-02 2021-05 2021\n",
       "3   s_45088    2021-06-06 23:14 2021-06-06 23 2021-06-06 2021-06 2021\n",
       "4   s_308128   2022-12-06 23:14 2022-12-06 23 2022-12-06 2022-12 2022\n",
       "5   s_308301   2022-12-07 06:52 2022-12-07 06 2022-12-07 2022-12 2022\n",
       "6   s_130658   2021-12-07 06:52 2021-12-07 06 2021-12-07 2021-12 2021\n",
       "7   s_220074   2022-06-07 06:52 2022-06-07 06 2022-06-07 2022-06 2022\n",
       "8   s_249625   2022-08-07 06:52 2022-08-07 06 2022-08-07 2022-08 2022\n",
       "9   s_129351   2021-12-04 15:45 2021-12-04 15 2021-12-04 2021-12 2021\n",
       "10  s_11582    2021-03-26 04:33 2021-03-26 04 2021-03-26 2021-03 2021\n",
       "11  s_47558    2021-06-12 08:44 2021-06-12 08 2021-06-12 2021-06 2021\n",
       "12  s_252144   2022-08-12 08:44 2022-08-12 08 2022-08-12 2022-08 2022\n",
       "13  s_185980   2022-03-28 21:24 2022-03-28 21 2022-03-28 2022-03 2022\n",
       "14  s_172373   2022-02-28 21:24 2022-02-28 21 2022-02-28 2022-02 2022\n",
       "15  s_304241   2022-11-28 21:24 2022-11-28 21 2022-11-28 2022-11 2022\n",
       "16  s_300049   2022-11-20 02:53 2022-11-20 02 2022-11-20 2022-11 2022\n",
       "17  s_122253   2021-11-20 02:53 2021-11-20 02 2021-11-20 2021-11 2021\n",
       "18  s_178123   2022-03-12 14:52 2022-03-12 14 2022-03-12 2022-03 2022\n",
       "19  s_237362   2022-07-12 14:52 2022-07-12 14 2022-07-12 2022-07 2022\n",
       "20  s_266986   2022-09-12 14:52 2022-09-12 14 2022-09-12 2022-09 2022\n",
       "21  s_74790    2021-08-12 14:52 2021-08-12 14 2021-08-12 2021-08 2021\n",
       "22  s_133825   2021-12-13 16:41 2021-12-13 16 2021-12-13 2021-12 2021\n",
       "23  s_53679    2021-06-25 16:42 2021-06-25 16 2021-06-25 2021-06 2021\n",
       "24  s_317224   2022-12-25 16:42 2022-12-25 16 2022-12-25 2022-12 2022\n",
       "25  s_257607   2022-08-24 02:50 2022-08-24 02 2022-08-24 2022-08 2022\n",
       "26  s_124181   2021-11-24 02:50 2021-11-24 02 2021-11-24 2021-11 2021\n",
       "27  s_429      2021-03-01 20:35 2021-03-01 20 2021-03-01 2021-03 2021\n",
       "28  s_305719   2022-12-01 20:35 2022-12-01 20 2022-12-01 2022-12 2022\n",
       "29  s_276371   2022-10-01 20:35 2022-10-01 20 2022-10-01 2022-10 2022\n",
       "30  s_320581   2023-01-01 20:35 2023-01-01 20 2023-01-01 2023-01 2023\n",
       "⋮   ⋮          ⋮                ⋮             ⋮          ⋮       ⋮   \n",
       "71  s_332843   2023-01-26 21:00 2023-01-26 21 2023-01-26 2023-01 2023\n",
       "72  s_96003    2021-09-26 21:00 2021-09-26 21 2021-09-26 2021-09 2021\n",
       "73  s_170478   2022-02-25 03:23 2022-02-25 03 2022-02-25 2022-02 2022\n",
       "74  s_228150   2022-06-23 15:27 2022-06-23 15 2022-06-23 2022-06 2022\n",
       "75  s_10414    2021-03-23 15:27 2021-03-23 15 2021-03-23 2021-03 2021\n",
       "76  s_156379   2022-01-28 09:55 2022-01-28 09 2022-01-28 2022-01 2022\n",
       "77  s_259690   2022-08-28 09:55 2022-08-28 09 2022-08-28 2022-08 2022\n",
       "78  s_289193   2022-10-28 09:55 2022-10-28 09 2022-10-28 2022-10 2022\n",
       "79  s_109551   2021-10-24 17:41 2021-10-24 17 2021-10-24 2021-10 2021\n",
       "80  s_306423   2022-12-03 07:53 2022-12-03 07 2022-12-03 2022-12 2022\n",
       "81  s_336256   2023-02-03 07:53 2023-02-03 07 2023-02-03 2023-02 2023\n",
       "82  s_57219    2021-07-03 07:53 2021-07-03 07 2021-07-03 2021-07 2021\n",
       "83  s_83132    2021-08-31 12:50 2021-08-31 12 2021-08-31 2021-08 2021\n",
       "84  s_334979   2023-01-31 12:50 2023-01-31 12 2023-01-31 2023-01 2023\n",
       "85  s_73025    2021-08-08 14:22 2021-08-08 14 2021-08-08 2021-08 2021\n",
       "86  s_338708   2023-02-08 14:22 2023-02-08 14 2023-02-08 2023-02 2023\n",
       "87  s_306462   2022-12-03 10:09 2022-12-03 10 2022-12-03 2022-12 2022\n",
       "88  s_235469   2022-07-08 14:22 2022-07-08 14 2022-07-08 2022-07 2022\n",
       "89  s_336295   2023-02-03 10:09 2023-02-03 10 2023-02-03 2023-02 2023\n",
       "90  s_57258    2021-07-03 10:09 2021-07-03 10 2021-07-03 2021-07 2021\n",
       "91  s_74036    2021-08-10 21:36 2021-08-10 21 2021-08-10 2021-08 2021\n",
       "92  s_308748   2022-12-08 03:47 2022-12-08 03 2022-12-08 2022-12 2022\n",
       "93  s_161732   2022-02-08 03:47 2022-02-08 03 2022-02-08 2022-02 2022\n",
       "94  s_323634   2023-01-08 03:47 2023-01-08 03 2023-01-08 2023-01 2023\n",
       "95  s_279915   2022-10-09 07:50 2022-10-09 07 2022-10-09 2022-10 2022\n",
       "96  s_46163    2021-06-09 07:50 2021-06-09 07 2021-06-09 2021-06 2021\n",
       "97  s_39140    2021-05-25 02:35 2021-05-25 02 2021-05-25 2021-05 2021\n",
       "98  s_213605   2022-05-25 02:35 2022-05-25 02 2022-05-25 2022-05 2022\n",
       "99  s_157277   2022-01-30 05:45 2022-01-30 05 2022-01-30 2022-01 2022\n",
       "100 s_201459   2022-04-30 05:45 2022-04-30 05 2022-04-30 2022-04 2022"
      ]
     },
     "metadata": {},
     "output_type": "display_data"
    }
   ],
   "source": [
    "#IQR(Transactions_Produits_Clients$price) #10.12\n",
    "#summary(Transactions_Produits_Clients$price)\n",
    "# Min. 1st Qu.  Median    Mean 3rd Qu.    Max. \n",
    "#0.62    8.87   13.99   17.45   18.99  300.00 \n",
    "#Tmin = Q1-(1.5*IQR)\n",
    "Tmin = 8.87-(1.5*10.12)#-28.0125\n",
    "#Tmax = Q3-(1.5*IQR)\n",
    "Tmax = 18.99+(1.5*10.12)#84.2825\n",
    "\n",
    "# find outlier\n",
    "biggest_IQR <- Transactions_Produits_Clients[which(Transactions_Produits_Clients$price < Tmin | Transactions_Produits_Clients$price > Tmax),]\n",
    "\n",
    "Top_biggest_IQR <- biggest_IQR[order(biggest_IQR$price, decreasing = TRUE),]\n",
    "down_biggest_IQR <- biggest_IQR[order(biggest_IQR$price),]\n",
    "\n",
    "dim(down_biggest_IQR)\n",
    "head(down_biggest_IQR)\n",
    "head(Top_biggest_IQR,100)"
   ]
  },
  {
   "cell_type": "code",
   "execution_count": null,
   "id": "a7a6d613-0489-4cea-8be5-e55f4c564112",
   "metadata": {},
   "outputs": [],
   "source": [
    "fwrite(Transactions_Produits_Clients,\"OUTPUT/Transactions_Produits_Clients.csv\")"
   ]
  },
  {
   "cell_type": "code",
   "execution_count": null,
   "id": "784d6eb1-b2a3-4a8d-a83e-a673af741a5f",
   "metadata": {},
   "outputs": [],
   "source": []
  }
 ],
 "metadata": {
  "kernelspec": {
   "display_name": "Env de test R",
   "language": "R",
   "name": "test_env_r"
  },
  "language_info": {
   "codemirror_mode": "r",
   "file_extension": ".r",
   "mimetype": "text/x-r-source",
   "name": "R",
   "pygments_lexer": "r",
   "version": "4.1.0"
  }
 },
 "nbformat": 4,
 "nbformat_minor": 5
}
